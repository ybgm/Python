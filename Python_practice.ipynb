{
 "cells": [
  {
   "cell_type": "markdown",
   "metadata": {},
   "source": [
    "Python随机练习"
   ]
  },
  {
   "cell_type": "code",
   "execution_count": 1,
   "metadata": {},
   "outputs": [],
   "source": [
    "import pandas as pd\n",
    "import numpy as np\n",
    "from pandas import Series,DataFrame "
   ]
  },
  {
   "cell_type": "code",
   "execution_count": 2,
   "metadata": {},
   "outputs": [
    {
     "name": "stdout",
     "output_type": "stream",
     "text": [
      "[1, 2, 3, 4]\n"
     ]
    }
   ],
   "source": [
    "num = [1,2,3,4]\n",
    "new = num.copy()\n",
    "#re =num*new\n",
    "print (new)"
   ]
  },
  {
   "cell_type": "code",
   "execution_count": 3,
   "metadata": {},
   "outputs": [],
   "source": [
    "num = [1,2,3,4,5]\n",
    "new = []\n",
    "for i in num:\n",
    "    new.append(i**2)\n"
   ]
  },
  {
   "cell_type": "markdown",
   "metadata": {
    "collapsed": true
   },
   "source": [
    "# 随机练习-1"
   ]
  },
  {
   "cell_type": "code",
   "execution_count": 44,
   "metadata": {},
   "outputs": [
    {
     "name": "stdout",
     "output_type": "stream",
     "text": [
      "ahb\n",
      "['a', 'h', 'b']\n",
      "[6, 4, 3, 1, 2, 5]\n",
      "['k', 'm', 'i']\n",
      "a\n",
      "58\n",
      "12\n",
      "7.45392350092242\n"
     ]
    }
   ],
   "source": [
    "import random\n",
    "import string\n",
    "a = random.uniform(0,10)#范围内生成随机浮点数，参数a b 大小关系不受限制\n",
    "b = random.randint(11,20)#随机整数，参数a 必须大于 b\n",
    "c = random.randrange(0,101) #随机偶数\n",
    "d = random.choice(\"qweasdzxc\") #随机字符\n",
    "e = random.sample(\"uiojklnm,\",3) #随机 指定数量 字符\n",
    "items = [1,2,3,4,5,6]\n",
    "random.shuffle(items) #洗牌，随机排序\n",
    "\n",
    "f = random.sample(['a','b','c','d','e','f','g','h','i','j'], 3)\n",
    "\n",
    "st =\"\"\n",
    "g = st.join(f)\n",
    "\n",
    "#string.join(random.sample(['a','b','c','d','e','f','g','h','i','j'], 3)).replace(\" \",\"\")  ??\n",
    "\n",
    "print (g)\n",
    "print (f)\n",
    "#print (st)\n",
    "print (items)\n",
    "print (e)\n",
    "print (d)\n",
    "print (c)\n",
    "print (b)\n",
    "print (a)\n"
   ]
  },
  {
   "cell_type": "code",
   "execution_count": 115,
   "metadata": {
    "collapsed": true
   },
   "outputs": [],
   "source": [
    "def dicmake(**kwargs):\n",
    "\n",
    "    return kwargs"
   ]
  },
  {
   "cell_type": "markdown",
   "metadata": {},
   "source": [
    "# 50种常用的matplotlib可视化-知乎"
   ]
  },
  {
   "cell_type": "code",
   "execution_count": 8,
   "metadata": {
    "collapsed": true
   },
   "outputs": [],
   "source": [
    "import pandas as pd\n",
    "import numpy as np\n",
    "df = pd.read_csv(\"https://raw.githubusercontent.com/selva86/datasets/master/midwest_filter.csv\")"
   ]
  },
  {
   "cell_type": "code",
   "execution_count": 20,
   "metadata": {
    "scrolled": true
   },
   "outputs": [
    {
     "name": "stdout",
     "output_type": "stream",
     "text": [
      "      PID       county state   area  poptotal   popdensity  popwhite  \\\n",
      "0     561        ADAMS    IL  0.052     66090  1270.961540     63917   \n",
      "1     562    ALEXANDER    IL  0.014     10626   759.000000      7054   \n",
      "2     563         BOND    IL  0.022     14991   681.409091     14477   \n",
      "3     564        BOONE    IL  0.017     30806  1812.117650     29344   \n",
      "4     565        BROWN    IL  0.018      5836   324.222222      5264   \n",
      "5     566       BUREAU    IL  0.050     35688   713.760000     35157   \n",
      "6     567      CALHOUN    IL  0.017      5322   313.058824      5298   \n",
      "7     568      CARROLL    IL  0.027     16805   622.407407     16519   \n",
      "8     569         CASS    IL  0.024     13437   559.875000     13384   \n",
      "9     571    CHRISTIAN    IL  0.042     34418   819.476190     34176   \n",
      "10    572        CLARK    IL  0.030     15921   530.700000     15842   \n",
      "11    573         CLAY    IL  0.028     14460   516.428571     14403   \n",
      "12    574      CLINTON    IL  0.029     33944  1170.482760     32688   \n",
      "13    575        COLES    IL  0.030     51644  1721.466670     50177   \n",
      "14    577     CRAWFORD    IL  0.026     19464   748.615385     19300   \n",
      "15    578   CUMBERLAND    IL  0.020     10670   533.500000     10627   \n",
      "16    579      DE KALB    IL  0.038     77932  2050.842110     72968   \n",
      "17    580      DE WITT    IL  0.023     16516   718.086957     16387   \n",
      "18    581      DOUGLAS    IL  0.025     19464   778.560000     19280   \n",
      "19    583        EDGAR    IL  0.036     19595   544.305556     19469   \n",
      "20    584      EDWARDS    IL  0.014      7440   531.428571      7401   \n",
      "21    585    EFFINGHAM    IL  0.028     31704  1132.285710     31523   \n",
      "22    586      FAYETTE    IL  0.044     20893   474.840909     20148   \n",
      "23    587         FORD    IL  0.030     14275   475.833333     14157   \n",
      "24    588     FRANKLIN    IL  0.025     40319  1612.760000     40068   \n",
      "25    589       FULTON    IL  0.052     38080   732.307692     37117   \n",
      "26    590     GALLATIN    IL  0.019      6909   363.631579      6842   \n",
      "27    591       GREENE    IL  0.033     15317   464.151515     15231   \n",
      "28    592       GRUNDY    IL  0.026     32337  1243.730770     31864   \n",
      "29    593     HAMILTON    IL  0.025      8499   339.960000      8462   \n",
      "..    ...          ...   ...    ...       ...          ...       ...   \n",
      "302  3013    LAFAYETTE    WI  0.037     16076   434.486486     16009   \n",
      "303  3014     LANGLADE    WI  0.052     19505   375.096154     19291   \n",
      "304  3015      LINCOLN    WI  0.053     26993   509.301887     26712   \n",
      "305  3018    MARINETTE    WI  0.082     40548   494.487805     40280   \n",
      "306  3019    MARQUETTE    WI  0.027     12321   456.333333     12174   \n",
      "307  3020    MENOMINEE    WI  0.021      3890   185.238095       416   \n",
      "308  3022       MONROE    WI  0.054     36633   678.388889     35983   \n",
      "309  3023       OCONTO    WI  0.060     30226   503.766667     29926   \n",
      "310  3024       ONEIDA    WI  0.071     31679   446.183099     31320   \n",
      "311  3026      OZAUKEE    WI  0.015     72831  4855.400000     71676   \n",
      "312  3027        PEPIN    WI  0.014      7107   507.642857      7070   \n",
      "313  3028       PIERCE    WI  0.034     32765   963.676471     32366   \n",
      "314  3029         POLK    WI  0.055     34773   632.236364     34348   \n",
      "315  3030      PORTAGE    WI  0.048     61405  1279.270830     59972   \n",
      "316  3031        PRICE    WI  0.075     15600   208.000000     15479   \n",
      "317  3033     RICHLAND    WI  0.034     17521   515.323529     17411   \n",
      "318  3035         RUSK    WI  0.055     15079   274.163636     14821   \n",
      "319  3036     ST CROIX    WI  0.044     50251  1142.068180     49895   \n",
      "320  3037         SAUK    WI  0.050     46975   939.500000     46459   \n",
      "321  3038       SAWYER    WI  0.079     14181   179.506329     11962   \n",
      "322  3039      SHAWANO    WI  0.054     37157   688.092593     35251   \n",
      "323  3041       TAYLOR    WI  0.057     18901   331.596491     18807   \n",
      "324  3042  TREMPEALEAU    WI  0.043     25263   587.511628     25160   \n",
      "325  3043       VERNON    WI  0.048     25617   533.687500     25509   \n",
      "326  3044        VILAS    WI  0.060     17707   295.116667     16116   \n",
      "327  3045     WALWORTH    WI  0.032     75000  2343.750000     72747   \n",
      "328  3046     WASHBURN    WI  0.050     13772   275.440000     13585   \n",
      "329  3049      WAUPACA    WI  0.045     46104  1024.533330     45695   \n",
      "330  3050     WAUSHARA    WI  0.037     19385   523.918919     19094   \n",
      "331  3052         WOOD    WI  0.048     73605  1533.437500     72157   \n",
      "\n",
      "     popblack  popamerindian  popasian  ...   percprof  poppovertyknown  \\\n",
      "0        1702             98       249  ...   4.355859            63628   \n",
      "1        3496             19        48  ...   2.870315            10529   \n",
      "2         429             35        16  ...   4.488572            14235   \n",
      "3         127             46       150  ...   4.197800            30337   \n",
      "4         547             14         5  ...   3.367680             4815   \n",
      "5          50             65       195  ...   3.275891            35107   \n",
      "6           1              8        15  ...   3.209601             5241   \n",
      "7         111             30        61  ...   3.055727            16455   \n",
      "8          16              8        23  ...   3.206799            13081   \n",
      "9          82             51        89  ...   3.089998            33788   \n",
      "10         10             26        36  ...   2.776225            15615   \n",
      "11          4             17        29  ...   2.788432            14248   \n",
      "12       1021             48       104  ...   2.875296            32190   \n",
      "13        925             92       341  ...   8.144563            45693   \n",
      "14         63             34        48  ...   3.334084            19123   \n",
      "15          5              6        26  ...   2.690650            10590   \n",
      "16       2069            123      1751  ...  11.150967            69127   \n",
      "17         25             37        43  ...   3.308656            16238   \n",
      "18         16             19        41  ...   3.840637            19140   \n",
      "19         68             24        24  ...   3.676808            19258   \n",
      "20          6              8        19  ...   2.450687             7350   \n",
      "21         12             45        95  ...   3.783950            31229   \n",
      "22        599             40        35  ...   2.986901            19452   \n",
      "23         43             14        40  ...   3.899083            13860   \n",
      "24         36            106        84  ...   2.432571            39703   \n",
      "25        668             83       105  ...   2.997030            36393   \n",
      "26         42             10        11  ...   2.692308             6737   \n",
      "27         14             50        17  ...   2.711594            15096   \n",
      "28         21             45       113  ...   3.938465            31979   \n",
      "29          3             11        21  ...   2.611367             8383   \n",
      "..        ...            ...       ...  ...        ...              ...   \n",
      "302        14             21        19  ...   2.602888            15911   \n",
      "303        13            137        22  ...   2.899559            19234   \n",
      "304        84             96        78  ...   3.443957            26273   \n",
      "305         8            150        63  ...   2.307203            39419   \n",
      "306        31             49        18  ...   2.576774            12182   \n",
      "307         0           3469         0  ...   0.520291             3820   \n",
      "308       141            301       143  ...   2.844734            35485   \n",
      "309        18            212        36  ...   2.378543            29750   \n",
      "310        58            223        56  ...   4.974496            30890   \n",
      "311       492            127       438  ...   9.365039            71600   \n",
      "312         2             18         9  ...   2.817824             6944   \n",
      "313        82             87       172  ...   5.423401            30557   \n",
      "314        23            321        50  ...   3.393293            34105   \n",
      "315       161            255       786  ...   6.019312            57805   \n",
      "316         7             77        27  ...   2.813520            15271   \n",
      "317        12             34        38  ...   3.147935            17254   \n",
      "318        31             82       114  ...   3.019373            14748   \n",
      "319        44            121       148  ...   5.380106            49388   \n",
      "320        54            288        79  ...   3.970738            46193   \n",
      "321        18           2167        15  ...   4.041667            13897   \n",
      "322        42           1762        70  ...   2.455605            36389   \n",
      "323         2             39        44  ...   3.006166            18603   \n",
      "324        12             32        46  ...   2.871216            24533   \n",
      "325        12             36        42  ...   3.624948            25087   \n",
      "326         9           1534        38  ...   4.315256            17446   \n",
      "327       454            201       494  ...   6.082324            71553   \n",
      "328        25            122        33  ...   4.022803            13532   \n",
      "329        22            125        92  ...   3.138596            44412   \n",
      "330        29             70        43  ...   2.620907            19163   \n",
      "331        90            481       722  ...   4.583725            72685   \n",
      "\n",
      "     percpovertyknown  percbelowpoverty  percchildbelowpovert  \\\n",
      "0           96.274777         13.151443             18.011717   \n",
      "1           99.087145         32.244278             45.826514   \n",
      "2           94.956974         12.068844             14.036061   \n",
      "3           98.477569          7.209019             11.179536   \n",
      "4           82.505140         13.520249             13.022889   \n",
      "5           98.372002         10.399635             14.158819   \n",
      "6           98.478016         15.149781             13.787761   \n",
      "7           97.917287         11.710726             17.225462   \n",
      "8           97.350599         13.875086             17.994784   \n",
      "9           98.169562         11.708299             16.320612   \n",
      "10          98.078010         12.007685             15.321547   \n",
      "11          98.533887         16.774284             20.582578   \n",
      "12          94.832666         10.223672             13.299402   \n",
      "13          88.476880         16.748736             16.341941   \n",
      "14          98.248048         10.537050             13.809825   \n",
      "15          99.250234         12.049103             13.603185   \n",
      "16          88.701689         13.544635              8.678238   \n",
      "17          98.316784         10.315310             13.568426   \n",
      "18          98.335388          9.629049             13.293543   \n",
      "19          98.280174         16.003739             22.827628   \n",
      "20          98.790323         12.204082             15.159868   \n",
      "21          98.501766          8.994845             11.599832   \n",
      "22          93.102953         13.618137             16.627635   \n",
      "23          97.092820          9.264069             13.571228   \n",
      "24          98.472184         20.764174             31.074742   \n",
      "25          95.569853         15.494738             22.812225   \n",
      "26          97.510494         21.433873             29.724656   \n",
      "27          98.557159         15.533916             20.030083   \n",
      "28          98.892909          6.616842              6.930472   \n",
      "29          98.635133         19.849696             21.923269   \n",
      "..                ...               ...                   ...   \n",
      "302         98.973625         11.023820             13.316151   \n",
      "303         98.610613         14.625143             21.930683   \n",
      "304         97.332642         10.417539             13.759746   \n",
      "305         97.215646         11.659352             15.133059   \n",
      "306         98.871845         11.607289             15.643027   \n",
      "307         98.200514         48.691099             64.308477   \n",
      "308         96.866214         13.002677             18.092198   \n",
      "309         98.425197         12.094118             14.116632   \n",
      "310         97.509391          9.617999             13.966707   \n",
      "311         98.309786          2.180168              1.918955   \n",
      "312         97.706487         12.615207             14.882122   \n",
      "313         93.261102         10.416598             11.033134   \n",
      "314         98.078969         11.822313             16.015585   \n",
      "315         94.137285         12.895078             13.558998   \n",
      "316         97.891026         10.889922             12.554958   \n",
      "317         98.476114         13.440362             15.792812   \n",
      "318         97.804894         16.578519             20.752427   \n",
      "319         98.282621          6.402365              7.892108   \n",
      "320         98.335285          9.691945             13.104104   \n",
      "321         97.997320         20.544002             29.073570   \n",
      "322         97.933095         11.297370             14.932266   \n",
      "323         98.423364         12.664624             15.965037   \n",
      "324         97.110399         10.675417             12.919976   \n",
      "325         97.931061         15.824929             21.201105   \n",
      "326         98.526007         14.736902             23.043367   \n",
      "327         95.404000          9.641804              8.699613   \n",
      "328         98.257334         15.866095             21.418598   \n",
      "329         96.330036          8.488697             10.071411   \n",
      "330         98.854785         13.786985             20.050708   \n",
      "331         98.750085          8.525831             11.162997   \n",
      "\n",
      "     percadultpoverty  percelderlypoverty  inmetro  category    dot_size  \n",
      "0           11.009776           12.443812        0       AAR  250.944411  \n",
      "1           27.385647           25.228976        0       LHR  185.781260  \n",
      "2           10.852090           12.697410        0       AAR  175.905385  \n",
      "3            5.536013            6.217047        1       ALU  319.823487  \n",
      "4           11.143211           19.200000        0       AAR  130.442161  \n",
      "5            8.179287           11.008586        0       AAR  180.023052  \n",
      "6           12.932331           21.085271        0       LAR  129.021269  \n",
      "7           10.027037            9.525052        0       AAR  168.395572  \n",
      "8           11.914343           13.660180        0       AAR  160.436363  \n",
      "9            9.569700           11.490641        0       AAR  193.478751  \n",
      "10          10.131775           12.595420        0       AAR  156.722930  \n",
      "11          14.464114           17.670078        0       LAR  154.906443  \n",
      "12           9.253834            8.323176        1       LAU  238.155338  \n",
      "13          18.792914           10.993608        0       AAR  308.285309  \n",
      "14           8.870243           10.803387        0       AAR  184.459492  \n",
      "15           9.822264           15.284626        0       AAR  157.079317  \n",
      "16          17.047419            6.453908        1       HAU  350.208656  \n",
      "17           7.955993           12.255345        0       AAR  180.573793  \n",
      "18           7.924795            8.714363        0       AAR  188.270883  \n",
      "19          14.480957           11.762014        0       AAR  158.454663  \n",
      "20          10.950250           11.859528        0       AAR  156.815663  \n",
      "21           6.974466           10.517498        0       AAR  233.293566  \n",
      "22          12.134146           13.435829        0       AAR  149.613110  \n",
      "23           7.325288            8.787402        0       AAR  149.739427  \n",
      "24          19.313537           13.679486        0       LHR  294.448978  \n",
      "25          13.996573           11.019603        0       AAR  182.383827  \n",
      "26          20.005596           16.230032        0       LHR  135.458237  \n",
      "27          13.444049           14.943182        0       AAR  148.252549  \n",
      "28           5.327339           10.462008        1       ALU  247.478443  \n",
      "29          17.050133           23.141967        0       LHR  132.445287  \n",
      "..                ...                 ...      ...       ...         ...  \n",
      "302          9.614670           11.243719        0       AAR  144.476745  \n",
      "303         11.595421           12.787668        0       AAR  136.917464  \n",
      "304          8.592006           10.820212        0       AAR  153.999349  \n",
      "305          9.606424           12.166103        0       AAR  152.113793  \n",
      "306          9.678511           11.458647        0       AAR  147.257441  \n",
      "307         43.312464           18.218623        0       LHR  112.752075  \n",
      "308         10.551326           11.607284        0       AAR  175.520970  \n",
      "309          9.634423           15.588616        0       AAR  153.294819  \n",
      "310          8.109616            8.559414        0       AAR  145.965505  \n",
      "311          1.938504            3.547067        1       HLU  707.176546  \n",
      "312         10.123967           15.131579        0       AAR  153.788186  \n",
      "313         10.337028            9.471418        1       HAU  211.832756  \n",
      "314          9.756650           11.164322        0       AAR  169.646614  \n",
      "315         13.182182           10.509441        0       AAR  252.002029  \n",
      "316          8.145215           14.769573        0       AAR  115.649241  \n",
      "317         12.637111           12.354189        0       AAR  154.765792  \n",
      "318         15.806851           13.128907        0       AAR  124.070637  \n",
      "319          4.972513            9.307219        1       HLU  234.538692  \n",
      "320          8.148088            9.140333        0       AAR  208.755542  \n",
      "321         19.195368           14.179318        0       AHR  112.022528  \n",
      "322          9.105113           11.949530        0       AAR  176.756070  \n",
      "323         10.265319           13.889683        0       AAR  131.380768  \n",
      "324          7.884145           14.565299        0       AAR  163.953990  \n",
      "325         13.449643           14.571429        0       AAR  157.103183  \n",
      "326         14.251978            9.173228        0       AAR  126.737567  \n",
      "327         10.926610            6.894182        0       AAR  387.490366  \n",
      "328         13.642483           14.329455        0       AAR  124.233095  \n",
      "329          6.953799           10.338641        0       AAR  219.578698  \n",
      "330         11.695784           11.804558        0       AAR  155.859825  \n",
      "331          7.375656            7.882918        0       AAR  284.352704  \n",
      "\n",
      "[332 rows x 29 columns]\n"
     ]
    }
   ],
   "source": [
    "#df.info()\n",
    "#df.describe()\n",
    "#df.shape\n",
    "print (df)"
   ]
  },
  {
   "cell_type": "code",
   "execution_count": 2,
   "metadata": {},
   "outputs": [
    {
     "name": "stdout",
     "output_type": "stream",
     "text": [
      "3.0.3\n",
      "0.9.0\n"
     ]
    }
   ],
   "source": [
    "import matplotlib as mpl\n",
    "import matplotlib.pyplot as plt\n",
    "import seaborn as sns\n",
    "import warnings; warnings.filterwarnings(action='once')\n",
    "\n",
    "large = 22; med = 16; small = 12\n",
    "params = {'axes.titlesize': large,\n",
    "          'legend.fontsize': med,\n",
    "          'figure.figsize': (16, 10),\n",
    "          'axes.labelsize': med,\n",
    "          'axes.titlesize': med,\n",
    "          'xtick.labelsize': med,\n",
    "          'ytick.labelsize': med,\n",
    "          'figure.titlesize': large}\n",
    "plt.rcParams.update(params)\n",
    "plt.style.use('seaborn-whitegrid')\n",
    "sns.set_style(\"white\")\n",
    "%matplotlib inline\n",
    "\n",
    "# Version\n",
    "print(mpl.__version__)  #> 3.0.0\n",
    "print(sns.__version__)  #> 0.9.0"
   ]
  },
  {
   "cell_type": "code",
   "execution_count": 13,
   "metadata": {
    "collapsed": true,
    "scrolled": true
   },
   "outputs": [],
   "source": [
    "midwest = pd.read_csv(\"https://raw.githubusercontent.com/selva86/datasets/master/midwest_filter.csv\")\n",
    "categories = np.unique(midwest['category'])\n",
    "colors = [plt.cm.tab10(i/float(len(categories)-1)) \n",
    "          # loat 浮点数   \n",
    "          # matplotlib.cm是matplotlib库中内置的色彩映射函数,tab10是颜色映射列表中的一种 色彩名\n",
    "          # matplotlib.cm.[色彩]('[数据集]')即对[数据集]应用[色彩]\n",
    "          for i in range(len(categories))] # range建立整数列表"
   ]
  },
  {
   "cell_type": "markdown",
   "metadata": {},
   "source": [
    "## 实验，理解代码意思\n",
    "\n",
    "#print(len(categories))\n",
    "for i in range(len(categories)): \n",
    "    print (i)\n",
    "    print(categories[i])\n",
    "a = float(len(categories)-1)\n",
    "i = i in range(len(categories))\n",
    "b = i/float(len(categories)-1)\n",
    "print (a)\n",
    "print (b)\n",
    "\n"
   ]
  },
  {
   "cell_type": "markdown",
   "metadata": {
    "heading_collapsed": true
   },
   "source": [
    "## 实验，理解代码意思\n",
    "print (colors)\n",
    "\n",
    "\n",
    "print (plt.cm.tab10(0))\n",
    "print (\"0.5:   {}\".format(( plt.cm.tab10(0.5))))\n",
    "print (plt.cm.tab10(1))\n",
    "print (plt.cm.tab10(2))\n",
    "print (plt.cm.tab10(3))\n",
    "print (plt.cm.tab10(4))\n",
    "print (plt.cm.tab10(5))\n",
    "print (plt.cm.tab10(6))\n",
    "print (\"6.5:   {}\".format(( plt.cm.tab10(6.5))))\n",
    "print (\"7:     {}\".format(( plt.cm.tab10(7))))\n",
    "print (\"7.5:   {}\".format(( plt.cm.tab10(7.5))))\n",
    "print (\"8:     {}\".format(( plt.cm.tab10(8))))\n",
    "print (\"8.5:   {}\".format(( plt.cm.tab10(8.5))))\n",
    "print (plt.cm.tab10(9))\n",
    "print (plt.cm.tab10(10))\n",
    "print (plt.cm.tab10(11))"
   ]
  },
  {
   "cell_type": "markdown",
   "metadata": {},
   "source": [
    "## 实验，理解代码意思\n",
    "'''\n",
    "import matplotlib.cm\n",
    "print(matplotlib.cm.cmap_d.keys())\n",
    "a = matplotlib.cm.cmap_d.keys()\n",
    "print (len(a))\n",
    "'''\n",
    "\n",
    "for category in enumerate(categories)\n",
    "col1 = midwest.category()\n",
    "data1 = midwest.loc[midwest.category==category, :]"
   ]
  },
  {
   "cell_type": "markdown",
   "metadata": {},
   "source": [
    "##  问题\n",
    "1、为什么选择 tab10 颜色集？\n",
    "2、颜色是如何选择的？\n"
   ]
  },
  {
   "cell_type": "code",
   "execution_count": null,
   "metadata": {
    "collapsed": true
   },
   "outputs": [],
   "source": []
  },
  {
   "cell_type": "code",
   "execution_count": 36,
   "metadata": {
    "scrolled": true
   },
   "outputs": [
    {
     "data": {
      "image/png": "[encoded data removed]",
      "text/plain": [
       "<Figure size 1280x800 with 1 Axes>"
      ]
     },
     "metadata": {},
     "output_type": "display_data"
    }
   ],
   "source": [
    "# Draw Plot for Each Category\n",
    "plt.figure(figsize=(16,10),dpi = 80,facecolor = 'w',edgecolor ='k')\n",
    "for i,category in enumerate(categories): # i=0-13  category = AAR AAU AHR ...(14个)\n",
    "    # enumerate() 函数用于将一个可遍历的数据对象(如列表、元组或字符串)组合为一个索引序列，同时列出数据和数据下标，一般用在 for 循环当中。\n",
    "    plt.scatter('area','poptotal', # 需要的 数据列\n",
    "               data = midwest.loc[midwest.category==category, :], #loc[行，列] 冒号表示取所有的列： area poptotal 这两列\n",
    "               s=20, \n",
    "                cmap=colors[i], # 颜色选择\n",
    "                label=str(category)) # label 标签\n",
    "\n",
    "    # Decorations 装饰\n",
    "plt.gca().set(xlim=(0.0,0.1),ylim=(0,90000),\n",
    "              xlabel='Area',ylabel='Population')\n",
    "\n",
    "plt.xticks(fontsize=12); plt.yticks(fontsize=12)\n",
    "plt.title(\"Scatterplot of Midwest Area vs Population\", fontsize=22)\n",
    "plt.legend(fontsize=12)    # 说明 标签label\n",
    "plt.show() "
   ]
  },
  {
   "cell_type": "markdown",
   "metadata": {},
   "source": [
    "## 实验，理解代码意思\n",
    "for category in enumerate(categories)\n",
    "col1 = midwest.category()\n",
    "data1 = midwest.loc[midwest.category==category, :]"
   ]
  },
  {
   "cell_type": "code",
   "execution_count": 22,
   "metadata": {
    "scrolled": false
   },
   "outputs": [
    {
     "ename": "NameError",
     "evalue": "name 'values' is not defined",
     "output_type": "error",
     "traceback": [
      "\u001b[1;31m---------------------------------------------------------------------------\u001b[0m",
      "\u001b[1;31mNameError\u001b[0m                                 Traceback (most recent call last)",
      "\u001b[1;32m<ipython-input-22-364f3432d979>\u001b[0m in \u001b[0;36m<module>\u001b[1;34m()\u001b[0m\n\u001b[0;32m      7\u001b[0m \u001b[0max\u001b[0m \u001b[1;33m=\u001b[0m \u001b[0mfig\u001b[0m\u001b[1;33m.\u001b[0m\u001b[0madd_subplot\u001b[0m\u001b[1;33m(\u001b[0m\u001b[1;36m111\u001b[0m\u001b[1;33m)\u001b[0m\u001b[1;33m\u001b[0m\u001b[0m\n\u001b[0;32m      8\u001b[0m \u001b[0mjet\u001b[0m \u001b[1;33m=\u001b[0m \u001b[0mcolors\u001b[0m\u001b[1;33m.\u001b[0m\u001b[0mColormap\u001b[0m\u001b[1;33m(\u001b[0m\u001b[1;34m'jet'\u001b[0m\u001b[1;33m)\u001b[0m\u001b[1;33m\u001b[0m\u001b[0m\n\u001b[1;32m----> 9\u001b[1;33m \u001b[0mcNorm\u001b[0m  \u001b[1;33m=\u001b[0m \u001b[0mcolors\u001b[0m\u001b[1;33m.\u001b[0m\u001b[0mNormalize\u001b[0m\u001b[1;33m(\u001b[0m\u001b[0mvmin\u001b[0m\u001b[1;33m=\u001b[0m\u001b[1;36m0\u001b[0m\u001b[1;33m,\u001b[0m \u001b[0mvmax\u001b[0m\u001b[1;33m=\u001b[0m\u001b[0mvalues\u001b[0m\u001b[1;33m[\u001b[0m\u001b[1;33m-\u001b[0m\u001b[1;36m1\u001b[0m\u001b[1;33m]\u001b[0m\u001b[1;33m)\u001b[0m\u001b[1;33m\u001b[0m\u001b[0m\n\u001b[0m\u001b[0;32m     10\u001b[0m \u001b[0mscalarMap\u001b[0m \u001b[1;33m=\u001b[0m \u001b[0mcmx\u001b[0m\u001b[1;33m.\u001b[0m\u001b[0mScalarMappable\u001b[0m\u001b[1;33m(\u001b[0m\u001b[0mnorm\u001b[0m\u001b[1;33m=\u001b[0m\u001b[0mcNorm\u001b[0m\u001b[1;33m,\u001b[0m \u001b[0mcmap\u001b[0m\u001b[1;33m=\u001b[0m\u001b[0mjet\u001b[0m\u001b[1;33m)\u001b[0m\u001b[1;33m\u001b[0m\u001b[0m\n\u001b[0;32m     11\u001b[0m \u001b[0mlines\u001b[0m \u001b[1;33m=\u001b[0m \u001b[1;33m[\u001b[0m\u001b[1;33m]\u001b[0m\u001b[1;33m\u001b[0m\u001b[0m\n",
      "\u001b[1;31mNameError\u001b[0m: name 'values' is not defined"
     ]
    },
    {
     "data": {
      "image/png": "[encoded data removed]",
      "text/plain": [
       "<Figure size 432x288 with 1 Axes>"
      ]
     },
     "metadata": {},
     "output_type": "display_data"
    }
   ],
   "source": [
    "# Using Colormaps to set color of line in matplotlib\n",
    "# https://stackoverflow.com/questions/8931268/using-colormaps-to-set-color-of-line-in-matplotlib\n",
    "import matplotlib.pyplot as plt\n",
    "import matplotlib.colors as colors\n",
    "import matplotlib.cm as cmx\n",
    "import numpy as np\n",
    "\n",
    "fig = plt.figure()\n",
    "ax = fig.add_subplot(111)\n",
    "jet = colors.Colormap('jet')\n",
    "cNorm  = colors.Normalize(vmin=0, vmax=values[-1])\n",
    "scalarMap = cmx.ScalarMappable(norm=cNorm, cmap=jet)\n",
    "lines = []\n",
    "for idx in range(len(curves)):\n",
    "    line = curves[idx]\n",
    "    colorVal = scalarMap.to_rgba(values[idx])\n",
    "    retLine, = ax.plot(line, color=colorVal)\n",
    "    #retLine.set_color()\n",
    "    lines.append(retLine)\n",
    "ax.legend(lines, labels, loc='upper right')\n",
    "ax.grid()\n",
    "plt.show()"
   ]
  },
  {
   "cell_type": "code",
   "execution_count": 24,
   "metadata": {},
   "outputs": [
    {
     "name": "stdout",
     "output_type": "stream",
     "text": [
      "(0.0, 9.0)\n"
     ]
    },
    {
     "data": {
      "image/png": "[encoded data removed]",
      "text/plain": [
       "<Figure size 432x288 with 1 Axes>"
      ]
     },
     "metadata": {},
     "output_type": "display_data"
    }
   ],
   "source": [
    "# 上面问题的可行代码\n",
    "import matplotlib.pyplot as plt\n",
    "import matplotlib.colors as colors\n",
    "import matplotlib.cm as cmx\n",
    "import numpy as np\n",
    "\n",
    "# define some random data that emulates your indeded code:\n",
    "NCURVES = 10\n",
    "np.random.seed(101)\n",
    "curves = [np.random.random(20) for i in range(NCURVES)]\n",
    "values = range(NCURVES)\n",
    "\n",
    "fig = plt.figure()\n",
    "ax = fig.add_subplot(111)\n",
    "# replace the next line \n",
    "#jet = colors.Colormap('jet')\n",
    "# with\n",
    "jet = cm = plt.get_cmap('jet') \n",
    "cNorm  = colors.Normalize(vmin=0, vmax=values[-1])\n",
    "scalarMap = cmx.ScalarMappable(norm=cNorm, cmap=jet)\n",
    "print (scalarMap.get_clim())\n",
    "\n",
    "lines = []\n",
    "for idx in range(len(curves)):\n",
    "    line = curves[idx]\n",
    "    colorVal = scalarMap.to_rgba(values[idx])\n",
    "    colorText = (\n",
    "        'color: (%4.2f,%4.2f,%4.2f)'%(colorVal[0],colorVal[1],colorVal[2])\n",
    "        )\n",
    "    retLine, = ax.plot(line,\n",
    "                       color=colorVal,\n",
    "                       label=colorText)\n",
    "    lines.append(retLine)\n",
    "#added this to get the legend to work\n",
    "handles,labels = ax.get_legend_handles_labels()\n",
    "ax.legend(handles, labels, loc='upper right')\n",
    "ax.grid()\n",
    "plt.show()"
   ]
  },
  {
   "cell_type": "code",
   "execution_count": 21,
   "metadata": {},
   "outputs": [
    {
     "name": "stdout",
     "output_type": "stream",
     "text": [
      "aliceblue #F0F8FF\n",
      "antiquewhite #FAEBD7\n",
      "aqua #00FFFF\n",
      "aquamarine #7FFFD4\n",
      "azure #F0FFFF\n",
      "beige #F5F5DC\n",
      "bisque #FFE4C4\n",
      "black #000000\n",
      "blanchedalmond #FFEBCD\n",
      "blue #0000FF\n",
      "blueviolet #8A2BE2\n",
      "brown #A52A2A\n",
      "burlywood #DEB887\n",
      "cadetblue #5F9EA0\n",
      "chartreuse #7FFF00\n",
      "chocolate #D2691E\n",
      "coral #FF7F50\n",
      "cornflowerblue #6495ED\n",
      "cornsilk #FFF8DC\n",
      "crimson #DC143C\n",
      "cyan #00FFFF\n",
      "darkblue #00008B\n",
      "darkcyan #008B8B\n",
      "darkgoldenrod #B8860B\n",
      "darkgray #A9A9A9\n",
      "darkgreen #006400\n",
      "darkgrey #A9A9A9\n",
      "darkkhaki #BDB76B\n",
      "darkmagenta #8B008B\n",
      "darkolivegreen #556B2F\n",
      "darkorange #FF8C00\n",
      "darkorchid #9932CC\n",
      "darkred #8B0000\n",
      "darksalmon #E9967A\n",
      "darkseagreen #8FBC8F\n",
      "darkslateblue #483D8B\n",
      "darkslategray #2F4F4F\n",
      "darkslategrey #2F4F4F\n",
      "darkturquoise #00CED1\n",
      "darkviolet #9400D3\n",
      "deeppink #FF1493\n",
      "deepskyblue #00BFFF\n",
      "dimgray #696969\n",
      "dimgrey #696969\n",
      "dodgerblue #1E90FF\n",
      "firebrick #B22222\n",
      "floralwhite #FFFAF0\n",
      "forestgreen #228B22\n",
      "fuchsia #FF00FF\n",
      "gainsboro #DCDCDC\n",
      "ghostwhite #F8F8FF\n",
      "gold #FFD700\n",
      "goldenrod #DAA520\n",
      "gray #808080\n",
      "green #008000\n",
      "greenyellow #ADFF2F\n",
      "grey #808080\n",
      "honeydew #F0FFF0\n",
      "hotpink #FF69B4\n",
      "indianred #CD5C5C\n",
      "indigo #4B0082\n",
      "ivory #FFFFF0\n",
      "khaki #F0E68C\n",
      "lavender #E6E6FA\n",
      "lavenderblush #FFF0F5\n",
      "lawngreen #7CFC00\n",
      "lemonchiffon #FFFACD\n",
      "lightblue #ADD8E6\n",
      "lightcoral #F08080\n",
      "lightcyan #E0FFFF\n",
      "lightgoldenrodyellow #FAFAD2\n",
      "lightgray #D3D3D3\n",
      "lightgreen #90EE90\n",
      "lightgrey #D3D3D3\n",
      "lightpink #FFB6C1\n",
      "lightsalmon #FFA07A\n",
      "lightseagreen #20B2AA\n",
      "lightskyblue #87CEFA\n",
      "lightslategray #778899\n",
      "lightslategrey #778899\n",
      "lightsteelblue #B0C4DE\n",
      "lightyellow #FFFFE0\n",
      "lime #00FF00\n",
      "limegreen #32CD32\n",
      "linen #FAF0E6\n",
      "magenta #FF00FF\n",
      "maroon #800000\n",
      "mediumaquamarine #66CDAA\n",
      "mediumblue #0000CD\n",
      "mediumorchid #BA55D3\n",
      "mediumpurple #9370DB\n",
      "mediumseagreen #3CB371\n",
      "mediumslateblue #7B68EE\n",
      "mediumspringgreen #00FA9A\n",
      "mediumturquoise #48D1CC\n",
      "mediumvioletred #C71585\n",
      "midnightblue #191970\n",
      "mintcream #F5FFFA\n",
      "mistyrose #FFE4E1\n",
      "moccasin #FFE4B5\n",
      "navajowhite #FFDEAD\n",
      "navy #000080\n",
      "oldlace #FDF5E6\n",
      "olive #808000\n",
      "olivedrab #6B8E23\n",
      "orange #FFA500\n",
      "orangered #FF4500\n",
      "orchid #DA70D6\n",
      "palegoldenrod #EEE8AA\n",
      "palegreen #98FB98\n",
      "paleturquoise #AFEEEE\n",
      "palevioletred #DB7093\n",
      "papayawhip #FFEFD5\n",
      "peachpuff #FFDAB9\n",
      "peru #CD853F\n",
      "pink #FFC0CB\n",
      "plum #DDA0DD\n",
      "powderblue #B0E0E6\n",
      "purple #800080\n",
      "rebeccapurple #663399\n",
      "red #FF0000\n",
      "rosybrown #BC8F8F\n",
      "royalblue #4169E1\n",
      "saddlebrown #8B4513\n",
      "salmon #FA8072\n",
      "sandybrown #F4A460\n",
      "seagreen #2E8B57\n",
      "seashell #FFF5EE\n",
      "sienna #A0522D\n",
      "silver #C0C0C0\n",
      "skyblue #87CEEB\n",
      "slateblue #6A5ACD\n",
      "slategray #708090\n",
      "slategrey #708090\n",
      "snow #FFFAFA\n",
      "springgreen #00FF7F\n",
      "steelblue #4682B4\n",
      "tan #D2B48C\n",
      "teal #008080\n",
      "thistle #D8BFD8\n",
      "tomato #FF6347\n",
      "turquoise #40E0D0\n",
      "violet #EE82EE\n",
      "wheat #F5DEB3\n",
      "white #FFFFFF\n",
      "whitesmoke #F5F5F5\n",
      "yellow #FFFF00\n",
      "yellowgreen #9ACD32\n"
     ]
    }
   ],
   "source": [
    "#python中的颜色相关的定义在matplotlib模块中，为方便使用，这里给大家展示一下在这个模块中都定义了哪些选颜色。\n",
    "#https://blog.csdn.net/guduruyu/article/details/77836173\n",
    "import matplotlib\n",
    "for name, hex in matplotlib.colors.cnames.items():\n",
    "    print (name,   hex)"
   ]
  },
  {
   "cell_type": "code",
   "execution_count": null,
   "metadata": {
    "collapsed": true
   },
   "outputs": [],
   "source": [
    "def power(x,n):\n",
    "    s = 1\n",
    "    while n > 0:\n",
    "        n = n +1\n",
    "        s = s * n\n",
    "    return s\n",
    "#x = input ('输入x:')\n",
    "#n = input ('输入n:')\n",
    "print (power(5,5))"
   ]
  },
  {
   "cell_type": "code",
   "execution_count": 6,
   "metadata": {
    "collapsed": true
   },
   "outputs": [],
   "source": [
    "def my_abs(x):\n",
    "    if not isinstance(x, (int, float)):\n",
    "        raise TypeError('bad operand type')\n",
    "    if x >= 0:\n",
    "        return x\n",
    "    else:\n",
    "        return -x\n",
    "    "
   ]
  },
  {
   "cell_type": "code",
   "execution_count": 1,
   "metadata": {},
   "outputs": [
    {
     "name": "stdout",
     "output_type": "stream",
     "text": [
      "55\n"
     ]
    }
   ],
   "source": [
    "# 斐波那契数列\n",
    "def fibonacci(i):\n",
    "    num_list = [0,1]\n",
    "    if i < 2:\n",
    "        return num_list[i]\n",
    "    elif i >= 2:\n",
    "        return (fibonacci(i - 2)+ fibonacci(i - 1))\n",
    "\n",
    "print (fibonacci(10))"
   ]
  },
  {
   "cell_type": "code",
   "execution_count": 2,
   "metadata": {
    "collapsed": true
   },
   "outputs": [],
   "source": [
    "def application(environ, start_response):\n",
    "    start_response('200 OK', [('Content-Type', 'text/html')])\n",
    "    body = '<h1>Hello, %s!</h1>' % (environ['PATH_INFO'][1:] or 'web')\n",
    "    return [body.encode('utf-8')]"
   ]
  },
  {
   "cell_type": "markdown",
   "metadata": {},
   "source": [
    "# 30个常用python实现-简书"
   ]
  },
  {
   "cell_type": "code",
   "execution_count": 10,
   "metadata": {},
   "outputs": [
    {
     "name": "stdout",
     "output_type": "stream",
     "text": [
      "请输入一个数字：5\n",
      "1 的阶乘为 1\n",
      "5的阶乘为1\n",
      "2 的阶乘为 2\n",
      "5的阶乘为2\n",
      "3 的阶乘为 6\n",
      "5的阶乘为6\n",
      "4 的阶乘为 24\n",
      "5的阶乘为24\n",
      "5 的阶乘为 120\n",
      "5的阶乘为120\n"
     ]
    }
   ],
   "source": [
    "#def fac():\n",
    "num = int(input(\"请输入一个数字：\"))\n",
    "factorial = 1 \n",
    "    \n",
    "if num < 0:\n",
    "    print (\"负数没有阶乘\")\n",
    "elif num == 0:\n",
    "    print (\"0的阶乘为 1 \")\n",
    "else:\n",
    "    for i in range (1,num +1):\n",
    "         factorial = factorial * i\n",
    "         print (\"%d 的阶乘为 %d\" % (i,factorial))\n",
    "         print (\"{}的阶乘为{}\".format(num,factorial))"
   ]
  },
  {
   "cell_type": "code",
   "execution_count": 6,
   "metadata": {},
   "outputs": [
    {
     "ename": "IndentationError",
     "evalue": "expected an indented block (<ipython-input-6-629d5c4b232b>, line 2)",
     "output_type": "error",
     "traceback": [
      "\u001b[1;36m  File \u001b[1;32m\"<ipython-input-6-629d5c4b232b>\"\u001b[1;36m, line \u001b[1;32m2\u001b[0m\n\u001b[1;33m    num = int(input(\"请输入正整数\"))\u001b[0m\n\u001b[1;37m      ^\u001b[0m\n\u001b[1;31mIndentationError\u001b[0m\u001b[1;31m:\u001b[0m expected an indented block\n"
     ]
    }
   ],
   "source": [
    "def fac ():\n",
    "num = int(input(\"请输入正整数\"))\n",
    "if num < 0:\n",
    "   print (\"负数无阶乘\")\n",
    "elif num == 0:\n",
    "   print (\"0 的阶乘等于 1\")\n",
    "else:\n",
    "   #print (num * (num - 1))\n",
    "   return num * (num - 1)\n"
   ]
  },
  {
   "cell_type": "code",
   "execution_count": 3,
   "metadata": {},
   "outputs": [
    {
     "data": {
      "text/plain": [
       "120"
      ]
     },
     "execution_count": 3,
     "metadata": {},
     "output_type": "execute_result"
    }
   ],
   "source": [
    "def factorial(n):\n",
    "    if n == 0:\n",
    "        return 1\n",
    "    else:\n",
    "        return n * factorial(n - 1)\n",
    "\n",
    "factorial (5)"
   ]
  },
  {
   "cell_type": "markdown",
   "metadata": {
    "collapsed": true
   },
   "source": [
    "# 《算法图解》-- 二分法"
   ]
  },
  {
   "cell_type": "code",
   "execution_count": 5,
   "metadata": {},
   "outputs": [],
   "source": [
    "def binary_search(list,item):\n",
    "    low = 0\n",
    "    high = len(list) - 1\n",
    "    while low <= high:\n",
    "        mid = int((low + high)/2)  # 若不加 int ，则mid可能会出现浮点数，list列表不能是浮点数\n",
    "        #mid = (low + high)/2\n",
    "        guess = list[mid]\n",
    "        if guess == item:\n",
    "            return mid\n",
    "        if guess < item:\n",
    "            low = mid + 1\n",
    "        else:\n",
    "            high = mid - 1\n",
    "    return\n",
    "\n"
   ]
  },
  {
   "cell_type": "code",
   "execution_count": 14,
   "metadata": {},
   "outputs": [
    {
     "name": "stdout",
     "output_type": "stream",
     "text": [
      "[1, 3, 5, 7, 9]\n",
      "5\n",
      "3\n"
     ]
    }
   ],
   "source": [
    "#Mylist = list(range(7))  # range() 函数返回的结果是一个整数序列的对象，而不是列表。\n",
    "print (Mylist)\n",
    "print (len(Mylist))\n",
    "Mylist = [1,3,5,7,9] \n",
    "a = binary_search(Mylist,7)\n",
    "print (a)\n",
    "\n"
   ]
  },
  {
   "cell_type": "markdown",
   "metadata": {},
   "source": [
    "# iterrows 对DataFrame进行遍历\n",
    "---\n",
    "https://blog.csdn.net/Softdiamonds/article/details/80218777"
   ]
  },
  {
   "cell_type": "code",
   "execution_count": 2,
   "metadata": {},
   "outputs": [
    {
     "data": {
      "text/html": [
       "<div>\n",
       "<style scoped>\n",
       "    .dataframe tbody tr th:only-of-type {\n",
       "        vertical-align: middle;\n",
       "    }\n",
       "\n",
       "    .dataframe tbody tr th {\n",
       "        vertical-align: top;\n",
       "    }\n",
       "\n",
       "    .dataframe thead th {\n",
       "        text-align: right;\n",
       "    }\n",
       "</style>\n",
       "<table border=\"1\" class=\"dataframe\">\n",
       "  <thead>\n",
       "    <tr style=\"text-align: right;\">\n",
       "      <th></th>\n",
       "      <th>A</th>\n",
       "      <th>B</th>\n",
       "      <th>C</th>\n",
       "      <th>D</th>\n",
       "    </tr>\n",
       "  </thead>\n",
       "  <tbody>\n",
       "    <tr>\n",
       "      <th>0</th>\n",
       "      <td>1.161878</td>\n",
       "      <td>1.870291</td>\n",
       "      <td>-1.791243</td>\n",
       "      <td>-0.643197</td>\n",
       "    </tr>\n",
       "    <tr>\n",
       "      <th>1</th>\n",
       "      <td>0.051427</td>\n",
       "      <td>-0.761182</td>\n",
       "      <td>1.009770</td>\n",
       "      <td>1.119851</td>\n",
       "    </tr>\n",
       "    <tr>\n",
       "      <th>2</th>\n",
       "      <td>1.231769</td>\n",
       "      <td>-2.315658</td>\n",
       "      <td>2.742141</td>\n",
       "      <td>-3.199875</td>\n",
       "    </tr>\n",
       "    <tr>\n",
       "      <th>3</th>\n",
       "      <td>-0.411804</td>\n",
       "      <td>-0.235073</td>\n",
       "      <td>-0.384124</td>\n",
       "      <td>0.151285</td>\n",
       "    </tr>\n",
       "    <tr>\n",
       "      <th>4</th>\n",
       "      <td>1.889645</td>\n",
       "      <td>1.449776</td>\n",
       "      <td>0.530923</td>\n",
       "      <td>0.531709</td>\n",
       "    </tr>\n",
       "    <tr>\n",
       "      <th>5</th>\n",
       "      <td>0.708752</td>\n",
       "      <td>1.541475</td>\n",
       "      <td>1.100644</td>\n",
       "      <td>0.833556</td>\n",
       "    </tr>\n",
       "    <tr>\n",
       "      <th>6</th>\n",
       "      <td>-0.565096</td>\n",
       "      <td>-1.894153</td>\n",
       "      <td>1.524144</td>\n",
       "      <td>0.497321</td>\n",
       "    </tr>\n",
       "    <tr>\n",
       "      <th>7</th>\n",
       "      <td>-1.334075</td>\n",
       "      <td>1.384705</td>\n",
       "      <td>2.650655</td>\n",
       "      <td>0.161493</td>\n",
       "    </tr>\n",
       "    <tr>\n",
       "      <th>8</th>\n",
       "      <td>-0.196040</td>\n",
       "      <td>-1.832690</td>\n",
       "      <td>-1.381750</td>\n",
       "      <td>1.955884</td>\n",
       "    </tr>\n",
       "    <tr>\n",
       "      <th>9</th>\n",
       "      <td>-2.105968</td>\n",
       "      <td>1.369923</td>\n",
       "      <td>-0.894509</td>\n",
       "      <td>-0.237767</td>\n",
       "    </tr>\n",
       "  </tbody>\n",
       "</table>\n",
       "</div>"
      ],
      "text/plain": [
       "          A         B         C         D\n",
       "0  1.161878  1.870291 -1.791243 -0.643197\n",
       "1  0.051427 -0.761182  1.009770  1.119851\n",
       "2  1.231769 -2.315658  2.742141 -3.199875\n",
       "3 -0.411804 -0.235073 -0.384124  0.151285\n",
       "4  1.889645  1.449776  0.530923  0.531709\n",
       "5  0.708752  1.541475  1.100644  0.833556\n",
       "6 -0.565096 -1.894153  1.524144  0.497321\n",
       "7 -1.334075  1.384705  2.650655  0.161493\n",
       "8 -0.196040 -1.832690 -1.381750  1.955884\n",
       "9 -2.105968  1.369923 -0.894509 -0.237767"
      ]
     },
     "execution_count": 2,
     "metadata": {},
     "output_type": "execute_result"
    }
   ],
   "source": [
    "import pandas as pd\n",
    "import numpy as np\n",
    "df = pd.DataFrame(np.random.randn(10, 4), columns=list('ABCD'))\n",
    "df"
   ]
  },
  {
   "cell_type": "code",
   "execution_count": 3,
   "metadata": {
    "scrolled": true
   },
   "outputs": [
    {
     "name": "stdout",
     "output_type": "stream",
     "text": [
      "0 A    1.161878\n",
      "B    1.870291\n",
      "C   -1.791243\n",
      "D   -0.643197\n",
      "Name: 0, dtype: float64\n",
      "1 A    0.051427\n",
      "B   -0.761182\n",
      "C    1.009770\n",
      "D    1.119851\n",
      "Name: 1, dtype: float64\n",
      "2 A    1.231769\n",
      "B   -2.315658\n",
      "C    2.742141\n",
      "D   -3.199875\n",
      "Name: 2, dtype: float64\n",
      "3 A   -0.411804\n",
      "B   -0.235073\n",
      "C   -0.384124\n",
      "D    0.151285\n",
      "Name: 3, dtype: float64\n",
      "4 A    1.889645\n",
      "B    1.449776\n",
      "C    0.530923\n",
      "D    0.531709\n",
      "Name: 4, dtype: float64\n",
      "5 A    0.708752\n",
      "B    1.541475\n",
      "C    1.100644\n",
      "D    0.833556\n",
      "Name: 5, dtype: float64\n",
      "6 A   -0.565096\n",
      "B   -1.894153\n",
      "C    1.524144\n",
      "D    0.497321\n",
      "Name: 6, dtype: float64\n",
      "7 A   -1.334075\n",
      "B    1.384705\n",
      "C    2.650655\n",
      "D    0.161493\n",
      "Name: 7, dtype: float64\n",
      "8 A   -0.196040\n",
      "B   -1.832690\n",
      "C   -1.381750\n",
      "D    1.955884\n",
      "Name: 8, dtype: float64\n",
      "9 A   -2.105968\n",
      "B    1.369923\n",
      "C   -0.894509\n",
      "D   -0.237767\n",
      "Name: 9, dtype: float64\n"
     ]
    }
   ],
   "source": [
    "for i,r in df.iterrows():\n",
    "    print(i,r)"
   ]
  },
  {
   "cell_type": "markdown",
   "metadata": {},
   "source": [
    "# Python-100-Days --github"
   ]
  },
  {
   "cell_type": "code",
   "execution_count": 1,
   "metadata": {
    "scrolled": true
   },
   "outputs": [
    {
     "name": "stdout",
     "output_type": "stream",
     "text": [
      "请输入华氏温度: 55\n",
      "55.0华氏度 = 12.8摄氏度\n"
     ]
    }
   ],
   "source": [
    "f = float(input('请输入华氏温度: '))\n",
    "c = (f - 32) / 1.8\n",
    "print('%.1f华氏度 = %.1f摄氏度' % (f, c))"
   ]
  },
  {
   "cell_type": "code",
   "execution_count": 2,
   "metadata": {},
   "outputs": [
    {
     "ename": "NameError",
     "evalue": "name 'pd' is not defined",
     "output_type": "error",
     "traceback": [
      "\u001b[1;31m---------------------------------------------------------------------------\u001b[0m",
      "\u001b[1;31mNameError\u001b[0m                                 Traceback (most recent call last)",
      "\u001b[1;32m<ipython-input-2-79491e519e17>\u001b[0m in \u001b[0;36m<module>\u001b[1;34m()\u001b[0m\n\u001b[1;32m----> 1\u001b[1;33m \u001b[0mmy_series2\u001b[0m \u001b[1;33m=\u001b[0m \u001b[0mpd\u001b[0m\u001b[1;33m.\u001b[0m\u001b[0mSeries\u001b[0m\u001b[1;33m(\u001b[0m\u001b[1;33m[\u001b[0m\u001b[1;36m1\u001b[0m\u001b[1;33m,\u001b[0m\u001b[1;36m1.2\u001b[0m\u001b[1;33m,\u001b[0m\u001b[1;32mTrue\u001b[0m\u001b[1;33m,\u001b[0m\u001b[1;34m'MyName'\u001b[0m\u001b[1;33m]\u001b[0m\u001b[1;33m)\u001b[0m\u001b[1;33m\u001b[0m\u001b[0m\n\u001b[0m\u001b[0;32m      2\u001b[0m \u001b[0mprint\u001b[0m\u001b[1;33m(\u001b[0m\u001b[0mmy_series2\u001b[0m\u001b[1;33m)\u001b[0m\u001b[1;33m\u001b[0m\u001b[0m\n",
      "\u001b[1;31mNameError\u001b[0m: name 'pd' is not defined"
     ]
    }
   ],
   "source": [
    "my_series2 = pd.Series([1,1.2,True,'MyName'])\n",
    "print(my_series2)"
   ]
  },
  {
   "cell_type": "code",
   "execution_count": null,
   "metadata": {},
   "outputs": [],
   "source": []
  },
  {
   "cell_type": "code",
   "execution_count": 3,
   "metadata": {},
   "outputs": [
    {
     "name": "stdout",
     "output_type": "stream",
     "text": [
      "a    非本科程序员\n",
      "b        公号\n",
      "dtype: object\n"
     ]
    }
   ],
   "source": [
    "import pandas as pd\n",
    "my_series1 = pd.Series({'a':'非本科程序员','b':'公号'})\n",
    "print(my_series1)"
   ]
  },
  {
   "cell_type": "markdown",
   "metadata": {
    "collapsed": true
   },
   "source": [
    "#  groupby--csdn\n",
    "---\n",
    "python/pandas数据挖掘（十四）-groupby,聚合，分组级运算\n",
    "https://blog.csdn.net/youngbit007/article/details/54288603/"
   ]
  },
  {
   "cell_type": "code",
   "execution_count": 2,
   "metadata": {},
   "outputs": [],
   "source": [
    "import pandas as pd\n",
    "import numpy as np\n",
    "df = pd.DataFrame({'key1':list('aabba'),\n",
    "                  'key2': ['one','two','one','two','one'],\n",
    "                  'data1': np.random.randn(5),\n",
    "                  'data2': np.random.randn(5)})"
   ]
  },
  {
   "cell_type": "code",
   "execution_count": 3,
   "metadata": {},
   "outputs": [
    {
     "data": {
      "text/html": [
       "<div>\n",
       "<style scoped>\n",
       "    .dataframe tbody tr th:only-of-type {\n",
       "        vertical-align: middle;\n",
       "    }\n",
       "\n",
       "    .dataframe tbody tr th {\n",
       "        vertical-align: top;\n",
       "    }\n",
       "\n",
       "    .dataframe thead th {\n",
       "        text-align: right;\n",
       "    }\n",
       "</style>\n",
       "<table border=\"1\" class=\"dataframe\">\n",
       "  <thead>\n",
       "    <tr style=\"text-align: right;\">\n",
       "      <th></th>\n",
       "      <th>key1</th>\n",
       "      <th>key2</th>\n",
       "      <th>data1</th>\n",
       "      <th>data2</th>\n",
       "    </tr>\n",
       "  </thead>\n",
       "  <tbody>\n",
       "    <tr>\n",
       "      <th>0</th>\n",
       "      <td>a</td>\n",
       "      <td>one</td>\n",
       "      <td>-2.341135</td>\n",
       "      <td>0.234641</td>\n",
       "    </tr>\n",
       "    <tr>\n",
       "      <th>1</th>\n",
       "      <td>a</td>\n",
       "      <td>two</td>\n",
       "      <td>-0.645692</td>\n",
       "      <td>1.337923</td>\n",
       "    </tr>\n",
       "    <tr>\n",
       "      <th>2</th>\n",
       "      <td>b</td>\n",
       "      <td>one</td>\n",
       "      <td>0.093783</td>\n",
       "      <td>1.877905</td>\n",
       "    </tr>\n",
       "    <tr>\n",
       "      <th>3</th>\n",
       "      <td>b</td>\n",
       "      <td>two</td>\n",
       "      <td>0.145576</td>\n",
       "      <td>0.023196</td>\n",
       "    </tr>\n",
       "    <tr>\n",
       "      <th>4</th>\n",
       "      <td>a</td>\n",
       "      <td>one</td>\n",
       "      <td>0.185083</td>\n",
       "      <td>-1.192006</td>\n",
       "    </tr>\n",
       "  </tbody>\n",
       "</table>\n",
       "</div>"
      ],
      "text/plain": [
       "  key1 key2     data1     data2\n",
       "0    a  one -2.341135  0.234641\n",
       "1    a  two -0.645692  1.337923\n",
       "2    b  one  0.093783  1.877905\n",
       "3    b  two  0.145576  0.023196\n",
       "4    a  one  0.185083 -1.192006"
      ]
     },
     "execution_count": 3,
     "metadata": {},
     "output_type": "execute_result"
    }
   ],
   "source": [
    "df"
   ]
  },
  {
   "cell_type": "code",
   "execution_count": 4,
   "metadata": {},
   "outputs": [],
   "source": [
    "grouped = df['data1'].groupby(df['key1'])"
   ]
  },
  {
   "cell_type": "code",
   "execution_count": 5,
   "metadata": {},
   "outputs": [
    {
     "data": {
      "text/plain": [
       "key1\n",
       "a   -0.933915\n",
       "b    0.119679\n",
       "Name: data1, dtype: float64"
      ]
     },
     "execution_count": 5,
     "metadata": {},
     "output_type": "execute_result"
    }
   ],
   "source": [
    "grouped.mean()"
   ]
  },
  {
   "cell_type": "code",
   "execution_count": 6,
   "metadata": {},
   "outputs": [
    {
     "data": {
      "text/plain": [
       "California  2005   -0.645692\n",
       "            2006    0.093783\n",
       "Ohio        2005   -1.097780\n",
       "            2006    0.185083\n",
       "Name: data1, dtype: float64"
      ]
     },
     "execution_count": 6,
     "metadata": {},
     "output_type": "execute_result"
    }
   ],
   "source": [
    "states=np.array(['Ohio','California','California','Ohio','Ohio'])\n",
    "years=np.array([2005,2005,2006,2005,2006])\n",
    "df['data1'].groupby([states,years]).mean()"
   ]
  },
  {
   "cell_type": "code",
   "execution_count": 7,
   "metadata": {},
   "outputs": [
    {
     "data": {
      "text/html": [
       "<div>\n",
       "<style scoped>\n",
       "    .dataframe tbody tr th:only-of-type {\n",
       "        vertical-align: middle;\n",
       "    }\n",
       "\n",
       "    .dataframe tbody tr th {\n",
       "        vertical-align: top;\n",
       "    }\n",
       "\n",
       "    .dataframe thead th {\n",
       "        text-align: right;\n",
       "    }\n",
       "</style>\n",
       "<table border=\"1\" class=\"dataframe\">\n",
       "  <thead>\n",
       "    <tr style=\"text-align: right;\">\n",
       "      <th></th>\n",
       "      <th>data1</th>\n",
       "      <th>data2</th>\n",
       "    </tr>\n",
       "    <tr>\n",
       "      <th>key1</th>\n",
       "      <th></th>\n",
       "      <th></th>\n",
       "    </tr>\n",
       "  </thead>\n",
       "  <tbody>\n",
       "    <tr>\n",
       "      <th>a</th>\n",
       "      <td>-0.933915</td>\n",
       "      <td>0.126852</td>\n",
       "    </tr>\n",
       "    <tr>\n",
       "      <th>b</th>\n",
       "      <td>0.119679</td>\n",
       "      <td>0.950550</td>\n",
       "    </tr>\n",
       "  </tbody>\n",
       "</table>\n",
       "</div>"
      ],
      "text/plain": [
       "         data1     data2\n",
       "key1                    \n",
       "a    -0.933915  0.126852\n",
       "b     0.119679  0.950550"
      ]
     },
     "execution_count": 7,
     "metadata": {},
     "output_type": "execute_result"
    }
   ],
   "source": [
    "df.groupby('key1').mean()"
   ]
  },
  {
   "cell_type": "markdown",
   "metadata": {},
   "source": [
    "##  对分组进行迭代"
   ]
  },
  {
   "cell_type": "code",
   "execution_count": 12,
   "metadata": {},
   "outputs": [
    {
     "name": "stdout",
     "output_type": "stream",
     "text": [
      "a\n",
      "  key1 key2     data1     data2\n",
      "0    a  one -2.341135  0.234641\n",
      "1    a  two -0.645692  1.337923\n",
      "4    a  one  0.185083 -1.192006\n",
      "b\n",
      "  key1 key2     data1     data2\n",
      "2    b  one  0.093783  1.877905\n",
      "3    b  two  0.145576  0.023196\n"
     ]
    }
   ],
   "source": [
    "for name, group in df.groupby('key1'):\n",
    "    print (name)\n",
    "    print (group)"
   ]
  },
  {
   "cell_type": "code",
   "execution_count": 18,
   "metadata": {},
   "outputs": [
    {
     "name": "stdout",
     "output_type": "stream",
     "text": [
      "  key1 key2     data1     data2\n",
      "0    a  one -2.341135  0.234641\n",
      "4    a  one  0.185083 -1.192006\n",
      "  key1 key2     data1     data2\n",
      "1    a  two -0.645692  1.337923\n",
      "  key1 key2     data1     data2\n",
      "2    b  one  0.093783  1.877905\n",
      "  key1 key2     data1     data2\n",
      "3    b  two  0.145576  0.023196\n"
     ]
    }
   ],
   "source": [
    "for (k1,k2),group in df.groupby(['key1','key2']):\n",
    "    '''print ('===k1,k2:')\n",
    "    print (k1,k2)\n",
    "    print ('===k3:')'''\n",
    "    print (group)"
   ]
  },
  {
   "cell_type": "code",
   "execution_count": 21,
   "metadata": {},
   "outputs": [],
   "source": [
    "piece = dict(list(df.groupby('key1')))"
   ]
  },
  {
   "cell_type": "code",
   "execution_count": 23,
   "metadata": {},
   "outputs": [
    {
     "data": {
      "text/plain": [
       "{'a':   key1 key2     data1     data2\n",
       " 0    a  one -2.341135  0.234641\n",
       " 1    a  two -0.645692  1.337923\n",
       " 4    a  one  0.185083 -1.192006, 'b':   key1 key2     data1     data2\n",
       " 2    b  one  0.093783  1.877905\n",
       " 3    b  two  0.145576  0.023196}"
      ]
     },
     "execution_count": 23,
     "metadata": {},
     "output_type": "execute_result"
    }
   ],
   "source": [
    "piece"
   ]
  },
  {
   "cell_type": "code",
   "execution_count": 24,
   "metadata": {},
   "outputs": [
    {
     "data": {
      "text/html": [
       "<div>\n",
       "<style scoped>\n",
       "    .dataframe tbody tr th:only-of-type {\n",
       "        vertical-align: middle;\n",
       "    }\n",
       "\n",
       "    .dataframe tbody tr th {\n",
       "        vertical-align: top;\n",
       "    }\n",
       "\n",
       "    .dataframe thead th {\n",
       "        text-align: right;\n",
       "    }\n",
       "</style>\n",
       "<table border=\"1\" class=\"dataframe\">\n",
       "  <thead>\n",
       "    <tr style=\"text-align: right;\">\n",
       "      <th></th>\n",
       "      <th>key1</th>\n",
       "      <th>key2</th>\n",
       "      <th>data1</th>\n",
       "      <th>data2</th>\n",
       "    </tr>\n",
       "  </thead>\n",
       "  <tbody>\n",
       "    <tr>\n",
       "      <th>0</th>\n",
       "      <td>a</td>\n",
       "      <td>one</td>\n",
       "      <td>-2.341135</td>\n",
       "      <td>0.234641</td>\n",
       "    </tr>\n",
       "    <tr>\n",
       "      <th>1</th>\n",
       "      <td>a</td>\n",
       "      <td>two</td>\n",
       "      <td>-0.645692</td>\n",
       "      <td>1.337923</td>\n",
       "    </tr>\n",
       "    <tr>\n",
       "      <th>4</th>\n",
       "      <td>a</td>\n",
       "      <td>one</td>\n",
       "      <td>0.185083</td>\n",
       "      <td>-1.192006</td>\n",
       "    </tr>\n",
       "  </tbody>\n",
       "</table>\n",
       "</div>"
      ],
      "text/plain": [
       "  key1 key2     data1     data2\n",
       "0    a  one -2.341135  0.234641\n",
       "1    a  two -0.645692  1.337923\n",
       "4    a  one  0.185083 -1.192006"
      ]
     },
     "execution_count": 24,
     "metadata": {},
     "output_type": "execute_result"
    }
   ],
   "source": [
    "piece ['a']"
   ]
  },
  {
   "cell_type": "code",
   "execution_count": 32,
   "metadata": {},
   "outputs": [
    {
     "data": {
      "text/plain": [
       "dict_items([('a',   key1 key2     data1     data2\n",
       "0    a  one -2.341135  0.234641\n",
       "1    a  two -0.645692  1.337923\n",
       "4    a  one  0.185083 -1.192006), ('b',   key1 key2     data1     data2\n",
       "2    b  one  0.093783  1.877905\n",
       "3    b  two  0.145576  0.023196)])"
      ]
     },
     "execution_count": 32,
     "metadata": {},
     "output_type": "execute_result"
    }
   ],
   "source": [
    "piece.items()"
   ]
  },
  {
   "cell_type": "code",
   "execution_count": 33,
   "metadata": {},
   "outputs": [
    {
     "data": {
      "text/plain": [
       "dict_values([  key1 key2     data1     data2\n",
       "0    a  one -2.341135  0.234641\n",
       "1    a  two -0.645692  1.337923\n",
       "4    a  one  0.185083 -1.192006,   key1 key2     data1     data2\n",
       "2    b  one  0.093783  1.877905\n",
       "3    b  two  0.145576  0.023196])"
      ]
     },
     "execution_count": 33,
     "metadata": {},
     "output_type": "execute_result"
    }
   ],
   "source": [
    "piece.values()"
   ]
  },
  {
   "cell_type": "code",
   "execution_count": 34,
   "metadata": {},
   "outputs": [
    {
     "data": {
      "text/plain": [
       "dict_keys(['a', 'b'])"
      ]
     },
     "execution_count": 34,
     "metadata": {},
     "output_type": "execute_result"
    }
   ],
   "source": [
    "piece.keys()"
   ]
  },
  {
   "cell_type": "markdown",
   "metadata": {},
   "source": [
    "groupby默认是在axis=0上进行分组的，通过设置也可以在其他任何轴上进行分组."
   ]
  },
  {
   "cell_type": "code",
   "execution_count": 35,
   "metadata": {},
   "outputs": [],
   "source": [
    "grouped = df.groupby(df.dtypes,axis=1)"
   ]
  },
  {
   "cell_type": "code",
   "execution_count": 40,
   "metadata": {},
   "outputs": [
    {
     "name": "stdout",
     "output_type": "stream",
     "text": [
      "{dtype('float64'):       data1     data2\n",
      "0 -2.341135  0.234641\n",
      "1 -0.645692  1.337923\n",
      "2  0.093783  1.877905\n",
      "3  0.145576  0.023196\n",
      "4  0.185083 -1.192006, dtype('O'):   key1 key2\n",
      "0    a  one\n",
      "1    a  two\n",
      "2    b  one\n",
      "3    b  two\n",
      "4    a  one}\n"
     ]
    }
   ],
   "source": [
    "a = dict(list(grouped))\n",
    "print (a)"
   ]
  },
  {
   "cell_type": "code",
   "execution_count": 41,
   "metadata": {},
   "outputs": [
    {
     "data": {
      "text/plain": [
       "dict_keys([dtype('float64'), dtype('O')])"
      ]
     },
     "execution_count": 41,
     "metadata": {},
     "output_type": "execute_result"
    }
   ],
   "source": [
    "a.keys()"
   ]
  },
  {
   "cell_type": "markdown",
   "metadata": {},
   "source": [
    "##  选取一个或者一组列"
   ]
  },
  {
   "cell_type": "code",
   "execution_count": null,
   "metadata": {},
   "outputs": [],
   "source": [
    "'''\n",
    "df.groupby('key1')['data1']\n",
    "df.groupby('key1')[['data2']]\n",
    "\n",
    "语法糖：\n",
    "df['data1'].groupby(df['key1'])\n",
    "df[['data2']].groupby(df['key2'])\n",
    "'''"
   ]
  },
  {
   "cell_type": "code",
   "execution_count": 50,
   "metadata": {
    "scrolled": true
   },
   "outputs": [],
   "source": [
    "b = df.groupby(['key1','key2'])[['data2']].mean()"
   ]
  },
  {
   "cell_type": "code",
   "execution_count": 52,
   "metadata": {
    "scrolled": false
   },
   "outputs": [
    {
     "data": {
      "text/html": [
       "<div>\n",
       "<style scoped>\n",
       "    .dataframe tbody tr th:only-of-type {\n",
       "        vertical-align: middle;\n",
       "    }\n",
       "\n",
       "    .dataframe tbody tr th {\n",
       "        vertical-align: top;\n",
       "    }\n",
       "\n",
       "    .dataframe thead th {\n",
       "        text-align: right;\n",
       "    }\n",
       "</style>\n",
       "<table border=\"1\" class=\"dataframe\">\n",
       "  <thead>\n",
       "    <tr style=\"text-align: right;\">\n",
       "      <th></th>\n",
       "      <th></th>\n",
       "      <th>data2</th>\n",
       "    </tr>\n",
       "    <tr>\n",
       "      <th>key1</th>\n",
       "      <th>key2</th>\n",
       "      <th></th>\n",
       "    </tr>\n",
       "  </thead>\n",
       "  <tbody>\n",
       "    <tr>\n",
       "      <th rowspan=\"2\" valign=\"top\">a</th>\n",
       "      <th>one</th>\n",
       "      <td>-0.478683</td>\n",
       "    </tr>\n",
       "    <tr>\n",
       "      <th>two</th>\n",
       "      <td>1.337923</td>\n",
       "    </tr>\n",
       "    <tr>\n",
       "      <th rowspan=\"2\" valign=\"top\">b</th>\n",
       "      <th>one</th>\n",
       "      <td>1.877905</td>\n",
       "    </tr>\n",
       "    <tr>\n",
       "      <th>two</th>\n",
       "      <td>0.023196</td>\n",
       "    </tr>\n",
       "  </tbody>\n",
       "</table>\n",
       "</div>"
      ],
      "text/plain": [
       "              data2\n",
       "key1 key2          \n",
       "a    one  -0.478683\n",
       "     two   1.337923\n",
       "b    one   1.877905\n",
       "     two   0.023196"
      ]
     },
     "execution_count": 52,
     "metadata": {},
     "output_type": "execute_result"
    }
   ],
   "source": [
    "b\n"
   ]
  },
  {
   "cell_type": "code",
   "execution_count": 56,
   "metadata": {},
   "outputs": [
    {
     "ename": "TypeError",
     "evalue": "'MultiIndex' object is not callable",
     "output_type": "error",
     "traceback": [
      "\u001b[1;31m---------------------------------------------------------------------------\u001b[0m",
      "\u001b[1;31mTypeError\u001b[0m                                 Traceback (most recent call last)",
      "\u001b[1;32m<ipython-input-56-b87b16c6fe46>\u001b[0m in \u001b[0;36m<module>\u001b[1;34m\u001b[0m\n\u001b[1;32m----> 1\u001b[1;33m \u001b[0mb\u001b[0m\u001b[1;33m.\u001b[0m\u001b[0mindex\u001b[0m\u001b[1;33m(\u001b[0m\u001b[1;33m)\u001b[0m\u001b[1;33m\u001b[0m\u001b[1;33m\u001b[0m\u001b[0m\n\u001b[0m",
      "\u001b[1;31mTypeError\u001b[0m: 'MultiIndex' object is not callable"
     ]
    }
   ],
   "source": [
    "b.index() # 'MultiIndex' object is not callable"
   ]
  },
  {
   "cell_type": "code",
   "execution_count": 57,
   "metadata": {},
   "outputs": [],
   "source": [
    "c = df.groupby(['key1','key2'])['data2'].mean()"
   ]
  },
  {
   "cell_type": "code",
   "execution_count": 58,
   "metadata": {},
   "outputs": [
    {
     "data": {
      "text/plain": [
       "key1  key2\n",
       "a     one    -0.478683\n",
       "      two     1.337923\n",
       "b     one     1.877905\n",
       "      two     0.023196\n",
       "Name: data2, dtype: float64"
      ]
     },
     "execution_count": 58,
     "metadata": {},
     "output_type": "execute_result"
    }
   ],
   "source": [
    "c"
   ]
  },
  {
   "cell_type": "code",
   "execution_count": 55,
   "metadata": {},
   "outputs": [
    {
     "ename": "TypeError",
     "evalue": "'MultiIndex' object is not callable",
     "output_type": "error",
     "traceback": [
      "\u001b[1;31m---------------------------------------------------------------------------\u001b[0m",
      "\u001b[1;31mTypeError\u001b[0m                                 Traceback (most recent call last)",
      "\u001b[1;32m<ipython-input-55-7402e166e90c>\u001b[0m in \u001b[0;36m<module>\u001b[1;34m\u001b[0m\n\u001b[1;32m----> 1\u001b[1;33m \u001b[0mc\u001b[0m\u001b[1;33m.\u001b[0m\u001b[0mindex\u001b[0m\u001b[1;33m(\u001b[0m\u001b[1;33m)\u001b[0m\u001b[1;33m\u001b[0m\u001b[1;33m\u001b[0m\u001b[0m\n\u001b[0m",
      "\u001b[1;31mTypeError\u001b[0m: 'MultiIndex' object is not callable"
     ]
    }
   ],
   "source": [
    "c.index() # 'MultiIndex' object is not callable"
   ]
  },
  {
   "cell_type": "markdown",
   "metadata": {},
   "source": [
    "##  通过字典或者series进行分组"
   ]
  },
  {
   "cell_type": "code",
   "execution_count": 70,
   "metadata": {},
   "outputs": [],
   "source": [
    "people = pd.DataFrame(np.random.randn(5,5),\n",
    "                     columns = list('abcde'),\n",
    "                     index = ['Joe','Steve','Wes','Jim','Travis'])"
   ]
  },
  {
   "cell_type": "code",
   "execution_count": 72,
   "metadata": {},
   "outputs": [
    {
     "data": {
      "text/plain": [
       "'D:\\\\Python\\\\Anaconda\\\\lib\\\\site-packages\\\\ipykernel_launcher.py:1: DeprecationWarning: \\n.ix is deprecated. Please use\\n.loc for label based indexing or\\n.iloc for positional indexing\\n\\nSee the documentation here:\\nhttp://pandas.pydata.org/pandas-docs/stable/indexing.html#ix-indexer-is-deprecated\\n  \"\"\"Entry point for launching an IPython kernel.\\n  '"
      ]
     },
     "execution_count": 72,
     "metadata": {},
     "output_type": "execute_result"
    }
   ],
   "source": [
    "#people.ix[2:3,['b','c']] = np.nan\n",
    "'''D:\\Python\\Anaconda\\lib\\site-packages\\ipykernel_launcher.py:1: DeprecationWarning: \n",
    ".ix is deprecated. Please use\n",
    ".loc for label based indexing or\n",
    ".iloc for positional indexing\n",
    "\n",
    "See the documentation here:\n",
    "http://pandas.pydata.org/pandas-docs/stable/indexing.html#ix-indexer-is-deprecated\n",
    "  \"\"\"Entry point for launching an IPython kernel.\n",
    "  '''\n"
   ]
  },
  {
   "cell_type": "markdown",
   "metadata": {},
   "source": [
    "###  嵌套列表"
   ]
  },
  {
   "cell_type": "code",
   "execution_count": 74,
   "metadata": {},
   "outputs": [],
   "source": [
    "people.iloc[2:3,[1,2]]=np.nan  "
   ]
  },
  {
   "cell_type": "code",
   "execution_count": 75,
   "metadata": {},
   "outputs": [
    {
     "data": {
      "text/html": [
       "<div>\n",
       "<style scoped>\n",
       "    .dataframe tbody tr th:only-of-type {\n",
       "        vertical-align: middle;\n",
       "    }\n",
       "\n",
       "    .dataframe tbody tr th {\n",
       "        vertical-align: top;\n",
       "    }\n",
       "\n",
       "    .dataframe thead th {\n",
       "        text-align: right;\n",
       "    }\n",
       "</style>\n",
       "<table border=\"1\" class=\"dataframe\">\n",
       "  <thead>\n",
       "    <tr style=\"text-align: right;\">\n",
       "      <th></th>\n",
       "      <th>a</th>\n",
       "      <th>b</th>\n",
       "      <th>c</th>\n",
       "      <th>d</th>\n",
       "      <th>e</th>\n",
       "    </tr>\n",
       "  </thead>\n",
       "  <tbody>\n",
       "    <tr>\n",
       "      <th>Joe</th>\n",
       "      <td>1.177948</td>\n",
       "      <td>0.647627</td>\n",
       "      <td>-0.911741</td>\n",
       "      <td>-1.615892</td>\n",
       "      <td>0.799566</td>\n",
       "    </tr>\n",
       "    <tr>\n",
       "      <th>Steve</th>\n",
       "      <td>0.456818</td>\n",
       "      <td>0.893351</td>\n",
       "      <td>1.218460</td>\n",
       "      <td>0.104298</td>\n",
       "      <td>0.791649</td>\n",
       "    </tr>\n",
       "    <tr>\n",
       "      <th>Wes</th>\n",
       "      <td>1.086997</td>\n",
       "      <td>NaN</td>\n",
       "      <td>NaN</td>\n",
       "      <td>-0.129524</td>\n",
       "      <td>-1.332521</td>\n",
       "    </tr>\n",
       "    <tr>\n",
       "      <th>Jim</th>\n",
       "      <td>-0.081887</td>\n",
       "      <td>0.589467</td>\n",
       "      <td>0.278192</td>\n",
       "      <td>-0.756594</td>\n",
       "      <td>0.007582</td>\n",
       "    </tr>\n",
       "    <tr>\n",
       "      <th>Travis</th>\n",
       "      <td>-0.224656</td>\n",
       "      <td>-0.167591</td>\n",
       "      <td>0.147873</td>\n",
       "      <td>-1.217879</td>\n",
       "      <td>0.351204</td>\n",
       "    </tr>\n",
       "  </tbody>\n",
       "</table>\n",
       "</div>"
      ],
      "text/plain": [
       "               a         b         c         d         e\n",
       "Joe     1.177948  0.647627 -0.911741 -1.615892  0.799566\n",
       "Steve   0.456818  0.893351  1.218460  0.104298  0.791649\n",
       "Wes     1.086997       NaN       NaN -0.129524 -1.332521\n",
       "Jim    -0.081887  0.589467  0.278192 -0.756594  0.007582\n",
       "Travis -0.224656 -0.167591  0.147873 -1.217879  0.351204"
      ]
     },
     "execution_count": 75,
     "metadata": {},
     "output_type": "execute_result"
    }
   ],
   "source": [
    "people"
   ]
  },
  {
   "cell_type": "code",
   "execution_count": 76,
   "metadata": {},
   "outputs": [
    {
     "data": {
      "text/html": [
       "<div>\n",
       "<style scoped>\n",
       "    .dataframe tbody tr th:only-of-type {\n",
       "        vertical-align: middle;\n",
       "    }\n",
       "\n",
       "    .dataframe tbody tr th {\n",
       "        vertical-align: top;\n",
       "    }\n",
       "\n",
       "    .dataframe thead th {\n",
       "        text-align: right;\n",
       "    }\n",
       "</style>\n",
       "<table border=\"1\" class=\"dataframe\">\n",
       "  <thead>\n",
       "    <tr style=\"text-align: right;\">\n",
       "      <th></th>\n",
       "      <th>blue</th>\n",
       "      <th>red</th>\n",
       "    </tr>\n",
       "  </thead>\n",
       "  <tbody>\n",
       "    <tr>\n",
       "      <th>Joe</th>\n",
       "      <td>-2.527633</td>\n",
       "      <td>2.625141</td>\n",
       "    </tr>\n",
       "    <tr>\n",
       "      <th>Steve</th>\n",
       "      <td>1.322758</td>\n",
       "      <td>2.141818</td>\n",
       "    </tr>\n",
       "    <tr>\n",
       "      <th>Wes</th>\n",
       "      <td>-0.129524</td>\n",
       "      <td>-0.245524</td>\n",
       "    </tr>\n",
       "    <tr>\n",
       "      <th>Jim</th>\n",
       "      <td>-0.478402</td>\n",
       "      <td>0.515162</td>\n",
       "    </tr>\n",
       "    <tr>\n",
       "      <th>Travis</th>\n",
       "      <td>-1.070006</td>\n",
       "      <td>-0.041044</td>\n",
       "    </tr>\n",
       "  </tbody>\n",
       "</table>\n",
       "</div>"
      ],
      "text/plain": [
       "            blue       red\n",
       "Joe    -2.527633  2.625141\n",
       "Steve   1.322758  2.141818\n",
       "Wes    -0.129524 -0.245524\n",
       "Jim    -0.478402  0.515162\n",
       "Travis -1.070006 -0.041044"
      ]
     },
     "execution_count": 76,
     "metadata": {},
     "output_type": "execute_result"
    }
   ],
   "source": [
    "mapping={'a':'red','b':'red','c':'blue','d':'blue','e':'red','f':'orange'}\n",
    "\n",
    "by_column=people.groupby(mapping,axis=1)\n",
    "\n",
    "by_column.sum()"
   ]
  },
  {
   "cell_type": "code",
   "execution_count": 77,
   "metadata": {},
   "outputs": [
    {
     "data": {
      "text/html": [
       "<div>\n",
       "<style scoped>\n",
       "    .dataframe tbody tr th:only-of-type {\n",
       "        vertical-align: middle;\n",
       "    }\n",
       "\n",
       "    .dataframe tbody tr th {\n",
       "        vertical-align: top;\n",
       "    }\n",
       "\n",
       "    .dataframe thead th {\n",
       "        text-align: right;\n",
       "    }\n",
       "</style>\n",
       "<table border=\"1\" class=\"dataframe\">\n",
       "  <thead>\n",
       "    <tr style=\"text-align: right;\">\n",
       "      <th></th>\n",
       "      <th>a</th>\n",
       "      <th>b</th>\n",
       "      <th>c</th>\n",
       "      <th>d</th>\n",
       "      <th>e</th>\n",
       "    </tr>\n",
       "  </thead>\n",
       "  <tbody>\n",
       "  </tbody>\n",
       "</table>\n",
       "</div>"
      ],
      "text/plain": [
       "Empty DataFrame\n",
       "Columns: [a, b, c, d, e]\n",
       "Index: []"
      ]
     },
     "execution_count": 77,
     "metadata": {},
     "output_type": "execute_result"
    }
   ],
   "source": [
    "by_column=people.groupby(mapping) # 没有加 axis =1\n",
    "\n",
    "by_column.sum()"
   ]
  },
  {
   "cell_type": "code",
   "execution_count": 82,
   "metadata": {},
   "outputs": [
    {
     "data": {
      "text/plain": [
       "a       red\n",
       "b       red\n",
       "c      blue\n",
       "d      blue\n",
       "e       red\n",
       "f    orange\n",
       "dtype: object"
      ]
     },
     "execution_count": 82,
     "metadata": {},
     "output_type": "execute_result"
    }
   ],
   "source": [
    "map_series = pd.Series(mapping)\n",
    "map_series"
   ]
  },
  {
   "cell_type": "code",
   "execution_count": 85,
   "metadata": {},
   "outputs": [
    {
     "data": {
      "text/html": [
       "<div>\n",
       "<style scoped>\n",
       "    .dataframe tbody tr th:only-of-type {\n",
       "        vertical-align: middle;\n",
       "    }\n",
       "\n",
       "    .dataframe tbody tr th {\n",
       "        vertical-align: top;\n",
       "    }\n",
       "\n",
       "    .dataframe thead th {\n",
       "        text-align: right;\n",
       "    }\n",
       "</style>\n",
       "<table border=\"1\" class=\"dataframe\">\n",
       "  <thead>\n",
       "    <tr style=\"text-align: right;\">\n",
       "      <th></th>\n",
       "      <th>blue</th>\n",
       "      <th>red</th>\n",
       "    </tr>\n",
       "  </thead>\n",
       "  <tbody>\n",
       "    <tr>\n",
       "      <th>Joe</th>\n",
       "      <td>2</td>\n",
       "      <td>3</td>\n",
       "    </tr>\n",
       "    <tr>\n",
       "      <th>Steve</th>\n",
       "      <td>2</td>\n",
       "      <td>3</td>\n",
       "    </tr>\n",
       "    <tr>\n",
       "      <th>Wes</th>\n",
       "      <td>1</td>\n",
       "      <td>2</td>\n",
       "    </tr>\n",
       "    <tr>\n",
       "      <th>Jim</th>\n",
       "      <td>2</td>\n",
       "      <td>3</td>\n",
       "    </tr>\n",
       "    <tr>\n",
       "      <th>Travis</th>\n",
       "      <td>2</td>\n",
       "      <td>3</td>\n",
       "    </tr>\n",
       "  </tbody>\n",
       "</table>\n",
       "</div>"
      ],
      "text/plain": [
       "        blue  red\n",
       "Joe        2    3\n",
       "Steve      2    3\n",
       "Wes        1    2\n",
       "Jim        2    3\n",
       "Travis     2    3"
      ]
     },
     "execution_count": 85,
     "metadata": {},
     "output_type": "execute_result"
    }
   ],
   "source": [
    "people.groupby(map_series,axis=1).count()"
   ]
  },
  {
   "cell_type": "markdown",
   "metadata": {},
   "source": [
    "##  通过函数进行分组\n",
    "---\n",
    "相较于dic或者Series，python函数在定义分组关系映射时更有创意。任何被当做分组键的函数都会在各个索引上被调用一次，其返回值就会被用作分组名称。"
   ]
  },
  {
   "cell_type": "markdown",
   "metadata": {},
   "source": [
    "假设你按人名的长度进行分组，仅仅传入len即可"
   ]
  },
  {
   "cell_type": "code",
   "execution_count": 87,
   "metadata": {},
   "outputs": [
    {
     "data": {
      "text/html": [
       "<div>\n",
       "<style scoped>\n",
       "    .dataframe tbody tr th:only-of-type {\n",
       "        vertical-align: middle;\n",
       "    }\n",
       "\n",
       "    .dataframe tbody tr th {\n",
       "        vertical-align: top;\n",
       "    }\n",
       "\n",
       "    .dataframe thead th {\n",
       "        text-align: right;\n",
       "    }\n",
       "</style>\n",
       "<table border=\"1\" class=\"dataframe\">\n",
       "  <thead>\n",
       "    <tr style=\"text-align: right;\">\n",
       "      <th></th>\n",
       "      <th>a</th>\n",
       "      <th>b</th>\n",
       "      <th>c</th>\n",
       "      <th>d</th>\n",
       "      <th>e</th>\n",
       "    </tr>\n",
       "  </thead>\n",
       "  <tbody>\n",
       "    <tr>\n",
       "      <th>3</th>\n",
       "      <td>2.183059</td>\n",
       "      <td>1.237094</td>\n",
       "      <td>-0.633548</td>\n",
       "      <td>-2.502010</td>\n",
       "      <td>-0.525373</td>\n",
       "    </tr>\n",
       "    <tr>\n",
       "      <th>5</th>\n",
       "      <td>0.456818</td>\n",
       "      <td>0.893351</td>\n",
       "      <td>1.218460</td>\n",
       "      <td>0.104298</td>\n",
       "      <td>0.791649</td>\n",
       "    </tr>\n",
       "    <tr>\n",
       "      <th>6</th>\n",
       "      <td>-0.224656</td>\n",
       "      <td>-0.167591</td>\n",
       "      <td>0.147873</td>\n",
       "      <td>-1.217879</td>\n",
       "      <td>0.351204</td>\n",
       "    </tr>\n",
       "  </tbody>\n",
       "</table>\n",
       "</div>"
      ],
      "text/plain": [
       "          a         b         c         d         e\n",
       "3  2.183059  1.237094 -0.633548 -2.502010 -0.525373\n",
       "5  0.456818  0.893351  1.218460  0.104298  0.791649\n",
       "6 -0.224656 -0.167591  0.147873 -1.217879  0.351204"
      ]
     },
     "execution_count": 87,
     "metadata": {},
     "output_type": "execute_result"
    }
   ],
   "source": [
    "people.groupby(len).sum()"
   ]
  },
  {
   "cell_type": "markdown",
   "metadata": {},
   "source": [
    "将函数和数组、列表、字典、Series混合使用也不是问题，因为任何东西都会最终转换为数组"
   ]
  },
  {
   "cell_type": "code",
   "execution_count": 88,
   "metadata": {},
   "outputs": [
    {
     "data": {
      "text/html": [
       "<div>\n",
       "<style scoped>\n",
       "    .dataframe tbody tr th:only-of-type {\n",
       "        vertical-align: middle;\n",
       "    }\n",
       "\n",
       "    .dataframe tbody tr th {\n",
       "        vertical-align: top;\n",
       "    }\n",
       "\n",
       "    .dataframe thead th {\n",
       "        text-align: right;\n",
       "    }\n",
       "</style>\n",
       "<table border=\"1\" class=\"dataframe\">\n",
       "  <thead>\n",
       "    <tr style=\"text-align: right;\">\n",
       "      <th></th>\n",
       "      <th></th>\n",
       "      <th>a</th>\n",
       "      <th>b</th>\n",
       "      <th>c</th>\n",
       "      <th>d</th>\n",
       "      <th>e</th>\n",
       "    </tr>\n",
       "  </thead>\n",
       "  <tbody>\n",
       "    <tr>\n",
       "      <th rowspan=\"2\" valign=\"top\">3</th>\n",
       "      <th>one</th>\n",
       "      <td>2.264945</td>\n",
       "      <td>0.647627</td>\n",
       "      <td>-0.911741</td>\n",
       "      <td>-1.745416</td>\n",
       "      <td>-0.532955</td>\n",
       "    </tr>\n",
       "    <tr>\n",
       "      <th>two</th>\n",
       "      <td>-0.081887</td>\n",
       "      <td>0.589467</td>\n",
       "      <td>0.278192</td>\n",
       "      <td>-0.756594</td>\n",
       "      <td>0.007582</td>\n",
       "    </tr>\n",
       "    <tr>\n",
       "      <th>5</th>\n",
       "      <th>one</th>\n",
       "      <td>0.456818</td>\n",
       "      <td>0.893351</td>\n",
       "      <td>1.218460</td>\n",
       "      <td>0.104298</td>\n",
       "      <td>0.791649</td>\n",
       "    </tr>\n",
       "    <tr>\n",
       "      <th>6</th>\n",
       "      <th>two</th>\n",
       "      <td>-0.224656</td>\n",
       "      <td>-0.167591</td>\n",
       "      <td>0.147873</td>\n",
       "      <td>-1.217879</td>\n",
       "      <td>0.351204</td>\n",
       "    </tr>\n",
       "  </tbody>\n",
       "</table>\n",
       "</div>"
      ],
      "text/plain": [
       "              a         b         c         d         e\n",
       "3 one  2.264945  0.647627 -0.911741 -1.745416 -0.532955\n",
       "  two -0.081887  0.589467  0.278192 -0.756594  0.007582\n",
       "5 one  0.456818  0.893351  1.218460  0.104298  0.791649\n",
       "6 two -0.224656 -0.167591  0.147873 -1.217879  0.351204"
      ]
     },
     "execution_count": 88,
     "metadata": {},
     "output_type": "execute_result"
    }
   ],
   "source": [
    "key_list=['one','one','one','two','two']\n",
    "people.groupby([len,key_list]).sum()"
   ]
  },
  {
   "cell_type": "code",
   "execution_count": 89,
   "metadata": {},
   "outputs": [
    {
     "data": {
      "text/html": [
       "<div>\n",
       "<style scoped>\n",
       "    .dataframe tbody tr th:only-of-type {\n",
       "        vertical-align: middle;\n",
       "    }\n",
       "\n",
       "    .dataframe tbody tr th {\n",
       "        vertical-align: top;\n",
       "    }\n",
       "\n",
       "    .dataframe thead tr th {\n",
       "        text-align: left;\n",
       "    }\n",
       "</style>\n",
       "<table border=\"1\" class=\"dataframe\">\n",
       "  <thead>\n",
       "    <tr>\n",
       "      <th>cty</th>\n",
       "      <th colspan=\"3\" halign=\"left\">US</th>\n",
       "      <th colspan=\"2\" halign=\"left\">JP</th>\n",
       "    </tr>\n",
       "    <tr>\n",
       "      <th>tenor</th>\n",
       "      <th>1</th>\n",
       "      <th>3</th>\n",
       "      <th>5</th>\n",
       "      <th>1</th>\n",
       "      <th>3</th>\n",
       "    </tr>\n",
       "  </thead>\n",
       "  <tbody>\n",
       "    <tr>\n",
       "      <th>0</th>\n",
       "      <td>0.879451</td>\n",
       "      <td>0.964719</td>\n",
       "      <td>-1.140253</td>\n",
       "      <td>0.840767</td>\n",
       "      <td>0.661284</td>\n",
       "    </tr>\n",
       "    <tr>\n",
       "      <th>1</th>\n",
       "      <td>-0.356189</td>\n",
       "      <td>0.935693</td>\n",
       "      <td>1.157947</td>\n",
       "      <td>0.829858</td>\n",
       "      <td>1.187149</td>\n",
       "    </tr>\n",
       "    <tr>\n",
       "      <th>2</th>\n",
       "      <td>0.534124</td>\n",
       "      <td>-1.055307</td>\n",
       "      <td>0.167114</td>\n",
       "      <td>-0.420999</td>\n",
       "      <td>0.640616</td>\n",
       "    </tr>\n",
       "    <tr>\n",
       "      <th>3</th>\n",
       "      <td>0.026906</td>\n",
       "      <td>1.779523</td>\n",
       "      <td>1.083881</td>\n",
       "      <td>-0.101403</td>\n",
       "      <td>-1.205940</td>\n",
       "    </tr>\n",
       "  </tbody>\n",
       "</table>\n",
       "</div>"
      ],
      "text/plain": [
       "cty          US                            JP          \n",
       "tenor         1         3         5         1         3\n",
       "0      0.879451  0.964719 -1.140253  0.840767  0.661284\n",
       "1     -0.356189  0.935693  1.157947  0.829858  1.187149\n",
       "2      0.534124 -1.055307  0.167114 -0.420999  0.640616\n",
       "3      0.026906  1.779523  1.083881 -0.101403 -1.205940"
      ]
     },
     "execution_count": 89,
     "metadata": {},
     "output_type": "execute_result"
    }
   ],
   "source": [
    "columns = pd.MultiIndex.from_arrays([['US','US','US','JP','JP'],[1,3,5,1,3]],names=['cty','tenor'])\n",
    "hier_df = pd.DataFrame(np.random.randn(4,5),columns=columns)\n",
    "hier_df"
   ]
  },
  {
   "cell_type": "code",
   "execution_count": 92,
   "metadata": {},
   "outputs": [
    {
     "data": {
      "text/html": [
       "<div>\n",
       "<style scoped>\n",
       "    .dataframe tbody tr th:only-of-type {\n",
       "        vertical-align: middle;\n",
       "    }\n",
       "\n",
       "    .dataframe tbody tr th {\n",
       "        vertical-align: top;\n",
       "    }\n",
       "\n",
       "    .dataframe thead th {\n",
       "        text-align: right;\n",
       "    }\n",
       "</style>\n",
       "<table border=\"1\" class=\"dataframe\">\n",
       "  <thead>\n",
       "    <tr style=\"text-align: right;\">\n",
       "      <th>cty</th>\n",
       "      <th>JP</th>\n",
       "      <th>US</th>\n",
       "    </tr>\n",
       "  </thead>\n",
       "  <tbody>\n",
       "    <tr>\n",
       "      <th>0</th>\n",
       "      <td>2</td>\n",
       "      <td>3</td>\n",
       "    </tr>\n",
       "    <tr>\n",
       "      <th>1</th>\n",
       "      <td>2</td>\n",
       "      <td>3</td>\n",
       "    </tr>\n",
       "    <tr>\n",
       "      <th>2</th>\n",
       "      <td>2</td>\n",
       "      <td>3</td>\n",
       "    </tr>\n",
       "    <tr>\n",
       "      <th>3</th>\n",
       "      <td>2</td>\n",
       "      <td>3</td>\n",
       "    </tr>\n",
       "  </tbody>\n",
       "</table>\n",
       "</div>"
      ],
      "text/plain": [
       "cty  JP  US\n",
       "0     2   3\n",
       "1     2   3\n",
       "2     2   3\n",
       "3     2   3"
      ]
     },
     "execution_count": 92,
     "metadata": {},
     "output_type": "execute_result"
    }
   ],
   "source": [
    "hier_df.groupby(level='cty',axis=1).count()"
   ]
  },
  {
   "cell_type": "markdown",
   "metadata": {},
   "source": [
    "##  数据聚合"
   ]
  },
  {
   "cell_type": "code",
   "execution_count": 95,
   "metadata": {},
   "outputs": [],
   "source": [
    "def peak_to_peak(arr):\n",
    "    return arr.max()-arr.min()"
   ]
  },
  {
   "cell_type": "code",
   "execution_count": 96,
   "metadata": {},
   "outputs": [
    {
     "ename": "TypeError",
     "evalue": "(\"unsupported operand type(s) for -: 'str' and 'str'\", 'occurred at index 0')",
     "output_type": "error",
     "traceback": [
      "\u001b[1;31m---------------------------------------------------------------------------\u001b[0m",
      "\u001b[1;31mNotImplementedError\u001b[0m                       Traceback (most recent call last)",
      "\u001b[1;32mD:\\Python\\Anaconda\\lib\\site-packages\\pandas\\core\\groupby\\generic.py\u001b[0m in \u001b[0;36maggregate\u001b[1;34m(self, arg, *args, **kwargs)\u001b[0m\n\u001b[0;32m    200\u001b[0m                     result = self._aggregate_multiple_funcs(\n\u001b[1;32m--> 201\u001b[1;33m                         [arg], _level=_level, _axis=self.axis)\n\u001b[0m\u001b[0;32m    202\u001b[0m                     result.columns = Index(\n",
      "\u001b[1;32mD:\\Python\\Anaconda\\lib\\site-packages\\pandas\\core\\base.py\u001b[0m in \u001b[0;36m_aggregate_multiple_funcs\u001b[1;34m(self, arg, _level, _axis)\u001b[0m\n\u001b[0;32m    573\u001b[0m         \u001b[1;32mif\u001b[0m \u001b[0m_axis\u001b[0m \u001b[1;33m!=\u001b[0m \u001b[1;36m0\u001b[0m\u001b[1;33m:\u001b[0m\u001b[1;33m\u001b[0m\u001b[1;33m\u001b[0m\u001b[0m\n\u001b[1;32m--> 574\u001b[1;33m             \u001b[1;32mraise\u001b[0m \u001b[0mNotImplementedError\u001b[0m\u001b[1;33m(\u001b[0m\u001b[1;34m\"axis other than 0 is not supported\"\u001b[0m\u001b[1;33m)\u001b[0m\u001b[1;33m\u001b[0m\u001b[1;33m\u001b[0m\u001b[0m\n\u001b[0m\u001b[0;32m    575\u001b[0m \u001b[1;33m\u001b[0m\u001b[0m\n",
      "\u001b[1;31mNotImplementedError\u001b[0m: axis other than 0 is not supported",
      "\nDuring handling of the above exception, another exception occurred:\n",
      "\u001b[1;31mTypeError\u001b[0m                                 Traceback (most recent call last)",
      "\u001b[1;32mD:\\Python\\Anaconda\\lib\\site-packages\\pandas\\core\\ops.py\u001b[0m in \u001b[0;36mna_op\u001b[1;34m(x, y)\u001b[0m\n\u001b[0;32m   1504\u001b[0m         \u001b[1;32mtry\u001b[0m\u001b[1;33m:\u001b[0m\u001b[1;33m\u001b[0m\u001b[1;33m\u001b[0m\u001b[0m\n\u001b[1;32m-> 1505\u001b[1;33m             \u001b[0mresult\u001b[0m \u001b[1;33m=\u001b[0m \u001b[0mexpressions\u001b[0m\u001b[1;33m.\u001b[0m\u001b[0mevaluate\u001b[0m\u001b[1;33m(\u001b[0m\u001b[0mop\u001b[0m\u001b[1;33m,\u001b[0m \u001b[0mstr_rep\u001b[0m\u001b[1;33m,\u001b[0m \u001b[0mx\u001b[0m\u001b[1;33m,\u001b[0m \u001b[0my\u001b[0m\u001b[1;33m,\u001b[0m \u001b[1;33m**\u001b[0m\u001b[0meval_kwargs\u001b[0m\u001b[1;33m)\u001b[0m\u001b[1;33m\u001b[0m\u001b[1;33m\u001b[0m\u001b[0m\n\u001b[0m\u001b[0;32m   1506\u001b[0m         \u001b[1;32mexcept\u001b[0m \u001b[0mTypeError\u001b[0m\u001b[1;33m:\u001b[0m\u001b[1;33m\u001b[0m\u001b[1;33m\u001b[0m\u001b[0m\n",
      "\u001b[1;32mD:\\Python\\Anaconda\\lib\\site-packages\\pandas\\core\\computation\\expressions.py\u001b[0m in \u001b[0;36mevaluate\u001b[1;34m(op, op_str, a, b, use_numexpr, **eval_kwargs)\u001b[0m\n\u001b[0;32m    207\u001b[0m     \u001b[1;32mif\u001b[0m \u001b[0muse_numexpr\u001b[0m\u001b[1;33m:\u001b[0m\u001b[1;33m\u001b[0m\u001b[1;33m\u001b[0m\u001b[0m\n\u001b[1;32m--> 208\u001b[1;33m         \u001b[1;32mreturn\u001b[0m \u001b[0m_evaluate\u001b[0m\u001b[1;33m(\u001b[0m\u001b[0mop\u001b[0m\u001b[1;33m,\u001b[0m \u001b[0mop_str\u001b[0m\u001b[1;33m,\u001b[0m \u001b[0ma\u001b[0m\u001b[1;33m,\u001b[0m \u001b[0mb\u001b[0m\u001b[1;33m,\u001b[0m \u001b[1;33m**\u001b[0m\u001b[0meval_kwargs\u001b[0m\u001b[1;33m)\u001b[0m\u001b[1;33m\u001b[0m\u001b[1;33m\u001b[0m\u001b[0m\n\u001b[0m\u001b[0;32m    209\u001b[0m     \u001b[1;32mreturn\u001b[0m \u001b[0m_evaluate_standard\u001b[0m\u001b[1;33m(\u001b[0m\u001b[0mop\u001b[0m\u001b[1;33m,\u001b[0m \u001b[0mop_str\u001b[0m\u001b[1;33m,\u001b[0m \u001b[0ma\u001b[0m\u001b[1;33m,\u001b[0m \u001b[0mb\u001b[0m\u001b[1;33m)\u001b[0m\u001b[1;33m\u001b[0m\u001b[1;33m\u001b[0m\u001b[0m\n",
      "\u001b[1;32mD:\\Python\\Anaconda\\lib\\site-packages\\pandas\\core\\computation\\expressions.py\u001b[0m in \u001b[0;36m_evaluate_numexpr\u001b[1;34m(op, op_str, a, b, truediv, reversed, **eval_kwargs)\u001b[0m\n\u001b[0;32m    122\u001b[0m     \u001b[1;32mif\u001b[0m \u001b[0mresult\u001b[0m \u001b[1;32mis\u001b[0m \u001b[1;32mNone\u001b[0m\u001b[1;33m:\u001b[0m\u001b[1;33m\u001b[0m\u001b[1;33m\u001b[0m\u001b[0m\n\u001b[1;32m--> 123\u001b[1;33m         \u001b[0mresult\u001b[0m \u001b[1;33m=\u001b[0m \u001b[0m_evaluate_standard\u001b[0m\u001b[1;33m(\u001b[0m\u001b[0mop\u001b[0m\u001b[1;33m,\u001b[0m \u001b[0mop_str\u001b[0m\u001b[1;33m,\u001b[0m \u001b[0ma\u001b[0m\u001b[1;33m,\u001b[0m \u001b[0mb\u001b[0m\u001b[1;33m)\u001b[0m\u001b[1;33m\u001b[0m\u001b[1;33m\u001b[0m\u001b[0m\n\u001b[0m\u001b[0;32m    124\u001b[0m \u001b[1;33m\u001b[0m\u001b[0m\n",
      "\u001b[1;32mD:\\Python\\Anaconda\\lib\\site-packages\\pandas\\core\\computation\\expressions.py\u001b[0m in \u001b[0;36m_evaluate_standard\u001b[1;34m(op, op_str, a, b, **eval_kwargs)\u001b[0m\n\u001b[0;32m     67\u001b[0m     \u001b[1;32mwith\u001b[0m \u001b[0mnp\u001b[0m\u001b[1;33m.\u001b[0m\u001b[0merrstate\u001b[0m\u001b[1;33m(\u001b[0m\u001b[0mall\u001b[0m\u001b[1;33m=\u001b[0m\u001b[1;34m'ignore'\u001b[0m\u001b[1;33m)\u001b[0m\u001b[1;33m:\u001b[0m\u001b[1;33m\u001b[0m\u001b[1;33m\u001b[0m\u001b[0m\n\u001b[1;32m---> 68\u001b[1;33m         \u001b[1;32mreturn\u001b[0m \u001b[0mop\u001b[0m\u001b[1;33m(\u001b[0m\u001b[0ma\u001b[0m\u001b[1;33m,\u001b[0m \u001b[0mb\u001b[0m\u001b[1;33m)\u001b[0m\u001b[1;33m\u001b[0m\u001b[1;33m\u001b[0m\u001b[0m\n\u001b[0m\u001b[0;32m     69\u001b[0m \u001b[1;33m\u001b[0m\u001b[0m\n",
      "\u001b[1;31mTypeError\u001b[0m: unsupported operand type(s) for -: 'str' and 'str'",
      "\nDuring handling of the above exception, another exception occurred:\n",
      "\u001b[1;31mTypeError\u001b[0m                                 Traceback (most recent call last)",
      "\u001b[1;32mD:\\Python\\Anaconda\\lib\\site-packages\\pandas\\core\\ops.py\u001b[0m in \u001b[0;36msafe_na_op\u001b[1;34m(lvalues, rvalues)\u001b[0m\n\u001b[0;32m   1528\u001b[0m             \u001b[1;32mwith\u001b[0m \u001b[0mnp\u001b[0m\u001b[1;33m.\u001b[0m\u001b[0merrstate\u001b[0m\u001b[1;33m(\u001b[0m\u001b[0mall\u001b[0m\u001b[1;33m=\u001b[0m\u001b[1;34m'ignore'\u001b[0m\u001b[1;33m)\u001b[0m\u001b[1;33m:\u001b[0m\u001b[1;33m\u001b[0m\u001b[1;33m\u001b[0m\u001b[0m\n\u001b[1;32m-> 1529\u001b[1;33m                 \u001b[1;32mreturn\u001b[0m \u001b[0mna_op\u001b[0m\u001b[1;33m(\u001b[0m\u001b[0mlvalues\u001b[0m\u001b[1;33m,\u001b[0m \u001b[0mrvalues\u001b[0m\u001b[1;33m)\u001b[0m\u001b[1;33m\u001b[0m\u001b[1;33m\u001b[0m\u001b[0m\n\u001b[0m\u001b[0;32m   1530\u001b[0m         \u001b[1;32mexcept\u001b[0m \u001b[0mException\u001b[0m\u001b[1;33m:\u001b[0m\u001b[1;33m\u001b[0m\u001b[1;33m\u001b[0m\u001b[0m\n",
      "\u001b[1;32mD:\\Python\\Anaconda\\lib\\site-packages\\pandas\\core\\ops.py\u001b[0m in \u001b[0;36mna_op\u001b[1;34m(x, y)\u001b[0m\n\u001b[0;32m   1506\u001b[0m         \u001b[1;32mexcept\u001b[0m \u001b[0mTypeError\u001b[0m\u001b[1;33m:\u001b[0m\u001b[1;33m\u001b[0m\u001b[1;33m\u001b[0m\u001b[0m\n\u001b[1;32m-> 1507\u001b[1;33m             \u001b[0mresult\u001b[0m \u001b[1;33m=\u001b[0m \u001b[0mmasked_arith_op\u001b[0m\u001b[1;33m(\u001b[0m\u001b[0mx\u001b[0m\u001b[1;33m,\u001b[0m \u001b[0my\u001b[0m\u001b[1;33m,\u001b[0m \u001b[0mop\u001b[0m\u001b[1;33m)\u001b[0m\u001b[1;33m\u001b[0m\u001b[1;33m\u001b[0m\u001b[0m\n\u001b[0m\u001b[0;32m   1508\u001b[0m \u001b[1;33m\u001b[0m\u001b[0m\n",
      "\u001b[1;32mD:\\Python\\Anaconda\\lib\\site-packages\\pandas\\core\\ops.py\u001b[0m in \u001b[0;36mmasked_arith_op\u001b[1;34m(x, y, op)\u001b[0m\n\u001b[0;32m   1008\u001b[0m                 result[mask] = op(xrav[mask],\n\u001b[1;32m-> 1009\u001b[1;33m                                   com.values_from_object(yrav[mask]))\n\u001b[0m\u001b[0;32m   1010\u001b[0m \u001b[1;33m\u001b[0m\u001b[0m\n",
      "\u001b[1;31mTypeError\u001b[0m: unsupported operand type(s) for -: 'str' and 'str'",
      "\nDuring handling of the above exception, another exception occurred:\n",
      "\u001b[1;31mTypeError\u001b[0m                                 Traceback (most recent call last)",
      "\u001b[1;32mD:\\Python\\Anaconda\\lib\\site-packages\\pandas\\core\\groupby\\generic.py\u001b[0m in \u001b[0;36m_aggregate_generic\u001b[1;34m(self, func, *args, **kwargs)\u001b[0m\n\u001b[0;32m    234\u001b[0m                     \u001b[0mdata\u001b[0m \u001b[1;33m=\u001b[0m \u001b[0mself\u001b[0m\u001b[1;33m.\u001b[0m\u001b[0mget_group\u001b[0m\u001b[1;33m(\u001b[0m\u001b[0mname\u001b[0m\u001b[1;33m,\u001b[0m \u001b[0mobj\u001b[0m\u001b[1;33m=\u001b[0m\u001b[0mobj\u001b[0m\u001b[1;33m)\u001b[0m\u001b[1;33m\u001b[0m\u001b[1;33m\u001b[0m\u001b[0m\n\u001b[1;32m--> 235\u001b[1;33m                     result[name] = self._try_cast(func(data, *args, **kwargs),\n\u001b[0m\u001b[0;32m    236\u001b[0m                                                   data)\n",
      "\u001b[1;32m<ipython-input-95-99acd071405d>\u001b[0m in \u001b[0;36mpeak_to_peak\u001b[1;34m(arr)\u001b[0m\n\u001b[0;32m      1\u001b[0m \u001b[1;32mdef\u001b[0m \u001b[0mpeak_to_peak\u001b[0m\u001b[1;33m(\u001b[0m\u001b[0marr\u001b[0m\u001b[1;33m)\u001b[0m\u001b[1;33m:\u001b[0m\u001b[1;33m\u001b[0m\u001b[1;33m\u001b[0m\u001b[0m\n\u001b[1;32m----> 2\u001b[1;33m     \u001b[1;32mreturn\u001b[0m \u001b[0marr\u001b[0m\u001b[1;33m.\u001b[0m\u001b[0mmax\u001b[0m\u001b[1;33m(\u001b[0m\u001b[1;33m)\u001b[0m\u001b[1;33m-\u001b[0m\u001b[0marr\u001b[0m\u001b[1;33m.\u001b[0m\u001b[0mmin\u001b[0m\u001b[1;33m(\u001b[0m\u001b[1;33m)\u001b[0m\u001b[1;33m\u001b[0m\u001b[1;33m\u001b[0m\u001b[0m\n\u001b[0m",
      "\u001b[1;32mD:\\Python\\Anaconda\\lib\\site-packages\\pandas\\core\\ops.py\u001b[0m in \u001b[0;36mwrapper\u001b[1;34m(left, right)\u001b[0m\n\u001b[0;32m   1582\u001b[0m \u001b[1;33m\u001b[0m\u001b[0m\n\u001b[1;32m-> 1583\u001b[1;33m         \u001b[0mresult\u001b[0m \u001b[1;33m=\u001b[0m \u001b[0msafe_na_op\u001b[0m\u001b[1;33m(\u001b[0m\u001b[0mlvalues\u001b[0m\u001b[1;33m,\u001b[0m \u001b[0mrvalues\u001b[0m\u001b[1;33m)\u001b[0m\u001b[1;33m\u001b[0m\u001b[1;33m\u001b[0m\u001b[0m\n\u001b[0m\u001b[0;32m   1584\u001b[0m         return construct_result(left, result,\n",
      "\u001b[1;32mD:\\Python\\Anaconda\\lib\\site-packages\\pandas\\core\\ops.py\u001b[0m in \u001b[0;36msafe_na_op\u001b[1;34m(lvalues, rvalues)\u001b[0m\n\u001b[0;32m   1532\u001b[0m                 return libalgos.arrmap_object(lvalues,\n\u001b[1;32m-> 1533\u001b[1;33m                                               lambda x: op(x, rvalues))\n\u001b[0m\u001b[0;32m   1534\u001b[0m             \u001b[1;32mraise\u001b[0m\u001b[1;33m\u001b[0m\u001b[1;33m\u001b[0m\u001b[0m\n",
      "\u001b[1;32mpandas/_libs/algos.pyx\u001b[0m in \u001b[0;36mpandas._libs.algos.arrmap\u001b[1;34m()\u001b[0m\n",
      "\u001b[1;32mD:\\Python\\Anaconda\\lib\\site-packages\\pandas\\core\\ops.py\u001b[0m in \u001b[0;36m<lambda>\u001b[1;34m(x)\u001b[0m\n\u001b[0;32m   1532\u001b[0m                 return libalgos.arrmap_object(lvalues,\n\u001b[1;32m-> 1533\u001b[1;33m                                               lambda x: op(x, rvalues))\n\u001b[0m\u001b[0;32m   1534\u001b[0m             \u001b[1;32mraise\u001b[0m\u001b[1;33m\u001b[0m\u001b[1;33m\u001b[0m\u001b[0m\n",
      "\u001b[1;31mTypeError\u001b[0m: unsupported operand type(s) for -: 'str' and 'str'",
      "\nDuring handling of the above exception, another exception occurred:\n",
      "\u001b[1;31mTypeError\u001b[0m                                 Traceback (most recent call last)",
      "\u001b[1;32m<ipython-input-96-b1217dab83b0>\u001b[0m in \u001b[0;36m<module>\u001b[1;34m\u001b[0m\n\u001b[1;32m----> 1\u001b[1;33m \u001b[0mgrouped\u001b[0m\u001b[1;33m.\u001b[0m\u001b[0magg\u001b[0m\u001b[1;33m(\u001b[0m\u001b[0mpeak_to_peak\u001b[0m\u001b[1;33m)\u001b[0m\u001b[1;33m\u001b[0m\u001b[1;33m\u001b[0m\u001b[0m\n\u001b[0m",
      "\u001b[1;32mD:\\Python\\Anaconda\\lib\\site-packages\\pandas\\core\\groupby\\generic.py\u001b[0m in \u001b[0;36maggregate\u001b[1;34m(self, arg, *args, **kwargs)\u001b[0m\n\u001b[0;32m   1313\u001b[0m     \u001b[1;33m@\u001b[0m\u001b[0mAppender\u001b[0m\u001b[1;33m(\u001b[0m\u001b[0m_shared_docs\u001b[0m\u001b[1;33m[\u001b[0m\u001b[1;34m'aggregate'\u001b[0m\u001b[1;33m]\u001b[0m\u001b[1;33m)\u001b[0m\u001b[1;33m\u001b[0m\u001b[1;33m\u001b[0m\u001b[0m\n\u001b[0;32m   1314\u001b[0m     \u001b[1;32mdef\u001b[0m \u001b[0maggregate\u001b[0m\u001b[1;33m(\u001b[0m\u001b[0mself\u001b[0m\u001b[1;33m,\u001b[0m \u001b[0marg\u001b[0m\u001b[1;33m,\u001b[0m \u001b[1;33m*\u001b[0m\u001b[0margs\u001b[0m\u001b[1;33m,\u001b[0m \u001b[1;33m**\u001b[0m\u001b[0mkwargs\u001b[0m\u001b[1;33m)\u001b[0m\u001b[1;33m:\u001b[0m\u001b[1;33m\u001b[0m\u001b[1;33m\u001b[0m\u001b[0m\n\u001b[1;32m-> 1315\u001b[1;33m         \u001b[1;32mreturn\u001b[0m \u001b[0msuper\u001b[0m\u001b[1;33m(\u001b[0m\u001b[0mDataFrameGroupBy\u001b[0m\u001b[1;33m,\u001b[0m \u001b[0mself\u001b[0m\u001b[1;33m)\u001b[0m\u001b[1;33m.\u001b[0m\u001b[0maggregate\u001b[0m\u001b[1;33m(\u001b[0m\u001b[0marg\u001b[0m\u001b[1;33m,\u001b[0m \u001b[1;33m*\u001b[0m\u001b[0margs\u001b[0m\u001b[1;33m,\u001b[0m \u001b[1;33m**\u001b[0m\u001b[0mkwargs\u001b[0m\u001b[1;33m)\u001b[0m\u001b[1;33m\u001b[0m\u001b[1;33m\u001b[0m\u001b[0m\n\u001b[0m\u001b[0;32m   1316\u001b[0m \u001b[1;33m\u001b[0m\u001b[0m\n\u001b[0;32m   1317\u001b[0m     \u001b[0magg\u001b[0m \u001b[1;33m=\u001b[0m \u001b[0maggregate\u001b[0m\u001b[1;33m\u001b[0m\u001b[1;33m\u001b[0m\u001b[0m\n",
      "\u001b[1;32mD:\\Python\\Anaconda\\lib\\site-packages\\pandas\\core\\groupby\\generic.py\u001b[0m in \u001b[0;36maggregate\u001b[1;34m(self, arg, *args, **kwargs)\u001b[0m\n\u001b[0;32m    204\u001b[0m                         name=self._selected_obj.columns.name)\n\u001b[0;32m    205\u001b[0m                 \u001b[1;32mexcept\u001b[0m \u001b[0mException\u001b[0m\u001b[1;33m:\u001b[0m\u001b[1;33m\u001b[0m\u001b[1;33m\u001b[0m\u001b[0m\n\u001b[1;32m--> 206\u001b[1;33m                     \u001b[0mresult\u001b[0m \u001b[1;33m=\u001b[0m \u001b[0mself\u001b[0m\u001b[1;33m.\u001b[0m\u001b[0m_aggregate_generic\u001b[0m\u001b[1;33m(\u001b[0m\u001b[0marg\u001b[0m\u001b[1;33m,\u001b[0m \u001b[1;33m*\u001b[0m\u001b[0margs\u001b[0m\u001b[1;33m,\u001b[0m \u001b[1;33m**\u001b[0m\u001b[0mkwargs\u001b[0m\u001b[1;33m)\u001b[0m\u001b[1;33m\u001b[0m\u001b[1;33m\u001b[0m\u001b[0m\n\u001b[0m\u001b[0;32m    207\u001b[0m \u001b[1;33m\u001b[0m\u001b[0m\n\u001b[0;32m    208\u001b[0m         \u001b[1;32mif\u001b[0m \u001b[1;32mnot\u001b[0m \u001b[0mself\u001b[0m\u001b[1;33m.\u001b[0m\u001b[0mas_index\u001b[0m\u001b[1;33m:\u001b[0m\u001b[1;33m\u001b[0m\u001b[1;33m\u001b[0m\u001b[0m\n",
      "\u001b[1;32mD:\\Python\\Anaconda\\lib\\site-packages\\pandas\\core\\groupby\\generic.py\u001b[0m in \u001b[0;36m_aggregate_generic\u001b[1;34m(self, func, *args, **kwargs)\u001b[0m\n\u001b[0;32m    237\u001b[0m                 \u001b[1;32mexcept\u001b[0m \u001b[0mException\u001b[0m\u001b[1;33m:\u001b[0m\u001b[1;33m\u001b[0m\u001b[1;33m\u001b[0m\u001b[0m\n\u001b[0;32m    238\u001b[0m                     \u001b[0mwrapper\u001b[0m \u001b[1;33m=\u001b[0m \u001b[1;32mlambda\u001b[0m \u001b[0mx\u001b[0m\u001b[1;33m:\u001b[0m \u001b[0mfunc\u001b[0m\u001b[1;33m(\u001b[0m\u001b[0mx\u001b[0m\u001b[1;33m,\u001b[0m \u001b[1;33m*\u001b[0m\u001b[0margs\u001b[0m\u001b[1;33m,\u001b[0m \u001b[1;33m**\u001b[0m\u001b[0mkwargs\u001b[0m\u001b[1;33m)\u001b[0m\u001b[1;33m\u001b[0m\u001b[1;33m\u001b[0m\u001b[0m\n\u001b[1;32m--> 239\u001b[1;33m                     \u001b[0mresult\u001b[0m\u001b[1;33m[\u001b[0m\u001b[0mname\u001b[0m\u001b[1;33m]\u001b[0m \u001b[1;33m=\u001b[0m \u001b[0mdata\u001b[0m\u001b[1;33m.\u001b[0m\u001b[0mapply\u001b[0m\u001b[1;33m(\u001b[0m\u001b[0mwrapper\u001b[0m\u001b[1;33m,\u001b[0m \u001b[0maxis\u001b[0m\u001b[1;33m=\u001b[0m\u001b[0maxis\u001b[0m\u001b[1;33m)\u001b[0m\u001b[1;33m\u001b[0m\u001b[1;33m\u001b[0m\u001b[0m\n\u001b[0m\u001b[0;32m    240\u001b[0m \u001b[1;33m\u001b[0m\u001b[0m\n\u001b[0;32m    241\u001b[0m         \u001b[1;32mreturn\u001b[0m \u001b[0mself\u001b[0m\u001b[1;33m.\u001b[0m\u001b[0m_wrap_generic_output\u001b[0m\u001b[1;33m(\u001b[0m\u001b[0mresult\u001b[0m\u001b[1;33m,\u001b[0m \u001b[0mobj\u001b[0m\u001b[1;33m)\u001b[0m\u001b[1;33m\u001b[0m\u001b[1;33m\u001b[0m\u001b[0m\n",
      "\u001b[1;32mD:\\Python\\Anaconda\\lib\\site-packages\\pandas\\core\\frame.py\u001b[0m in \u001b[0;36mapply\u001b[1;34m(self, func, axis, broadcast, raw, reduce, result_type, args, **kwds)\u001b[0m\n\u001b[0;32m   6485\u001b[0m                          \u001b[0margs\u001b[0m\u001b[1;33m=\u001b[0m\u001b[0margs\u001b[0m\u001b[1;33m,\u001b[0m\u001b[1;33m\u001b[0m\u001b[1;33m\u001b[0m\u001b[0m\n\u001b[0;32m   6486\u001b[0m                          kwds=kwds)\n\u001b[1;32m-> 6487\u001b[1;33m         \u001b[1;32mreturn\u001b[0m \u001b[0mop\u001b[0m\u001b[1;33m.\u001b[0m\u001b[0mget_result\u001b[0m\u001b[1;33m(\u001b[0m\u001b[1;33m)\u001b[0m\u001b[1;33m\u001b[0m\u001b[1;33m\u001b[0m\u001b[0m\n\u001b[0m\u001b[0;32m   6488\u001b[0m \u001b[1;33m\u001b[0m\u001b[0m\n\u001b[0;32m   6489\u001b[0m     \u001b[1;32mdef\u001b[0m \u001b[0mapplymap\u001b[0m\u001b[1;33m(\u001b[0m\u001b[0mself\u001b[0m\u001b[1;33m,\u001b[0m \u001b[0mfunc\u001b[0m\u001b[1;33m)\u001b[0m\u001b[1;33m:\u001b[0m\u001b[1;33m\u001b[0m\u001b[1;33m\u001b[0m\u001b[0m\n",
      "\u001b[1;32mD:\\Python\\Anaconda\\lib\\site-packages\\pandas\\core\\apply.py\u001b[0m in \u001b[0;36mget_result\u001b[1;34m(self)\u001b[0m\n\u001b[0;32m    149\u001b[0m             \u001b[1;32mreturn\u001b[0m \u001b[0mself\u001b[0m\u001b[1;33m.\u001b[0m\u001b[0mapply_raw\u001b[0m\u001b[1;33m(\u001b[0m\u001b[1;33m)\u001b[0m\u001b[1;33m\u001b[0m\u001b[1;33m\u001b[0m\u001b[0m\n\u001b[0;32m    150\u001b[0m \u001b[1;33m\u001b[0m\u001b[0m\n\u001b[1;32m--> 151\u001b[1;33m         \u001b[1;32mreturn\u001b[0m \u001b[0mself\u001b[0m\u001b[1;33m.\u001b[0m\u001b[0mapply_standard\u001b[0m\u001b[1;33m(\u001b[0m\u001b[1;33m)\u001b[0m\u001b[1;33m\u001b[0m\u001b[1;33m\u001b[0m\u001b[0m\n\u001b[0m\u001b[0;32m    152\u001b[0m \u001b[1;33m\u001b[0m\u001b[0m\n\u001b[0;32m    153\u001b[0m     \u001b[1;32mdef\u001b[0m \u001b[0mapply_empty_result\u001b[0m\u001b[1;33m(\u001b[0m\u001b[0mself\u001b[0m\u001b[1;33m)\u001b[0m\u001b[1;33m:\u001b[0m\u001b[1;33m\u001b[0m\u001b[1;33m\u001b[0m\u001b[0m\n",
      "\u001b[1;32mD:\\Python\\Anaconda\\lib\\site-packages\\pandas\\core\\apply.py\u001b[0m in \u001b[0;36mapply_standard\u001b[1;34m(self)\u001b[0m\n\u001b[0;32m    255\u001b[0m \u001b[1;33m\u001b[0m\u001b[0m\n\u001b[0;32m    256\u001b[0m         \u001b[1;31m# compute the result using the series generator\u001b[0m\u001b[1;33m\u001b[0m\u001b[1;33m\u001b[0m\u001b[1;33m\u001b[0m\u001b[0m\n\u001b[1;32m--> 257\u001b[1;33m         \u001b[0mself\u001b[0m\u001b[1;33m.\u001b[0m\u001b[0mapply_series_generator\u001b[0m\u001b[1;33m(\u001b[0m\u001b[1;33m)\u001b[0m\u001b[1;33m\u001b[0m\u001b[1;33m\u001b[0m\u001b[0m\n\u001b[0m\u001b[0;32m    258\u001b[0m \u001b[1;33m\u001b[0m\u001b[0m\n\u001b[0;32m    259\u001b[0m         \u001b[1;31m# wrap results\u001b[0m\u001b[1;33m\u001b[0m\u001b[1;33m\u001b[0m\u001b[1;33m\u001b[0m\u001b[0m\n",
      "\u001b[1;32mD:\\Python\\Anaconda\\lib\\site-packages\\pandas\\core\\apply.py\u001b[0m in \u001b[0;36mapply_series_generator\u001b[1;34m(self)\u001b[0m\n\u001b[0;32m    284\u001b[0m             \u001b[1;32mtry\u001b[0m\u001b[1;33m:\u001b[0m\u001b[1;33m\u001b[0m\u001b[1;33m\u001b[0m\u001b[0m\n\u001b[0;32m    285\u001b[0m                 \u001b[1;32mfor\u001b[0m \u001b[0mi\u001b[0m\u001b[1;33m,\u001b[0m \u001b[0mv\u001b[0m \u001b[1;32min\u001b[0m \u001b[0menumerate\u001b[0m\u001b[1;33m(\u001b[0m\u001b[0mseries_gen\u001b[0m\u001b[1;33m)\u001b[0m\u001b[1;33m:\u001b[0m\u001b[1;33m\u001b[0m\u001b[1;33m\u001b[0m\u001b[0m\n\u001b[1;32m--> 286\u001b[1;33m                     \u001b[0mresults\u001b[0m\u001b[1;33m[\u001b[0m\u001b[0mi\u001b[0m\u001b[1;33m]\u001b[0m \u001b[1;33m=\u001b[0m \u001b[0mself\u001b[0m\u001b[1;33m.\u001b[0m\u001b[0mf\u001b[0m\u001b[1;33m(\u001b[0m\u001b[0mv\u001b[0m\u001b[1;33m)\u001b[0m\u001b[1;33m\u001b[0m\u001b[1;33m\u001b[0m\u001b[0m\n\u001b[0m\u001b[0;32m    287\u001b[0m                     \u001b[0mkeys\u001b[0m\u001b[1;33m.\u001b[0m\u001b[0mappend\u001b[0m\u001b[1;33m(\u001b[0m\u001b[0mv\u001b[0m\u001b[1;33m.\u001b[0m\u001b[0mname\u001b[0m\u001b[1;33m)\u001b[0m\u001b[1;33m\u001b[0m\u001b[1;33m\u001b[0m\u001b[0m\n\u001b[0;32m    288\u001b[0m             \u001b[1;32mexcept\u001b[0m \u001b[0mException\u001b[0m \u001b[1;32mas\u001b[0m \u001b[0me\u001b[0m\u001b[1;33m:\u001b[0m\u001b[1;33m\u001b[0m\u001b[1;33m\u001b[0m\u001b[0m\n",
      "\u001b[1;32mD:\\Python\\Anaconda\\lib\\site-packages\\pandas\\core\\groupby\\generic.py\u001b[0m in \u001b[0;36m<lambda>\u001b[1;34m(x)\u001b[0m\n\u001b[0;32m    236\u001b[0m                                                   data)\n\u001b[0;32m    237\u001b[0m                 \u001b[1;32mexcept\u001b[0m \u001b[0mException\u001b[0m\u001b[1;33m:\u001b[0m\u001b[1;33m\u001b[0m\u001b[1;33m\u001b[0m\u001b[0m\n\u001b[1;32m--> 238\u001b[1;33m                     \u001b[0mwrapper\u001b[0m \u001b[1;33m=\u001b[0m \u001b[1;32mlambda\u001b[0m \u001b[0mx\u001b[0m\u001b[1;33m:\u001b[0m \u001b[0mfunc\u001b[0m\u001b[1;33m(\u001b[0m\u001b[0mx\u001b[0m\u001b[1;33m,\u001b[0m \u001b[1;33m*\u001b[0m\u001b[0margs\u001b[0m\u001b[1;33m,\u001b[0m \u001b[1;33m**\u001b[0m\u001b[0mkwargs\u001b[0m\u001b[1;33m)\u001b[0m\u001b[1;33m\u001b[0m\u001b[1;33m\u001b[0m\u001b[0m\n\u001b[0m\u001b[0;32m    239\u001b[0m                     \u001b[0mresult\u001b[0m\u001b[1;33m[\u001b[0m\u001b[0mname\u001b[0m\u001b[1;33m]\u001b[0m \u001b[1;33m=\u001b[0m \u001b[0mdata\u001b[0m\u001b[1;33m.\u001b[0m\u001b[0mapply\u001b[0m\u001b[1;33m(\u001b[0m\u001b[0mwrapper\u001b[0m\u001b[1;33m,\u001b[0m \u001b[0maxis\u001b[0m\u001b[1;33m=\u001b[0m\u001b[0maxis\u001b[0m\u001b[1;33m)\u001b[0m\u001b[1;33m\u001b[0m\u001b[1;33m\u001b[0m\u001b[0m\n\u001b[0;32m    240\u001b[0m \u001b[1;33m\u001b[0m\u001b[0m\n",
      "\u001b[1;32m<ipython-input-95-99acd071405d>\u001b[0m in \u001b[0;36mpeak_to_peak\u001b[1;34m(arr)\u001b[0m\n\u001b[0;32m      1\u001b[0m \u001b[1;32mdef\u001b[0m \u001b[0mpeak_to_peak\u001b[0m\u001b[1;33m(\u001b[0m\u001b[0marr\u001b[0m\u001b[1;33m)\u001b[0m\u001b[1;33m:\u001b[0m\u001b[1;33m\u001b[0m\u001b[1;33m\u001b[0m\u001b[0m\n\u001b[1;32m----> 2\u001b[1;33m     \u001b[1;32mreturn\u001b[0m \u001b[0marr\u001b[0m\u001b[1;33m.\u001b[0m\u001b[0mmax\u001b[0m\u001b[1;33m(\u001b[0m\u001b[1;33m)\u001b[0m\u001b[1;33m-\u001b[0m\u001b[0marr\u001b[0m\u001b[1;33m.\u001b[0m\u001b[0mmin\u001b[0m\u001b[1;33m(\u001b[0m\u001b[1;33m)\u001b[0m\u001b[1;33m\u001b[0m\u001b[1;33m\u001b[0m\u001b[0m\n\u001b[0m",
      "\u001b[1;31mTypeError\u001b[0m: (\"unsupported operand type(s) for -: 'str' and 'str'\", 'occurred at index 0')"
     ]
    }
   ],
   "source": [
    "grouped.agg(peak_to_peak)"
   ]
  },
  {
   "cell_type": "markdown",
   "metadata": {},
   "source": [
    "##  未完，待续"
   ]
  },
  {
   "cell_type": "markdown",
   "metadata": {},
   "source": [
    "# 冰雹猜想 Collatz\n",
    "一个自然数x，如果是奇数就乘以3再加1，如果是偶数就析出偶数因数2ⁿ，这样经过若干个次数，最终回到1。"
   ]
  },
  {
   "cell_type": "code",
   "execution_count": 2,
   "metadata": {},
   "outputs": [
    {
     "name": "stdout",
     "output_type": "stream",
     "text": [
      "The Collatz sequence of 6 took 9 steps. \n",
      "Path: [6, 3, 10, 5, 16, 8, 4, 2, 1]\n"
     ]
    }
   ],
   "source": [
    "# https://github.com/TheAlgorithms/Python/blob/master/maths/3n%2B1.py\n",
    "\n",
    "\n",
    "from typing import Tuple, List\n",
    "\n",
    "def n31(a: int) -> Tuple[List[int], int]: \n",
    "    \"\"\"\n",
    "    Returns the Collatz sequence and its length of any postiver integer. \n",
    "    >>> n31(4)\n",
    "    ([4, 2, 1], 3)\n",
    "    \"\"\"\n",
    "\n",
    "    if not isinstance(a, int):\n",
    "        raise TypeError('Must be int, not {0}'.format(type(a).__name__))\n",
    "    if a < 1: \n",
    "        raise ValueError('Given integer must be greater than 1, not {0}'.format(a))\n",
    "    \n",
    "    path = [a]\n",
    "    while a != 1:\n",
    "        if a % 2 == 0:\n",
    "            a = a // 2\n",
    "        else:\n",
    "            a = 3*a +1\n",
    "        path += [a]\n",
    "    return path, len(path)\n",
    "\n",
    "def main():\n",
    "    num = 6\n",
    "\n",
    "    path , length = n31(num)\n",
    "    print(\"The Collatz sequence of {0} took {1} steps. \\nPath: {2}\".format(num,length, path))\n",
    "\n",
    "if __name__ == '__main__':\n",
    "    main()"
   ]
  },
  {
   "cell_type": "markdown",
   "metadata": {},
   "source": [
    "# 《python编程：从入门到实践》\n",
    "---\n",
    "9.1 创建和使用类"
   ]
  },
  {
   "cell_type": "code",
   "execution_count": 144,
   "metadata": {},
   "outputs": [],
   "source": [
    "class Restaurant():\n",
    "    def __init__(self,restaurant_name,cuisine_type):\n",
    "        self.restaurant_name = restaurant_name\n",
    "        self.cuisine_type = cuisine_type\n",
    "    def describe_restaurant(self):\n",
    "        print('The restaurant\\'s name is {}'.format(self.restaurant_name))\n",
    "        print('The restaurant\\'s cuisine is {}'.format(self.cuisine_type))\n",
    "    def open_restaurant(self):\n",
    "        print('The restaurant\\'s is opening')\n",
    "\n",
    "    "
   ]
  },
  {
   "cell_type": "code",
   "execution_count": 146,
   "metadata": {},
   "outputs": [],
   "source": [
    "aa = Restaurant('st','cc')"
   ]
  },
  {
   "cell_type": "code",
   "execution_count": 147,
   "metadata": {},
   "outputs": [
    {
     "data": {
      "text/plain": [
       "'st'"
      ]
     },
     "execution_count": 147,
     "metadata": {},
     "output_type": "execute_result"
    }
   ],
   "source": [
    "#访问属性\n",
    "aa.restaurant_name"
   ]
  },
  {
   "cell_type": "code",
   "execution_count": 148,
   "metadata": {},
   "outputs": [
    {
     "data": {
      "text/plain": [
       "'cc'"
      ]
     },
     "execution_count": 148,
     "metadata": {},
     "output_type": "execute_result"
    }
   ],
   "source": [
    "aa.cuisine_type"
   ]
  },
  {
   "cell_type": "code",
   "execution_count": 149,
   "metadata": {},
   "outputs": [
    {
     "name": "stdout",
     "output_type": "stream",
     "text": [
      "The restaurant's is opening\n"
     ]
    }
   ],
   "source": [
    "#调用方法\n",
    "aa.open_restaurant()"
   ]
  },
  {
   "cell_type": "code",
   "execution_count": 150,
   "metadata": {},
   "outputs": [
    {
     "name": "stdout",
     "output_type": "stream",
     "text": [
      "The restaurant's name is st\n",
      "The restaurant's cuisine is cc\n"
     ]
    }
   ],
   "source": [
    "aa.describe_restaurant()"
   ]
  },
  {
   "cell_type": "code",
   "execution_count": null,
   "metadata": {},
   "outputs": [],
   "source": []
  },
  {
   "cell_type": "code",
   "execution_count": 80,
   "metadata": {},
   "outputs": [],
   "source": [
    "class Dog():\n",
    "    \"\"\"一次模拟小狗的简单尝试\"\"\" \n",
    "    def __init__(self,name,age): \n",
    "        \"\"\"初始化属性name和age\"\"\" \n",
    "        self.name = name\n",
    "        self.age = age\n",
    "    def sit(self): \n",
    "        \"\"\"模拟小狗被命令时蹲下\"\"\" \n",
    "        print(self.name.title() + \" is now sitting.\") \n",
    "    def roll_over(self):\n",
    "        \"\"\"模拟小狗被命令时打滚\"\"\" \n",
    "        print(self.name.title() + \" rolled over!\")"
   ]
  },
  {
   "cell_type": "code",
   "execution_count": 81,
   "metadata": {},
   "outputs": [],
   "source": [
    "my_dog = Dog('white',10)"
   ]
  },
  {
   "cell_type": "code",
   "execution_count": 82,
   "metadata": {},
   "outputs": [
    {
     "data": {
      "text/plain": [
       "'white'"
      ]
     },
     "execution_count": 82,
     "metadata": {},
     "output_type": "execute_result"
    }
   ],
   "source": [
    "my_dog.name"
   ]
  },
  {
   "cell_type": "code",
   "execution_count": 83,
   "metadata": {},
   "outputs": [
    {
     "name": "stdout",
     "output_type": "stream",
     "text": [
      "Willie is now sitting.\n",
      "Willie rolled over!\n"
     ]
    }
   ],
   "source": [
    "my_dog = Dog('willie', 6)\n",
    "my_dog.sit()\n",
    "my_dog.roll_over()"
   ]
  },
  {
   "cell_type": "code",
   "execution_count": null,
   "metadata": {},
   "outputs": [],
   "source": []
  },
  {
   "cell_type": "code",
   "execution_count": 8,
   "metadata": {},
   "outputs": [],
   "source": [
    "def fib(max):\n",
    "    a,b,n =0,1,0\n",
    "    while n <max:\n",
    "        print(b)\n",
    "        a,b=b,a+b\n",
    "        n=n+1"
   ]
  },
  {
   "cell_type": "code",
   "execution_count": 9,
   "metadata": {},
   "outputs": [
    {
     "name": "stdout",
     "output_type": "stream",
     "text": [
      "1\n",
      "1\n",
      "2\n",
      "3\n",
      "5\n",
      "8\n",
      "13\n"
     ]
    }
   ],
   "source": [
    "fib(7)"
   ]
  },
  {
   "cell_type": "code",
   "execution_count": null,
   "metadata": {},
   "outputs": [],
   "source": []
  },
  {
   "cell_type": "markdown",
   "metadata": {},
   "source": [
    "# if __name__ == '__main__':\n",
    "知乎收藏\n",
    "https://mp.weixin.qq.com/s?__biz=MzU2ODYzNTkwMg==&mid=2247485702&idx=1&sn=9c6c86a977a0093d4474b1099fcf8b01&chksm=fc8bb197cbfc38814cc9308206e8fc2e8bf14eb6582aa20bf3eaf8627dabb176855035c734b6&token=750745785&lang=zh_CN##"
   ]
  },
  {
   "cell_type": "code",
   "execution_count": 1,
   "metadata": {},
   "outputs": [
    {
     "name": "stdout",
     "output_type": "stream",
     "text": [
      "name handsomeb\n",
      "程序入口\n",
      "调用方法A\n"
     ]
    }
   ],
   "source": [
    "name = 'handsomeb'\n",
    "print ('name',name)\n",
    "def fun_A ():\n",
    "    print('调用方法A')\n",
    "if __name__ == '__main__':\n",
    "    print('程序入口')\n",
    "    fun_A()"
   ]
  },
  {
   "cell_type": "code",
   "execution_count": null,
   "metadata": {},
   "outputs": [],
   "source": [
    "name = 'handsomeb'\n",
    "print ('name',name)\n",
    "def fun_A ():\n",
    "    print('调用方法A')\n",
    "\n",
    "print('程序入口')\n",
    "fun_A()"
   ]
  },
  {
   "cell_type": "code",
   "execution_count": null,
   "metadata": {},
   "outputs": [],
   "source": [
    "name = 'handsomeb'\n",
    "print ('name',name)\n",
    "def fun_A ():\n",
    "    print('调用方法A')\n",
    "def print_name():\n",
    "    print ('__name__的值：',__name__)\n",
    "\n",
    "print('程序入口')\n",
    "fun_A()\n",
    "print_name()"
   ]
  },
  {
   "cell_type": "code",
   "execution_count": null,
   "metadata": {},
   "outputs": [],
   "source": []
  },
  {
   "cell_type": "markdown",
   "metadata": {},
   "source": [
    "# 编辑距离\n",
    "---\n",
    "链接：https://zhuanlan.zhihu.com/p/80682302"
   ]
  },
  {
   "cell_type": "code",
   "execution_count": 58,
   "metadata": {},
   "outputs": [],
   "source": [
    "# 计算最少的步数\n",
    "def minDistance(s1, s2) ->int: # -> 表明了函数的返回值为int类型\n",
    "\n",
    "    def dp(i, j):\n",
    "        # base case\n",
    "        if i == -1: return j + 1\n",
    "        if j == -1: return i + 1\n",
    "        if s1[i] == s2[j]:\n",
    "            return dp(i - 1, j - 1)  # 啥都不做\n",
    "        else:\n",
    "            return min(\n",
    "                dp(i, j - 1) + 1,    # 插入\n",
    "                dp(i - 1, j) + 1,    # 删除\n",
    "                dp(i - 1, j - 1) + 1 # 替换\n",
    "            )\n",
    "\n",
    "    # i，j 初始化指向最后一个索引 \n",
    "    return dp(len(s1) - 1, len(s2) - 1)\n",
    "   \n",
    "\n"
   ]
  },
  {
   "cell_type": "code",
   "execution_count": 59,
   "metadata": {},
   "outputs": [
    {
     "data": {
      "text/plain": [
       "5"
      ]
     },
     "execution_count": 59,
     "metadata": {},
     "output_type": "execute_result"
    }
   ],
   "source": [
    "minDistance('rad','apple')"
   ]
  },
  {
   "cell_type": "markdown",
   "metadata": {},
   "source": [
    "def dp(i, j) -> int\n",
    "\n",
    "返回 s1[0..i] 和 s2[0..j] 的最小编辑距离"
   ]
  },
  {
   "cell_type": "code",
   "execution_count": 60,
   "metadata": {},
   "outputs": [
    {
     "data": {
      "text/plain": [
       "'\\nif s1[i] == s2[j]:\\n    return dp(i - 1, j - 1)  # 啥都不做\\n# 解释：\\n# 本来就相等，不需要任何操作\\n# s1[0..i] 和 s2[0..j] 的最小编辑距离等于\\n# s1[0..i-1] 和 s2[0..j-1] 的最小编辑距离\\n# 也就是说 dp(i, j) 等于 dp(i-1, j-1)\\n\\n\\n如果 s1[i]！=s2[j]，就要对三个操作递归了，稍微需要点思考：\\n# 插入\\n    dp(i, j - 1) + 1,    \\n# 解释：\\n# 我直接在 s1[i] 插入一个和 s2[j] 一样的字符\\n# 那么 s2[j] 就被匹配了，前移 j，继续跟 i 对比\\n# 别忘了操作数加一\\n\\n# 删除\\ndp(i - 1, j) + 1,    \\n# 解释：\\n# 我直接把 s[i] 这个字符删掉\\n# 前移 i，继续跟 j 对比\\n# 操作数加一\\n\\n'"
      ]
     },
     "execution_count": 60,
     "metadata": {},
     "output_type": "execute_result"
    }
   ],
   "source": [
    "'''\n",
    "if s1[i] == s2[j]:\n",
    "    return dp(i - 1, j - 1)  # 啥都不做\n",
    "# 解释：\n",
    "# 本来就相等，不需要任何操作\n",
    "# s1[0..i] 和 s2[0..j] 的最小编辑距离等于\n",
    "# s1[0..i-1] 和 s2[0..j-1] 的最小编辑距离\n",
    "# 也就是说 dp(i, j) 等于 dp(i-1, j-1)\n",
    "\n",
    "\n",
    "如果 s1[i]！=s2[j]，就要对三个操作递归了，稍微需要点思考：\n",
    "# 插入\n",
    "    dp(i, j - 1) + 1,    \n",
    "# 解释：\n",
    "# 我直接在 s1[i] 插入一个和 s2[j] 一样的字符\n",
    "# 那么 s2[j] 就被匹配了，前移 j，继续跟 i 对比\n",
    "# 别忘了操作数加一\n",
    "\n",
    "# 删除\n",
    "dp(i - 1, j) + 1,    \n",
    "# 解释：\n",
    "# 我直接把 s[i] 这个字符删掉\n",
    "# 前移 i，继续跟 j 对比\n",
    "# 操作数加一\n",
    "\n",
    "'''"
   ]
  },
  {
   "cell_type": "code",
   "execution_count": 61,
   "metadata": {},
   "outputs": [],
   "source": [
    "def dp(a=2,b=3):\n",
    "    return a,b"
   ]
  },
  {
   "cell_type": "code",
   "execution_count": 62,
   "metadata": {},
   "outputs": [
    {
     "data": {
      "text/plain": [
       "(2, 3)"
      ]
     },
     "execution_count": 62,
     "metadata": {},
     "output_type": "execute_result"
    }
   ],
   "source": [
    "dp()"
   ]
  },
  {
   "cell_type": "code",
   "execution_count": 65,
   "metadata": {},
   "outputs": [],
   "source": [
    "def minDistance(s1, s2) ->int: # -> 表明了函数的返回值为int类型\n",
    "\n",
    "    def dp(i, j):\n",
    "        i=1\n",
    "        j=2\n",
    "\n",
    "    return dp(s1 - 1, s2 - 1)"
   ]
  },
  {
   "cell_type": "code",
   "execution_count": 67,
   "metadata": {
    "scrolled": false
   },
   "outputs": [],
   "source": [
    "minDistance(5,3)"
   ]
  },
  {
   "cell_type": "code",
   "execution_count": null,
   "metadata": {},
   "outputs": [],
   "source": []
  },
  {
   "cell_type": "markdown",
   "metadata": {},
   "source": [
    "# 装饰器\n",
    "---\n",
    "廖雪峰\n",
    "https://www.liaoxuefeng.com/wiki/1016959663602400/1017451662295584"
   ]
  },
  {
   "cell_type": "code",
   "execution_count": 69,
   "metadata": {},
   "outputs": [
    {
     "name": "stdout",
     "output_type": "stream",
     "text": [
      "fast executed in 10.22 ms\n",
      "slow executed in 10.22 ms\n"
     ]
    }
   ],
   "source": [
    "import time, functools\n",
    "def metric(fn):\n",
    "    print('%s executed in %s ms' % (fn.__name__, 10.22))\n",
    "    return fn\n",
    "@metric\n",
    "def fast(x, y):\n",
    "    time.sleep(0.0012)\n",
    "    return x + y;\n",
    "\n",
    "@metric\n",
    "def slow(x, y, z):\n",
    "    time.sleep(0.1234)\n",
    "    return x * y * z;\n",
    "\n",
    "f = fast(11, 22)\n",
    "s = slow(11, 22, 33)\n",
    "if f != 33:\n",
    "    print('测试失败!')\n",
    "elif s != 7986:\n",
    "    print('测试失败!')"
   ]
  },
  {
   "cell_type": "code",
   "execution_count": 71,
   "metadata": {},
   "outputs": [],
   "source": [
    "import functools\n",
    "\n",
    "def log(func):\n",
    "    @functools.wraps(func)\n",
    "    def wrapper(*args, **kw):\n",
    "        print('call %s():' % func.__name__)\n",
    "        return func(*args, **kw)\n",
    "    return wrapper"
   ]
  },
  {
   "cell_type": "code",
   "execution_count": 75,
   "metadata": {
    "scrolled": true
   },
   "outputs": [
    {
     "data": {
      "text/plain": [
       "<function __main__.log.<locals>.decorator(func)>"
      ]
     },
     "execution_count": 75,
     "metadata": {},
     "output_type": "execute_result"
    }
   ],
   "source": [
    "log('test')"
   ]
  },
  {
   "cell_type": "code",
   "execution_count": null,
   "metadata": {},
   "outputs": [],
   "source": []
  },
  {
   "cell_type": "code",
   "execution_count": 2,
   "metadata": {},
   "outputs": [],
   "source": [
    "def log(text):\n",
    "    def decorator(func):\n",
    "        @functools.wraps(func)\n",
    "        def wrapper(*args, **kw):\n",
    "            print('%s %s():' % (text, func.__name__))\n",
    "            return func(*args, **kw)\n",
    "        return wrapper\n",
    "    return decorator"
   ]
  },
  {
   "cell_type": "code",
   "execution_count": null,
   "metadata": {},
   "outputs": [],
   "source": []
  },
  {
   "cell_type": "code",
   "execution_count": 4,
   "metadata": {},
   "outputs": [],
   "source": [
    "def log(text):\n",
    "    def decorator(func):\n",
    "        def wrapper(*args, **kw):\n",
    "            print('%s %s():' % (text, func.__name__))\n",
    "            return func(*args, **kw)\n",
    "        return wrapper\n",
    "    return decorator"
   ]
  },
  {
   "cell_type": "code",
   "execution_count": 5,
   "metadata": {},
   "outputs": [],
   "source": [
    "@log('execute')\n",
    "def now():\n",
    "    print('2015-3-25')"
   ]
  },
  {
   "cell_type": "code",
   "execution_count": 6,
   "metadata": {},
   "outputs": [
    {
     "name": "stdout",
     "output_type": "stream",
     "text": [
      "execute now():\n",
      "2015-3-25\n"
     ]
    }
   ],
   "source": [
    "now()"
   ]
  },
  {
   "cell_type": "code",
   "execution_count": 7,
   "metadata": {},
   "outputs": [],
   "source": []
  },
  {
   "cell_type": "code",
   "execution_count": 8,
   "metadata": {},
   "outputs": [
    {
     "data": {
      "text/plain": [
       "'wrapper'"
      ]
     },
     "execution_count": 8,
     "metadata": {},
     "output_type": "execute_result"
    }
   ],
   "source": [
    "now.__name__"
   ]
  },
  {
   "cell_type": "code",
   "execution_count": null,
   "metadata": {},
   "outputs": [],
   "source": []
  },
  {
   "cell_type": "markdown",
   "metadata": {},
   "source": [
    "# python3在同一行内输入n个数并用列表保存的例子\n",
    "---\n",
    "https://www.zhangshengrong.com/p/boNwrnPoaw/"
   ]
  },
  {
   "cell_type": "code",
   "execution_count": 5,
   "metadata": {},
   "outputs": [
    {
     "name": "stdout",
     "output_type": "stream",
     "text": [
      "2\n"
     ]
    }
   ],
   "source": [
    "list1 = list(map(int,input().split()))"
   ]
  },
  {
   "cell_type": "code",
   "execution_count": 22,
   "metadata": {},
   "outputs": [
    {
     "name": "stdout",
     "output_type": "stream",
     "text": [
      "1\n",
      "0\n",
      "[0]\n"
     ]
    }
   ],
   "source": [
    "n = input()\n",
    "n = int(n)\n",
    "list1 = []\n",
    "list1 = input().split()\n",
    "list2 = []\n",
    "i = 0\n",
    "while i < n:\n",
    "  m = int(list1[i])\n",
    "  list2.append(m)\n",
    "  i += 1\n",
    "print(list2)"
   ]
  },
  {
   "cell_type": "code",
   "execution_count": null,
   "metadata": {},
   "outputs": [],
   "source": [
    "x = input(\"请输入值，用空格分开\")\n",
    "xlist=x.split(\" \")\n",
    "print(xlist)"
   ]
  },
  {
   "cell_type": "code",
   "execution_count": null,
   "metadata": {},
   "outputs": [],
   "source": []
  },
  {
   "cell_type": "code",
   "execution_count": 3,
   "metadata": {},
   "outputs": [],
   "source": [
    "state = (1,3)"
   ]
  },
  {
   "cell_type": "code",
   "execution_count": 4,
   "metadata": {},
   "outputs": [
    {
     "data": {
      "text/plain": [
       "2"
      ]
     },
     "execution_count": 4,
     "metadata": {},
     "output_type": "execute_result"
    }
   ],
   "source": [
    "len (state)"
   ]
  },
  {
   "cell_type": "code",
   "execution_count": 6,
   "metadata": {},
   "outputs": [
    {
     "data": {
      "text/plain": [
       "2"
      ]
     },
     "execution_count": 6,
     "metadata": {},
     "output_type": "execute_result"
    }
   ],
   "source": [
    "state = (1,5)\n",
    "len (state)"
   ]
  },
  {
   "cell_type": "code",
   "execution_count": null,
   "metadata": {},
   "outputs": [],
   "source": []
  },
  {
   "cell_type": "code",
   "execution_count": 1,
   "metadata": {},
   "outputs": [
    {
     "data": {
      "text/plain": [
       "2"
      ]
     },
     "execution_count": 1,
     "metadata": {},
     "output_type": "execute_result"
    }
   ],
   "source": [
    "L = [1,0]\n",
    "len(L)"
   ]
  },
  {
   "cell_type": "code",
   "execution_count": 2,
   "metadata": {},
   "outputs": [
    {
     "data": {
      "text/plain": [
       "range(0, 2)"
      ]
     },
     "execution_count": 2,
     "metadata": {},
     "output_type": "execute_result"
    }
   ],
   "source": [
    "range(len(L))"
   ]
  },
  {
   "cell_type": "code",
   "execution_count": null,
   "metadata": {},
   "outputs": [],
   "source": []
  },
  {
   "cell_type": "code",
   "execution_count": null,
   "metadata": {},
   "outputs": [],
   "source": []
  },
  {
   "cell_type": "code",
   "execution_count": 31,
   "metadata": {},
   "outputs": [],
   "source": [
    "\n",
    "def triangles(n):           #定义一个函数,并定义一个参数n,现在讲n看做是需要的杨辉三角的层数\n",
    "    L = [1]                 #定义一个列表L,并将其定义为是一个[1]的列表\n",
    "    while len(L) < n:      #采用循环的方式,如果len(L)也就是层数,小于给定的层数,那么就可以继续循环\n",
    "        yield L            #重点来了!记住此位置,下次循环直接从此开始!yeild是如此神奇\n",
    "        L.append(0)       #现在生成一个新的列表, 就是在列表L后面加1\n",
    "        L = [L[i - 1] + L[i] for i in range(len(L))]"
   ]
  },
  {
   "cell_type": "code",
   "execution_count": 32,
   "metadata": {},
   "outputs": [
    {
     "data": {
      "text/plain": [
       "<generator object triangles at 0x000002144F17E0C0>"
      ]
     },
     "execution_count": 32,
     "metadata": {},
     "output_type": "execute_result"
    }
   ],
   "source": [
    "triangles(10)"
   ]
  },
  {
   "cell_type": "code",
   "execution_count": 33,
   "metadata": {},
   "outputs": [
    {
     "name": "stdout",
     "output_type": "stream",
     "text": [
      "[]\n"
     ]
    }
   ],
   "source": []
  },
  {
   "cell_type": "code",
   "execution_count": null,
   "metadata": {},
   "outputs": [],
   "source": []
  },
  {
   "cell_type": "markdown",
   "metadata": {},
   "source": [
    "\n",
    "n = 0\n",
    "results = []\n",
    "for t in triangles(n):\n",
    "    results.append(t)\n",
    "    n = n + 1\n",
    "    if n == 10:\n",
    "        break\n",
    "\n",
    "for t in results:\n",
    "    print(t)"
   ]
  },
  {
   "cell_type": "code",
   "execution_count": 36,
   "metadata": {},
   "outputs": [],
   "source": [
    "def triangles():           #定义一个函数,并定义一个参数n,现在讲n看做是需要的杨辉三角的层数\n",
    "    L = [1]                 #定义一个列表L,并将其定义为是一个[1]的列表\n",
    "    while len(L) < n:      #采用循环的方式,如果len(L)也就是层数,小于给定的层数,那么就可以继续循环\n",
    "        yield L            #重点来了!记住此位置,下次循环直接从此开始!yeild是如此神奇\n",
    "        L.append(0)       #现在生成一个新的列表, 就是在列表L后面加1\n",
    "        L = [L[i - 1] + L[i] for i in range(len(L))]\n",
    "\n"
   ]
  },
  {
   "cell_type": "code",
   "execution_count": null,
   "metadata": {},
   "outputs": [],
   "source": []
  },
  {
   "cell_type": "code",
   "execution_count": 2,
   "metadata": {},
   "outputs": [],
   "source": [
    "import matplotlib.pyplot as plt\n",
    "import numpy as np"
   ]
  },
  {
   "cell_type": "code",
   "execution_count": 3,
   "metadata": {},
   "outputs": [
    {
     "data": {
      "text/plain": [
       "[<matplotlib.lines.Line2D at 0x1fa53b22a58>]"
      ]
     },
     "execution_count": 3,
     "metadata": {},
     "output_type": "execute_result"
    },
    {
     "data": {
      "image/png": "[encoded data removed]",
      "text/plain": [
       "<Figure size 432x288 with 1 Axes>"
      ]
     },
     "metadata": {
      "needs_background": "light"
     },
     "output_type": "display_data"
    }
   ],
   "source": [
    "x = np.linspace(0,10,30)\n",
    "plt.plot(x,np.sin(x))\n",
    "plt.plot(x,np.sin(x),'-o')"
   ]
  },
  {
   "cell_type": "code",
   "execution_count": 6,
   "metadata": {},
   "outputs": [
    {
     "data": {
      "image/png": "[encoded data removed]",
      "text/plain": [
       "<Figure size 432x288 with 2 Axes>"
      ]
     },
     "metadata": {
      "needs_background": "light"
     },
     "output_type": "display_data"
    }
   ],
   "source": [
    "rng = np.random.RandomState(0)\n",
    "x = rng.randn(100)\n",
    "y = rng.randn(100)\n",
    "colors = rng.rand(100)\n",
    "sizes = 1000 * rng.rand(100)\n",
    "\n",
    "plt.scatter(x,y,c=colors,s=sizes,alpha=0.3,cmap='viridis')\n",
    "plt.colorbar() #展示色阶\n",
    "\n",
    "x = [1,2,3,4,5,6,7,8]\n",
    "y = [3,1,4,5,8,9,7,2]\n",
    "label = ['A','B','C','D','E','F','G','H']\n",
    "plt.bar(x,y,tick_label = label)\n",
    "data = np.random.randn(100)\n",
    "plt.hist(data)\n",
    "plt.hist(data,bins=30,histtype='stepfilled',density=True)\n",
    "plt.show()"
   ]
  },
  {
   "cell_type": "code",
   "execution_count": 6,
   "metadata": {},
   "outputs": [
    {
     "data": {
      "image/png": "[encoded data removed]",
      "text/plain": [
       "<Figure size 432x288 with 2 Axes>"
      ]
     },
     "metadata": {
      "needs_background": "light"
     },
     "output_type": "display_data"
    }
   ],
   "source": []
  },
  {
   "cell_type": "markdown",
   "metadata": {},
   "source": [
    "# 计数"
   ]
  },
  {
   "cell_type": "code",
   "execution_count": 4,
   "metadata": {},
   "outputs": [],
   "source": [
    "test_list = ['a', 'b', 'c', 'd', 'e', 'f', 'g', 'a', 'f', 's', 'b', 'h', 'k', 'i', 'j', 'c', 'd', 'f']"
   ]
  },
  {
   "cell_type": "markdown",
   "metadata": {},
   "source": [
    "## 使用字典解决（dict）"
   ]
  },
  {
   "cell_type": "code",
   "execution_count": 31,
   "metadata": {
    "scrolled": true
   },
   "outputs": [
    {
     "name": "stdout",
     "output_type": "stream",
     "text": [
      "{'a': 2, 'b': 2, 'c': 2, 'd': 2, 'e': 1, 'f': 3, 'g': 1, 's': 1, 'h': 1, 'k': 1, 'i': 1, 'j': 1}\n",
      "dict_values([2, 2, 2, 2, 1, 3, 1, 1, 1, 1, 1, 1])\n"
     ]
    }
   ],
   "source": [
    "counter_dict = {}\n",
    "for item in test_list:\n",
    "    if item in counter_dict:\n",
    "        counter_dict[item] += 1\n",
    "    else:\n",
    "        counter_dict[item] = 1\n",
    "        \n",
    "print (counter_dict)\n",
    "\n",
    "print (counter_dict.values())"
   ]
  },
  {
   "cell_type": "code",
   "execution_count": 30,
   "metadata": {},
   "outputs": [
    {
     "name": "stdout",
     "output_type": "stream",
     "text": [
      "[2, 2, 2, 2, 1, 3, 1, 1, 1, 1, 1, 1]\n",
      "[3, 2, 2, 2, 2, 1, 1, 1, 1, 1, 1, 1]\n"
     ]
    }
   ],
   "source": [
    "value = []\n",
    "for item in counter_dict:\n",
    "    value.append(counter_dict[item])\n",
    "print (value)\n",
    "value_sort = sorted(value,reverse=True)\n",
    "print (value_sort)"
   ]
  },
  {
   "cell_type": "markdown",
   "metadata": {},
   "source": [
    "## 使用dict.setdefault(key, dvalue)方法解决"
   ]
  },
  {
   "cell_type": "code",
   "execution_count": 3,
   "metadata": {
    "scrolled": true
   },
   "outputs": [
    {
     "name": "stdout",
     "output_type": "stream",
     "text": [
      "{'a': 2, 'b': 2, 'c': 2, 'd': 2, 'e': 1, 'f': 3, 'g': 1, 's': 1, 'h': 1, 'k': 1, 'i': 1, 'j': 1}\n"
     ]
    }
   ],
   "source": [
    "counter_sdict = {}\n",
    "for item in test_list:\n",
    "    counter_sdict[item] = counter_sdict.setdefault(item,0) +1\n",
    "print (counter_sdict)"
   ]
  },
  {
   "cell_type": "markdown",
   "metadata": {},
   "source": [
    "## 使用defaultdict类解决\n",
    "--使用defaultdict与使用dict的区别在于，defaultdict能够自动对获取结果进行排序"
   ]
  },
  {
   "cell_type": "code",
   "execution_count": 7,
   "metadata": {},
   "outputs": [
    {
     "name": "stdout",
     "output_type": "stream",
     "text": [
      "defaultdict(<class 'int'>, {'a': 2, 'b': 2, 'c': 2, 'd': 2, 'e': 1, 'f': 3, 'g': 1, 's': 1, 'h': 1, 'k': 1, 'i': 1, 'j': 1})\n"
     ]
    }
   ],
   "source": [
    "from collections import defaultdict\n",
    "counter_ddict = defaultdict(int)\n",
    "for item in test_list:\n",
    "    counter_ddict[item] += 1\n",
    "\n",
    "print (counter_ddict)"
   ]
  },
  {
   "cell_type": "markdown",
   "metadata": {},
   "source": [
    "## 使用set list count"
   ]
  },
  {
   "cell_type": "code",
   "execution_count": 11,
   "metadata": {},
   "outputs": [
    {
     "name": "stdout",
     "output_type": "stream",
     "text": [
      "[('a', 2), ('b', 2), ('c', 2), ('d', 2), ('e', 1), ('f', 3), ('g', 1), ('h', 1), ('i', 1), ('j', 1), ('k', 1), ('s', 1)]\n",
      "None\n"
     ]
    }
   ],
   "source": [
    "r_list = []\n",
    "temp = set(test_list)\n",
    "for item in temp:\n",
    "    r_list.append((item,test_list.count(item)))\n",
    "list_sort = r_list.sort()\n",
    "print (r_list)\n",
    "print (list_sort)"
   ]
  },
  {
   "cell_type": "markdown",
   "metadata": {},
   "source": [
    "## Counter()"
   ]
  },
  {
   "cell_type": "code",
   "execution_count": 27,
   "metadata": {},
   "outputs": [
    {
     "name": "stdout",
     "output_type": "stream",
     "text": [
      "Counter({'f': 3, 'a': 2, 'b': 2, 'c': 2, 'd': 2, 'e': 1, 'g': 1, 's': 1, 'h': 1, 'k': 1, 'i': 1, 'j': 1})\n"
     ]
    }
   ],
   "source": [
    "from collections import Counter\n",
    "print (Counter(test_list))"
   ]
  },
  {
   "cell_type": "code",
   "execution_count": null,
   "metadata": {},
   "outputs": [],
   "source": []
  },
  {
   "cell_type": "markdown",
   "metadata": {},
   "source": [
    "# 数据分析实战"
   ]
  },
  {
   "cell_type": "code",
   "execution_count": 1,
   "metadata": {},
   "outputs": [],
   "source": [
    "import pandas as pd\n"
   ]
  },
  {
   "cell_type": "code",
   "execution_count": 2,
   "metadata": {},
   "outputs": [],
   "source": [
    "df = pd.read_excel(\"E:\\个人资料\\数据资料\\数据.xlsx\",sheet_name=\"phonetime\",headed=0,usecols= [0,1,2,3,4])"
   ]
  },
  {
   "cell_type": "code",
   "execution_count": 3,
   "metadata": {
    "scrolled": true
   },
   "outputs": [
    {
     "name": "stdout",
     "output_type": "stream",
     "text": [
      "             Unnamed: 0  iPhone使用 Unnamed: 2 Unnamed: 3 Unnamed: 4\n",
      "0                    日期        王者         知乎         微信         微博\n",
      "1                   NaN        时长        NaN        NaN        NaN\n",
      "2   2020-03-01 00:00:00  0.883333  0.0666667   0.133333        NaN\n",
      "3   2020-02-29 00:00:00      3.15        NaN   0.966667    1.13333\n",
      "4   2020-02-28 00:00:00      2.45    1.21667   0.383333   0.666667\n",
      "5   2020-02-27 00:00:00       3.1        0.4   0.266667        0.4\n",
      "6   2020-02-26 00:00:00   2.96667        0.7        0.6   0.683333\n",
      "7   2020-02-25 00:00:00   2.16667   0.316667   0.316667       0.75\n",
      "8   2020-02-24 00:00:00   5.48333  0.0833333   0.266667        0.3\n",
      "9   2020-02-23 00:00:00       4.6        NaN   0.216667   0.633333\n",
      "10  2020-02-22 00:00:00      3.85   0.383333   0.283333        0.3\n",
      "11  2020-02-21 00:00:00   3.61667   0.966667       0.35        0.6\n",
      "12  2020-02-20 00:00:00      5.55        0.2   0.183333   0.783333\n",
      "13  2020-02-19 00:00:00   4.38333   0.666667   0.616667    1.43333\n",
      "14  2020-02-18 00:00:00      3.85   0.833333   0.366667   0.833333\n",
      "15  2020-02-17 00:00:00      2.95       1.05        0.8   0.833333\n",
      "16  2020-02-16 00:00:00   4.48333       0.75        0.4        NaN\n",
      "17  2020-02-15 00:00:00   3.43333   0.816667        0.3       1.15\n",
      "18  2020-02-14 00:00:00  0.666667       0.35   0.883333  0.0666667\n",
      "19  2020-02-13 00:00:00       2.5   0.183333   0.983333   0.883333\n",
      "20  2020-02-12 00:00:00      2.85   0.866667        1.2   0.166667\n",
      "21  2020-02-11 00:00:00      1.55   0.133333   0.516667   0.666667\n",
      "22  2020-02-10 00:00:00       1.4   0.233333   0.933333   0.566667\n",
      "23  2020-02-09 00:00:00       1.7        0.1    8.31667   0.133333\n",
      "24  2020-02-08 00:00:00       NaN        NaN        NaN        NaN\n",
      "25  2020-02-07 00:00:00       NaN        NaN        NaN        NaN\n",
      "26  2020-02-06 00:00:00       NaN        NaN        NaN        NaN\n",
      "27  2020-02-05 00:00:00       NaN        NaN        NaN        NaN\n",
      "28  2020-02-04 00:00:00       NaN        NaN        NaN        NaN\n",
      "29  2020-02-03 00:00:00       NaN        NaN        NaN        NaN\n",
      "30  2020-02-02 00:00:00       NaN        NaN        NaN        NaN\n",
      "31  2020-02-01 00:00:00       NaN        NaN        NaN        NaN\n"
     ]
    }
   ],
   "source": [
    "print (df)"
   ]
  },
  {
   "cell_type": "code",
   "execution_count": 4,
   "metadata": {
    "scrolled": true
   },
   "outputs": [
    {
     "data": {
      "text/html": [
       "<div>\n",
       "<style scoped>\n",
       "    .dataframe tbody tr th:only-of-type {\n",
       "        vertical-align: middle;\n",
       "    }\n",
       "\n",
       "    .dataframe tbody tr th {\n",
       "        vertical-align: top;\n",
       "    }\n",
       "\n",
       "    .dataframe thead th {\n",
       "        text-align: right;\n",
       "    }\n",
       "</style>\n",
       "<table border=\"1\" class=\"dataframe\">\n",
       "  <thead>\n",
       "    <tr style=\"text-align: right;\">\n",
       "      <th></th>\n",
       "      <th>日期</th>\n",
       "      <th>王者</th>\n",
       "      <th>知乎</th>\n",
       "      <th>微信</th>\n",
       "      <th>微博</th>\n",
       "    </tr>\n",
       "  </thead>\n",
       "  <tbody>\n",
       "    <tr>\n",
       "      <th>0</th>\n",
       "      <td>2020-03-01 00:00:00</td>\n",
       "      <td>0.883333</td>\n",
       "      <td>0.0666667</td>\n",
       "      <td>0.133333</td>\n",
       "      <td>NaN</td>\n",
       "    </tr>\n",
       "    <tr>\n",
       "      <th>1</th>\n",
       "      <td>2020-02-29 00:00:00</td>\n",
       "      <td>3.15</td>\n",
       "      <td>NaN</td>\n",
       "      <td>0.966667</td>\n",
       "      <td>1.13333</td>\n",
       "    </tr>\n",
       "    <tr>\n",
       "      <th>2</th>\n",
       "      <td>2020-02-28 00:00:00</td>\n",
       "      <td>2.45</td>\n",
       "      <td>1.21667</td>\n",
       "      <td>0.383333</td>\n",
       "      <td>0.666667</td>\n",
       "    </tr>\n",
       "    <tr>\n",
       "      <th>3</th>\n",
       "      <td>2020-02-27 00:00:00</td>\n",
       "      <td>3.1</td>\n",
       "      <td>0.4</td>\n",
       "      <td>0.266667</td>\n",
       "      <td>0.4</td>\n",
       "    </tr>\n",
       "    <tr>\n",
       "      <th>4</th>\n",
       "      <td>2020-02-26 00:00:00</td>\n",
       "      <td>2.96667</td>\n",
       "      <td>0.7</td>\n",
       "      <td>0.6</td>\n",
       "      <td>0.683333</td>\n",
       "    </tr>\n",
       "    <tr>\n",
       "      <th>5</th>\n",
       "      <td>2020-02-25 00:00:00</td>\n",
       "      <td>2.16667</td>\n",
       "      <td>0.316667</td>\n",
       "      <td>0.316667</td>\n",
       "      <td>0.75</td>\n",
       "    </tr>\n",
       "    <tr>\n",
       "      <th>6</th>\n",
       "      <td>2020-02-24 00:00:00</td>\n",
       "      <td>5.48333</td>\n",
       "      <td>0.0833333</td>\n",
       "      <td>0.266667</td>\n",
       "      <td>0.3</td>\n",
       "    </tr>\n",
       "    <tr>\n",
       "      <th>7</th>\n",
       "      <td>2020-02-23 00:00:00</td>\n",
       "      <td>4.6</td>\n",
       "      <td>NaN</td>\n",
       "      <td>0.216667</td>\n",
       "      <td>0.633333</td>\n",
       "    </tr>\n",
       "    <tr>\n",
       "      <th>8</th>\n",
       "      <td>2020-02-22 00:00:00</td>\n",
       "      <td>3.85</td>\n",
       "      <td>0.383333</td>\n",
       "      <td>0.283333</td>\n",
       "      <td>0.3</td>\n",
       "    </tr>\n",
       "    <tr>\n",
       "      <th>9</th>\n",
       "      <td>2020-02-21 00:00:00</td>\n",
       "      <td>3.61667</td>\n",
       "      <td>0.966667</td>\n",
       "      <td>0.35</td>\n",
       "      <td>0.6</td>\n",
       "    </tr>\n",
       "    <tr>\n",
       "      <th>10</th>\n",
       "      <td>2020-02-20 00:00:00</td>\n",
       "      <td>5.55</td>\n",
       "      <td>0.2</td>\n",
       "      <td>0.183333</td>\n",
       "      <td>0.783333</td>\n",
       "    </tr>\n",
       "    <tr>\n",
       "      <th>11</th>\n",
       "      <td>2020-02-19 00:00:00</td>\n",
       "      <td>4.38333</td>\n",
       "      <td>0.666667</td>\n",
       "      <td>0.616667</td>\n",
       "      <td>1.43333</td>\n",
       "    </tr>\n",
       "    <tr>\n",
       "      <th>12</th>\n",
       "      <td>2020-02-18 00:00:00</td>\n",
       "      <td>3.85</td>\n",
       "      <td>0.833333</td>\n",
       "      <td>0.366667</td>\n",
       "      <td>0.833333</td>\n",
       "    </tr>\n",
       "    <tr>\n",
       "      <th>13</th>\n",
       "      <td>2020-02-17 00:00:00</td>\n",
       "      <td>2.95</td>\n",
       "      <td>1.05</td>\n",
       "      <td>0.8</td>\n",
       "      <td>0.833333</td>\n",
       "    </tr>\n",
       "    <tr>\n",
       "      <th>14</th>\n",
       "      <td>2020-02-16 00:00:00</td>\n",
       "      <td>4.48333</td>\n",
       "      <td>0.75</td>\n",
       "      <td>0.4</td>\n",
       "      <td>NaN</td>\n",
       "    </tr>\n",
       "    <tr>\n",
       "      <th>15</th>\n",
       "      <td>2020-02-15 00:00:00</td>\n",
       "      <td>3.43333</td>\n",
       "      <td>0.816667</td>\n",
       "      <td>0.3</td>\n",
       "      <td>1.15</td>\n",
       "    </tr>\n",
       "    <tr>\n",
       "      <th>16</th>\n",
       "      <td>2020-02-14 00:00:00</td>\n",
       "      <td>0.666667</td>\n",
       "      <td>0.35</td>\n",
       "      <td>0.883333</td>\n",
       "      <td>0.0666667</td>\n",
       "    </tr>\n",
       "    <tr>\n",
       "      <th>17</th>\n",
       "      <td>2020-02-13 00:00:00</td>\n",
       "      <td>2.5</td>\n",
       "      <td>0.183333</td>\n",
       "      <td>0.983333</td>\n",
       "      <td>0.883333</td>\n",
       "    </tr>\n",
       "    <tr>\n",
       "      <th>18</th>\n",
       "      <td>2020-02-12 00:00:00</td>\n",
       "      <td>2.85</td>\n",
       "      <td>0.866667</td>\n",
       "      <td>1.2</td>\n",
       "      <td>0.166667</td>\n",
       "    </tr>\n",
       "    <tr>\n",
       "      <th>19</th>\n",
       "      <td>2020-02-11 00:00:00</td>\n",
       "      <td>1.55</td>\n",
       "      <td>0.133333</td>\n",
       "      <td>0.516667</td>\n",
       "      <td>0.666667</td>\n",
       "    </tr>\n",
       "    <tr>\n",
       "      <th>20</th>\n",
       "      <td>2020-02-10 00:00:00</td>\n",
       "      <td>1.4</td>\n",
       "      <td>0.233333</td>\n",
       "      <td>0.933333</td>\n",
       "      <td>0.566667</td>\n",
       "    </tr>\n",
       "    <tr>\n",
       "      <th>21</th>\n",
       "      <td>2020-02-09 00:00:00</td>\n",
       "      <td>1.7</td>\n",
       "      <td>0.1</td>\n",
       "      <td>8.31667</td>\n",
       "      <td>0.133333</td>\n",
       "    </tr>\n",
       "    <tr>\n",
       "      <th>22</th>\n",
       "      <td>2020-02-08 00:00:00</td>\n",
       "      <td>NaN</td>\n",
       "      <td>NaN</td>\n",
       "      <td>NaN</td>\n",
       "      <td>NaN</td>\n",
       "    </tr>\n",
       "    <tr>\n",
       "      <th>23</th>\n",
       "      <td>2020-02-07 00:00:00</td>\n",
       "      <td>NaN</td>\n",
       "      <td>NaN</td>\n",
       "      <td>NaN</td>\n",
       "      <td>NaN</td>\n",
       "    </tr>\n",
       "    <tr>\n",
       "      <th>24</th>\n",
       "      <td>2020-02-06 00:00:00</td>\n",
       "      <td>NaN</td>\n",
       "      <td>NaN</td>\n",
       "      <td>NaN</td>\n",
       "      <td>NaN</td>\n",
       "    </tr>\n",
       "    <tr>\n",
       "      <th>25</th>\n",
       "      <td>2020-02-05 00:00:00</td>\n",
       "      <td>NaN</td>\n",
       "      <td>NaN</td>\n",
       "      <td>NaN</td>\n",
       "      <td>NaN</td>\n",
       "    </tr>\n",
       "    <tr>\n",
       "      <th>26</th>\n",
       "      <td>2020-02-04 00:00:00</td>\n",
       "      <td>NaN</td>\n",
       "      <td>NaN</td>\n",
       "      <td>NaN</td>\n",
       "      <td>NaN</td>\n",
       "    </tr>\n",
       "    <tr>\n",
       "      <th>27</th>\n",
       "      <td>2020-02-03 00:00:00</td>\n",
       "      <td>NaN</td>\n",
       "      <td>NaN</td>\n",
       "      <td>NaN</td>\n",
       "      <td>NaN</td>\n",
       "    </tr>\n",
       "    <tr>\n",
       "      <th>28</th>\n",
       "      <td>2020-02-02 00:00:00</td>\n",
       "      <td>NaN</td>\n",
       "      <td>NaN</td>\n",
       "      <td>NaN</td>\n",
       "      <td>NaN</td>\n",
       "    </tr>\n",
       "    <tr>\n",
       "      <th>29</th>\n",
       "      <td>2020-02-01 00:00:00</td>\n",
       "      <td>NaN</td>\n",
       "      <td>NaN</td>\n",
       "      <td>NaN</td>\n",
       "      <td>NaN</td>\n",
       "    </tr>\n",
       "  </tbody>\n",
       "</table>\n",
       "</div>"
      ],
      "text/plain": [
       "                     日期        王者         知乎        微信         微博\n",
       "0   2020-03-01 00:00:00  0.883333  0.0666667  0.133333        NaN\n",
       "1   2020-02-29 00:00:00      3.15        NaN  0.966667    1.13333\n",
       "2   2020-02-28 00:00:00      2.45    1.21667  0.383333   0.666667\n",
       "3   2020-02-27 00:00:00       3.1        0.4  0.266667        0.4\n",
       "4   2020-02-26 00:00:00   2.96667        0.7       0.6   0.683333\n",
       "5   2020-02-25 00:00:00   2.16667   0.316667  0.316667       0.75\n",
       "6   2020-02-24 00:00:00   5.48333  0.0833333  0.266667        0.3\n",
       "7   2020-02-23 00:00:00       4.6        NaN  0.216667   0.633333\n",
       "8   2020-02-22 00:00:00      3.85   0.383333  0.283333        0.3\n",
       "9   2020-02-21 00:00:00   3.61667   0.966667      0.35        0.6\n",
       "10  2020-02-20 00:00:00      5.55        0.2  0.183333   0.783333\n",
       "11  2020-02-19 00:00:00   4.38333   0.666667  0.616667    1.43333\n",
       "12  2020-02-18 00:00:00      3.85   0.833333  0.366667   0.833333\n",
       "13  2020-02-17 00:00:00      2.95       1.05       0.8   0.833333\n",
       "14  2020-02-16 00:00:00   4.48333       0.75       0.4        NaN\n",
       "15  2020-02-15 00:00:00   3.43333   0.816667       0.3       1.15\n",
       "16  2020-02-14 00:00:00  0.666667       0.35  0.883333  0.0666667\n",
       "17  2020-02-13 00:00:00       2.5   0.183333  0.983333   0.883333\n",
       "18  2020-02-12 00:00:00      2.85   0.866667       1.2   0.166667\n",
       "19  2020-02-11 00:00:00      1.55   0.133333  0.516667   0.666667\n",
       "20  2020-02-10 00:00:00       1.4   0.233333  0.933333   0.566667\n",
       "21  2020-02-09 00:00:00       1.7        0.1   8.31667   0.133333\n",
       "22  2020-02-08 00:00:00       NaN        NaN       NaN        NaN\n",
       "23  2020-02-07 00:00:00       NaN        NaN       NaN        NaN\n",
       "24  2020-02-06 00:00:00       NaN        NaN       NaN        NaN\n",
       "25  2020-02-05 00:00:00       NaN        NaN       NaN        NaN\n",
       "26  2020-02-04 00:00:00       NaN        NaN       NaN        NaN\n",
       "27  2020-02-03 00:00:00       NaN        NaN       NaN        NaN\n",
       "28  2020-02-02 00:00:00       NaN        NaN       NaN        NaN\n",
       "29  2020-02-01 00:00:00       NaN        NaN       NaN        NaN"
      ]
     },
     "execution_count": 4,
     "metadata": {},
     "output_type": "execute_result"
    }
   ],
   "source": [
    "df.columns=['日期', '王者', '知乎', '微信', '微博']\n",
    "dfi=df.drop(df.index[[0,1]],axis=0)\n",
    "dfi.reset_index(drop=True)"
   ]
  },
  {
   "cell_type": "code",
   "execution_count": 5,
   "metadata": {},
   "outputs": [],
   "source": [
    "dfi2=dfi.iloc[:22]"
   ]
  },
  {
   "cell_type": "code",
   "execution_count": 6,
   "metadata": {},
   "outputs": [],
   "source": [
    "dfi2.reset_index(drop=True,inplace=True)"
   ]
  },
  {
   "cell_type": "code",
   "execution_count": 7,
   "metadata": {},
   "outputs": [],
   "source": [
    "a=dfi2.columns\n",
    "#dfi2.values[0]"
   ]
  },
  {
   "cell_type": "code",
   "execution_count": 8,
   "metadata": {},
   "outputs": [
    {
     "name": "stdout",
     "output_type": "stream",
     "text": [
      "Index(['日期', '王者', '知乎', '微信', '微博'], dtype='object')\n"
     ]
    }
   ],
   "source": [
    "print (a)"
   ]
  },
  {
   "cell_type": "code",
   "execution_count": 9,
   "metadata": {},
   "outputs": [
    {
     "data": {
      "text/html": [
       "<div>\n",
       "<style scoped>\n",
       "    .dataframe tbody tr th:only-of-type {\n",
       "        vertical-align: middle;\n",
       "    }\n",
       "\n",
       "    .dataframe tbody tr th {\n",
       "        vertical-align: top;\n",
       "    }\n",
       "\n",
       "    .dataframe thead th {\n",
       "        text-align: right;\n",
       "    }\n",
       "</style>\n",
       "<table border=\"1\" class=\"dataframe\">\n",
       "  <thead>\n",
       "    <tr style=\"text-align: right;\">\n",
       "      <th></th>\n",
       "      <th>日期</th>\n",
       "      <th>王者</th>\n",
       "      <th>知乎</th>\n",
       "      <th>微信</th>\n",
       "      <th>微博</th>\n",
       "    </tr>\n",
       "  </thead>\n",
       "  <tbody>\n",
       "    <tr>\n",
       "      <th>0</th>\n",
       "      <td>2020-03-01 00:00:00</td>\n",
       "      <td>0.883333</td>\n",
       "      <td>0.0666667</td>\n",
       "      <td>0.133333</td>\n",
       "      <td>NaN</td>\n",
       "    </tr>\n",
       "    <tr>\n",
       "      <th>1</th>\n",
       "      <td>2020-02-29 00:00:00</td>\n",
       "      <td>3.15</td>\n",
       "      <td>NaN</td>\n",
       "      <td>0.966667</td>\n",
       "      <td>1.13333</td>\n",
       "    </tr>\n",
       "    <tr>\n",
       "      <th>2</th>\n",
       "      <td>2020-02-28 00:00:00</td>\n",
       "      <td>2.45</td>\n",
       "      <td>1.21667</td>\n",
       "      <td>0.383333</td>\n",
       "      <td>0.666667</td>\n",
       "    </tr>\n",
       "    <tr>\n",
       "      <th>3</th>\n",
       "      <td>2020-02-27 00:00:00</td>\n",
       "      <td>3.1</td>\n",
       "      <td>0.4</td>\n",
       "      <td>0.266667</td>\n",
       "      <td>0.4</td>\n",
       "    </tr>\n",
       "    <tr>\n",
       "      <th>4</th>\n",
       "      <td>2020-02-26 00:00:00</td>\n",
       "      <td>2.96667</td>\n",
       "      <td>0.7</td>\n",
       "      <td>0.6</td>\n",
       "      <td>0.683333</td>\n",
       "    </tr>\n",
       "  </tbody>\n",
       "</table>\n",
       "</div>"
      ],
      "text/plain": [
       "                    日期        王者         知乎        微信        微博\n",
       "0  2020-03-01 00:00:00  0.883333  0.0666667  0.133333       NaN\n",
       "1  2020-02-29 00:00:00      3.15        NaN  0.966667   1.13333\n",
       "2  2020-02-28 00:00:00      2.45    1.21667  0.383333  0.666667\n",
       "3  2020-02-27 00:00:00       3.1        0.4  0.266667       0.4\n",
       "4  2020-02-26 00:00:00   2.96667        0.7       0.6  0.683333"
      ]
     },
     "execution_count": 9,
     "metadata": {},
     "output_type": "execute_result"
    }
   ],
   "source": [
    "dfi2.head()"
   ]
  },
  {
   "cell_type": "code",
   "execution_count": 10,
   "metadata": {
    "scrolled": true
   },
   "outputs": [
    {
     "data": {
      "text/html": [
       "<div>\n",
       "<style scoped>\n",
       "    .dataframe tbody tr th:only-of-type {\n",
       "        vertical-align: middle;\n",
       "    }\n",
       "\n",
       "    .dataframe tbody tr th {\n",
       "        vertical-align: top;\n",
       "    }\n",
       "\n",
       "    .dataframe thead th {\n",
       "        text-align: right;\n",
       "    }\n",
       "</style>\n",
       "<table border=\"1\" class=\"dataframe\">\n",
       "  <thead>\n",
       "    <tr style=\"text-align: right;\">\n",
       "      <th></th>\n",
       "      <th>日期</th>\n",
       "      <th>王者</th>\n",
       "      <th>知乎</th>\n",
       "      <th>微信</th>\n",
       "      <th>微博</th>\n",
       "    </tr>\n",
       "  </thead>\n",
       "  <tbody>\n",
       "    <tr>\n",
       "      <th>0</th>\n",
       "      <td>2020-03-01</td>\n",
       "      <td>0.883333</td>\n",
       "      <td>0.066667</td>\n",
       "      <td>0.133333</td>\n",
       "      <td>0.000000</td>\n",
       "    </tr>\n",
       "    <tr>\n",
       "      <th>1</th>\n",
       "      <td>2020-02-29</td>\n",
       "      <td>3.150000</td>\n",
       "      <td>0.000000</td>\n",
       "      <td>0.966667</td>\n",
       "      <td>1.133333</td>\n",
       "    </tr>\n",
       "    <tr>\n",
       "      <th>2</th>\n",
       "      <td>2020-02-28</td>\n",
       "      <td>2.450000</td>\n",
       "      <td>1.216667</td>\n",
       "      <td>0.383333</td>\n",
       "      <td>0.666667</td>\n",
       "    </tr>\n",
       "    <tr>\n",
       "      <th>3</th>\n",
       "      <td>2020-02-27</td>\n",
       "      <td>3.100000</td>\n",
       "      <td>0.400000</td>\n",
       "      <td>0.266667</td>\n",
       "      <td>0.400000</td>\n",
       "    </tr>\n",
       "    <tr>\n",
       "      <th>4</th>\n",
       "      <td>2020-02-26</td>\n",
       "      <td>2.966667</td>\n",
       "      <td>0.700000</td>\n",
       "      <td>0.600000</td>\n",
       "      <td>0.683333</td>\n",
       "    </tr>\n",
       "    <tr>\n",
       "      <th>5</th>\n",
       "      <td>2020-02-25</td>\n",
       "      <td>2.166667</td>\n",
       "      <td>0.316667</td>\n",
       "      <td>0.316667</td>\n",
       "      <td>0.750000</td>\n",
       "    </tr>\n",
       "    <tr>\n",
       "      <th>6</th>\n",
       "      <td>2020-02-24</td>\n",
       "      <td>5.483333</td>\n",
       "      <td>0.083333</td>\n",
       "      <td>0.266667</td>\n",
       "      <td>0.300000</td>\n",
       "    </tr>\n",
       "    <tr>\n",
       "      <th>7</th>\n",
       "      <td>2020-02-23</td>\n",
       "      <td>4.600000</td>\n",
       "      <td>0.000000</td>\n",
       "      <td>0.216667</td>\n",
       "      <td>0.633333</td>\n",
       "    </tr>\n",
       "    <tr>\n",
       "      <th>8</th>\n",
       "      <td>2020-02-22</td>\n",
       "      <td>3.850000</td>\n",
       "      <td>0.383333</td>\n",
       "      <td>0.283333</td>\n",
       "      <td>0.300000</td>\n",
       "    </tr>\n",
       "    <tr>\n",
       "      <th>9</th>\n",
       "      <td>2020-02-21</td>\n",
       "      <td>3.616667</td>\n",
       "      <td>0.966667</td>\n",
       "      <td>0.350000</td>\n",
       "      <td>0.600000</td>\n",
       "    </tr>\n",
       "    <tr>\n",
       "      <th>10</th>\n",
       "      <td>2020-02-20</td>\n",
       "      <td>5.550000</td>\n",
       "      <td>0.200000</td>\n",
       "      <td>0.183333</td>\n",
       "      <td>0.783333</td>\n",
       "    </tr>\n",
       "    <tr>\n",
       "      <th>11</th>\n",
       "      <td>2020-02-19</td>\n",
       "      <td>4.383333</td>\n",
       "      <td>0.666667</td>\n",
       "      <td>0.616667</td>\n",
       "      <td>1.433333</td>\n",
       "    </tr>\n",
       "    <tr>\n",
       "      <th>12</th>\n",
       "      <td>2020-02-18</td>\n",
       "      <td>3.850000</td>\n",
       "      <td>0.833333</td>\n",
       "      <td>0.366667</td>\n",
       "      <td>0.833333</td>\n",
       "    </tr>\n",
       "    <tr>\n",
       "      <th>13</th>\n",
       "      <td>2020-02-17</td>\n",
       "      <td>2.950000</td>\n",
       "      <td>1.050000</td>\n",
       "      <td>0.800000</td>\n",
       "      <td>0.833333</td>\n",
       "    </tr>\n",
       "    <tr>\n",
       "      <th>14</th>\n",
       "      <td>2020-02-16</td>\n",
       "      <td>4.483333</td>\n",
       "      <td>0.750000</td>\n",
       "      <td>0.400000</td>\n",
       "      <td>0.000000</td>\n",
       "    </tr>\n",
       "    <tr>\n",
       "      <th>15</th>\n",
       "      <td>2020-02-15</td>\n",
       "      <td>3.433333</td>\n",
       "      <td>0.816667</td>\n",
       "      <td>0.300000</td>\n",
       "      <td>1.150000</td>\n",
       "    </tr>\n",
       "    <tr>\n",
       "      <th>16</th>\n",
       "      <td>2020-02-14</td>\n",
       "      <td>0.666667</td>\n",
       "      <td>0.350000</td>\n",
       "      <td>0.883333</td>\n",
       "      <td>0.066667</td>\n",
       "    </tr>\n",
       "    <tr>\n",
       "      <th>17</th>\n",
       "      <td>2020-02-13</td>\n",
       "      <td>2.500000</td>\n",
       "      <td>0.183333</td>\n",
       "      <td>0.983333</td>\n",
       "      <td>0.883333</td>\n",
       "    </tr>\n",
       "    <tr>\n",
       "      <th>18</th>\n",
       "      <td>2020-02-12</td>\n",
       "      <td>2.850000</td>\n",
       "      <td>0.866667</td>\n",
       "      <td>1.200000</td>\n",
       "      <td>0.166667</td>\n",
       "    </tr>\n",
       "    <tr>\n",
       "      <th>19</th>\n",
       "      <td>2020-02-11</td>\n",
       "      <td>1.550000</td>\n",
       "      <td>0.133333</td>\n",
       "      <td>0.516667</td>\n",
       "      <td>0.666667</td>\n",
       "    </tr>\n",
       "    <tr>\n",
       "      <th>20</th>\n",
       "      <td>2020-02-10</td>\n",
       "      <td>1.400000</td>\n",
       "      <td>0.233333</td>\n",
       "      <td>0.933333</td>\n",
       "      <td>0.566667</td>\n",
       "    </tr>\n",
       "    <tr>\n",
       "      <th>21</th>\n",
       "      <td>2020-02-09</td>\n",
       "      <td>1.700000</td>\n",
       "      <td>0.100000</td>\n",
       "      <td>8.316667</td>\n",
       "      <td>0.133333</td>\n",
       "    </tr>\n",
       "  </tbody>\n",
       "</table>\n",
       "</div>"
      ],
      "text/plain": [
       "           日期        王者        知乎        微信        微博\n",
       "0  2020-03-01  0.883333  0.066667  0.133333  0.000000\n",
       "1  2020-02-29  3.150000  0.000000  0.966667  1.133333\n",
       "2  2020-02-28  2.450000  1.216667  0.383333  0.666667\n",
       "3  2020-02-27  3.100000  0.400000  0.266667  0.400000\n",
       "4  2020-02-26  2.966667  0.700000  0.600000  0.683333\n",
       "5  2020-02-25  2.166667  0.316667  0.316667  0.750000\n",
       "6  2020-02-24  5.483333  0.083333  0.266667  0.300000\n",
       "7  2020-02-23  4.600000  0.000000  0.216667  0.633333\n",
       "8  2020-02-22  3.850000  0.383333  0.283333  0.300000\n",
       "9  2020-02-21  3.616667  0.966667  0.350000  0.600000\n",
       "10 2020-02-20  5.550000  0.200000  0.183333  0.783333\n",
       "11 2020-02-19  4.383333  0.666667  0.616667  1.433333\n",
       "12 2020-02-18  3.850000  0.833333  0.366667  0.833333\n",
       "13 2020-02-17  2.950000  1.050000  0.800000  0.833333\n",
       "14 2020-02-16  4.483333  0.750000  0.400000  0.000000\n",
       "15 2020-02-15  3.433333  0.816667  0.300000  1.150000\n",
       "16 2020-02-14  0.666667  0.350000  0.883333  0.066667\n",
       "17 2020-02-13  2.500000  0.183333  0.983333  0.883333\n",
       "18 2020-02-12  2.850000  0.866667  1.200000  0.166667\n",
       "19 2020-02-11  1.550000  0.133333  0.516667  0.666667\n",
       "20 2020-02-10  1.400000  0.233333  0.933333  0.566667\n",
       "21 2020-02-09  1.700000  0.100000  8.316667  0.133333"
      ]
     },
     "execution_count": 10,
     "metadata": {},
     "output_type": "execute_result"
    }
   ],
   "source": [
    "dfi2.fillna(0)"
   ]
  },
  {
   "cell_type": "code",
   "execution_count": 11,
   "metadata": {},
   "outputs": [
    {
     "data": {
      "text/plain": [
       "67.58333333333334"
      ]
     },
     "execution_count": 11,
     "metadata": {},
     "output_type": "execute_result"
    }
   ],
   "source": [
    "dfi2[\"王者\"].sum()"
   ]
  },
  {
   "cell_type": "code",
   "execution_count": 12,
   "metadata": {},
   "outputs": [
    {
     "data": {
      "text/plain": [
       "12.98333333333333"
      ]
     },
     "execution_count": 12,
     "metadata": {},
     "output_type": "execute_result"
    }
   ],
   "source": [
    "dfi2['微博'].sum()"
   ]
  },
  {
   "cell_type": "code",
   "execution_count": 13,
   "metadata": {},
   "outputs": [],
   "source": [
    "#dfi2['王者'].astype(\"int\")"
   ]
  },
  {
   "cell_type": "code",
   "execution_count": 14,
   "metadata": {},
   "outputs": [
    {
     "data": {
      "text/plain": [
       "dtype('O')"
      ]
     },
     "execution_count": 14,
     "metadata": {},
     "output_type": "execute_result"
    }
   ],
   "source": [
    "dfi2['王者'].dtype"
   ]
  },
  {
   "cell_type": "code",
   "execution_count": 15,
   "metadata": {},
   "outputs": [
    {
     "name": "stdout",
     "output_type": "stream",
     "text": [
      "王者 67.58333333333334\n",
      "知乎 10.316666666666666\n",
      "微信 19.28333333333333\n",
      "微博 12.98333333333333\n"
     ]
    }
   ],
   "source": [
    "lists = ['王者','知乎','微信','微博']\n",
    "a=[]\n",
    "for i in lists:\n",
    "    a = dfi2[i].sum()\n",
    "    print (i,a)  "
   ]
  },
  {
   "cell_type": "code",
   "execution_count": 16,
   "metadata": {},
   "outputs": [],
   "source": [
    "lists = ['王者','知乎','微信','微博']\n",
    "a = []\n",
    "def sums(lists):   \n",
    "    for i in lists:\n",
    "        a = dfi2[i].sum()\n",
    "    return (i,a)"
   ]
  },
  {
   "cell_type": "code",
   "execution_count": 17,
   "metadata": {},
   "outputs": [
    {
     "data": {
      "text/plain": [
       "('微博', 12.98333333333333)"
      ]
     },
     "execution_count": 17,
     "metadata": {},
     "output_type": "execute_result"
    }
   ],
   "source": [
    "sums(lists)"
   ]
  },
  {
   "cell_type": "code",
   "execution_count": 18,
   "metadata": {},
   "outputs": [],
   "source": [
    "lists = ['王者','知乎','微信','微博']\n",
    "def sums2(lists):\n",
    "    for i in lists:\n",
    "        yield dfi2[i].sum()"
   ]
  },
  {
   "cell_type": "code",
   "execution_count": 19,
   "metadata": {},
   "outputs": [
    {
     "data": {
      "text/plain": [
       "[67.58333333333334, 10.316666666666666, 19.28333333333333, 12.98333333333333]"
      ]
     },
     "execution_count": 19,
     "metadata": {},
     "output_type": "execute_result"
    }
   ],
   "source": [
    "list(sums2(lists))"
   ]
  },
  {
   "cell_type": "code",
   "execution_count": 20,
   "metadata": {},
   "outputs": [],
   "source": [
    "report = pd.Series(list(sums2(lists)),index=[lists])"
   ]
  },
  {
   "cell_type": "code",
   "execution_count": 21,
   "metadata": {},
   "outputs": [
    {
     "data": {
      "text/plain": [
       "王者    67.583333\n",
       "知乎    10.316667\n",
       "微信    19.283333\n",
       "微博    12.983333\n",
       "dtype: float64"
      ]
     },
     "execution_count": 21,
     "metadata": {},
     "output_type": "execute_result"
    }
   ],
   "source": [
    "report"
   ]
  },
  {
   "cell_type": "code",
   "execution_count": 22,
   "metadata": {},
   "outputs": [
    {
     "data": {
      "text/plain": [
       "RangeIndex(start=0, stop=22, step=1)"
      ]
     },
     "execution_count": 22,
     "metadata": {},
     "output_type": "execute_result"
    }
   ],
   "source": [
    "dfi2.index"
   ]
  },
  {
   "cell_type": "code",
   "execution_count": 23,
   "metadata": {
    "scrolled": true
   },
   "outputs": [
    {
     "data": {
      "text/plain": [
       "0     2020-03-01 00:00:00\n",
       "1     2020-02-29 00:00:00\n",
       "2     2020-02-28 00:00:00\n",
       "3     2020-02-27 00:00:00\n",
       "4     2020-02-26 00:00:00\n",
       "5     2020-02-25 00:00:00\n",
       "6     2020-02-24 00:00:00\n",
       "7     2020-02-23 00:00:00\n",
       "8     2020-02-22 00:00:00\n",
       "9     2020-02-21 00:00:00\n",
       "10    2020-02-20 00:00:00\n",
       "11    2020-02-19 00:00:00\n",
       "12    2020-02-18 00:00:00\n",
       "13    2020-02-17 00:00:00\n",
       "14    2020-02-16 00:00:00\n",
       "15    2020-02-15 00:00:00\n",
       "16    2020-02-14 00:00:00\n",
       "17    2020-02-13 00:00:00\n",
       "18    2020-02-12 00:00:00\n",
       "19    2020-02-11 00:00:00\n",
       "20    2020-02-10 00:00:00\n",
       "21    2020-02-09 00:00:00\n",
       "Name: 日期, dtype: object"
      ]
     },
     "execution_count": 23,
     "metadata": {},
     "output_type": "execute_result"
    }
   ],
   "source": [
    "dfi2['日期']"
   ]
  },
  {
   "cell_type": "code",
   "execution_count": 24,
   "metadata": {},
   "outputs": [],
   "source": [
    "dfi3=dfi2.set_index('日期')"
   ]
  },
  {
   "cell_type": "code",
   "execution_count": 25,
   "metadata": {},
   "outputs": [
    {
     "data": {
      "text/html": [
       "<div>\n",
       "<style scoped>\n",
       "    .dataframe tbody tr th:only-of-type {\n",
       "        vertical-align: middle;\n",
       "    }\n",
       "\n",
       "    .dataframe tbody tr th {\n",
       "        vertical-align: top;\n",
       "    }\n",
       "\n",
       "    .dataframe thead th {\n",
       "        text-align: right;\n",
       "    }\n",
       "</style>\n",
       "<table border=\"1\" class=\"dataframe\">\n",
       "  <thead>\n",
       "    <tr style=\"text-align: right;\">\n",
       "      <th></th>\n",
       "      <th>王者</th>\n",
       "      <th>知乎</th>\n",
       "      <th>微信</th>\n",
       "      <th>微博</th>\n",
       "    </tr>\n",
       "    <tr>\n",
       "      <th>日期</th>\n",
       "      <th></th>\n",
       "      <th></th>\n",
       "      <th></th>\n",
       "      <th></th>\n",
       "    </tr>\n",
       "  </thead>\n",
       "  <tbody>\n",
       "    <tr>\n",
       "      <th>2020-03-01</th>\n",
       "      <td>0.883333</td>\n",
       "      <td>0.066667</td>\n",
       "      <td>0.133333</td>\n",
       "      <td>0.000000</td>\n",
       "    </tr>\n",
       "    <tr>\n",
       "      <th>2020-02-29</th>\n",
       "      <td>3.150000</td>\n",
       "      <td>0.000000</td>\n",
       "      <td>0.966667</td>\n",
       "      <td>1.133333</td>\n",
       "    </tr>\n",
       "    <tr>\n",
       "      <th>2020-02-28</th>\n",
       "      <td>2.450000</td>\n",
       "      <td>1.216667</td>\n",
       "      <td>0.383333</td>\n",
       "      <td>0.666667</td>\n",
       "    </tr>\n",
       "    <tr>\n",
       "      <th>2020-02-27</th>\n",
       "      <td>3.100000</td>\n",
       "      <td>0.400000</td>\n",
       "      <td>0.266667</td>\n",
       "      <td>0.400000</td>\n",
       "    </tr>\n",
       "    <tr>\n",
       "      <th>2020-02-26</th>\n",
       "      <td>2.966667</td>\n",
       "      <td>0.700000</td>\n",
       "      <td>0.600000</td>\n",
       "      <td>0.683333</td>\n",
       "    </tr>\n",
       "  </tbody>\n",
       "</table>\n",
       "</div>"
      ],
      "text/plain": [
       "                  王者        知乎        微信        微博\n",
       "日期                                                \n",
       "2020-03-01  0.883333  0.066667  0.133333  0.000000\n",
       "2020-02-29  3.150000  0.000000  0.966667  1.133333\n",
       "2020-02-28  2.450000  1.216667  0.383333  0.666667\n",
       "2020-02-27  3.100000  0.400000  0.266667  0.400000\n",
       "2020-02-26  2.966667  0.700000  0.600000  0.683333"
      ]
     },
     "execution_count": 25,
     "metadata": {},
     "output_type": "execute_result"
    }
   ],
   "source": [
    "dfi3.fillna(0,inplace=True)\n",
    "dfi3.head()"
   ]
  },
  {
   "cell_type": "code",
   "execution_count": 26,
   "metadata": {},
   "outputs": [],
   "source": [
    "lists = ['王者','知乎','微信','微博']\n",
    "def sums3(lists):\n",
    "    for i in lists:\n",
    "        yield dfi3[i].sum()\n",
    "report = pd.Series(list(sums3(lists)),index=[lists])"
   ]
  },
  {
   "cell_type": "code",
   "execution_count": 27,
   "metadata": {},
   "outputs": [
    {
     "data": {
      "text/plain": [
       "王者    67.583333\n",
       "知乎    10.316667\n",
       "微信    19.283333\n",
       "微博    12.983333\n",
       "dtype: float64"
      ]
     },
     "execution_count": 27,
     "metadata": {},
     "output_type": "execute_result"
    }
   ],
   "source": [
    "report"
   ]
  },
  {
   "cell_type": "code",
   "execution_count": 28,
   "metadata": {},
   "outputs": [
    {
     "data": {
      "text/plain": [
       "DatetimeIndex(['2020-03-01', '2020-02-29', '2020-02-28', '2020-02-27',\n",
       "               '2020-02-26', '2020-02-25', '2020-02-24', '2020-02-23',\n",
       "               '2020-02-22', '2020-02-21', '2020-02-20', '2020-02-19',\n",
       "               '2020-02-18', '2020-02-17', '2020-02-16', '2020-02-15',\n",
       "               '2020-02-14', '2020-02-13', '2020-02-12', '2020-02-11',\n",
       "               '2020-02-10', '2020-02-09'],\n",
       "              dtype='datetime64[ns]', name='日期', freq=None)"
      ]
     },
     "execution_count": 28,
     "metadata": {},
     "output_type": "execute_result"
    }
   ],
   "source": [
    "list3 = dfi3.index\n",
    "list3"
   ]
  },
  {
   "cell_type": "code",
   "execution_count": 29,
   "metadata": {},
   "outputs": [],
   "source": [
    "dfi3[\"col_sum\"]=round(dfi3.apply(lambda x: x.sum(),axis=1),2)\n",
    "\n",
    "#df.loc['Row_sum'] = df.apply(lambda x: x.sum())\n",
    "#df['Col_sum'] = df.apply(lambda x: x.sum(), axis=1)\n",
    "\n",
    "#dfi2.loc['rox_sum']=dfi2[\"王者\"].apply(lambda x : x.sum())\n",
    "#dfi2[\"col_sum\"]=dfi2.apply(lambda x: x.sum(),axis=1)\n",
    "#https://www.cnblogs.com/wuzhiblog/p/python_new_row_or_col.html"
   ]
  },
  {
   "cell_type": "code",
   "execution_count": 30,
   "metadata": {},
   "outputs": [],
   "source": [
    "dfi3.loc[\"row_sum\"]=round(dfi3.apply(lambda x:x.sum()),2)"
   ]
  },
  {
   "cell_type": "code",
   "execution_count": 31,
   "metadata": {
    "scrolled": true
   },
   "outputs": [
    {
     "data": {
      "text/html": [
       "<div>\n",
       "<style scoped>\n",
       "    .dataframe tbody tr th:only-of-type {\n",
       "        vertical-align: middle;\n",
       "    }\n",
       "\n",
       "    .dataframe tbody tr th {\n",
       "        vertical-align: top;\n",
       "    }\n",
       "\n",
       "    .dataframe thead th {\n",
       "        text-align: right;\n",
       "    }\n",
       "</style>\n",
       "<table border=\"1\" class=\"dataframe\">\n",
       "  <thead>\n",
       "    <tr style=\"text-align: right;\">\n",
       "      <th></th>\n",
       "      <th>王者</th>\n",
       "      <th>知乎</th>\n",
       "      <th>微信</th>\n",
       "      <th>微博</th>\n",
       "      <th>col_sum</th>\n",
       "    </tr>\n",
       "    <tr>\n",
       "      <th>日期</th>\n",
       "      <th></th>\n",
       "      <th></th>\n",
       "      <th></th>\n",
       "      <th></th>\n",
       "      <th></th>\n",
       "    </tr>\n",
       "  </thead>\n",
       "  <tbody>\n",
       "    <tr>\n",
       "      <th>2020-03-01 00:00:00</th>\n",
       "      <td>0.883333</td>\n",
       "      <td>0.066667</td>\n",
       "      <td>0.133333</td>\n",
       "      <td>0.000000</td>\n",
       "      <td>1.08</td>\n",
       "    </tr>\n",
       "    <tr>\n",
       "      <th>2020-02-29 00:00:00</th>\n",
       "      <td>3.150000</td>\n",
       "      <td>0.000000</td>\n",
       "      <td>0.966667</td>\n",
       "      <td>1.133333</td>\n",
       "      <td>5.25</td>\n",
       "    </tr>\n",
       "    <tr>\n",
       "      <th>2020-02-28 00:00:00</th>\n",
       "      <td>2.450000</td>\n",
       "      <td>1.216667</td>\n",
       "      <td>0.383333</td>\n",
       "      <td>0.666667</td>\n",
       "      <td>4.72</td>\n",
       "    </tr>\n",
       "    <tr>\n",
       "      <th>2020-02-27 00:00:00</th>\n",
       "      <td>3.100000</td>\n",
       "      <td>0.400000</td>\n",
       "      <td>0.266667</td>\n",
       "      <td>0.400000</td>\n",
       "      <td>4.17</td>\n",
       "    </tr>\n",
       "    <tr>\n",
       "      <th>2020-02-26 00:00:00</th>\n",
       "      <td>2.966667</td>\n",
       "      <td>0.700000</td>\n",
       "      <td>0.600000</td>\n",
       "      <td>0.683333</td>\n",
       "      <td>4.95</td>\n",
       "    </tr>\n",
       "    <tr>\n",
       "      <th>2020-02-25 00:00:00</th>\n",
       "      <td>2.166667</td>\n",
       "      <td>0.316667</td>\n",
       "      <td>0.316667</td>\n",
       "      <td>0.750000</td>\n",
       "      <td>3.55</td>\n",
       "    </tr>\n",
       "    <tr>\n",
       "      <th>2020-02-24 00:00:00</th>\n",
       "      <td>5.483333</td>\n",
       "      <td>0.083333</td>\n",
       "      <td>0.266667</td>\n",
       "      <td>0.300000</td>\n",
       "      <td>6.13</td>\n",
       "    </tr>\n",
       "    <tr>\n",
       "      <th>2020-02-23 00:00:00</th>\n",
       "      <td>4.600000</td>\n",
       "      <td>0.000000</td>\n",
       "      <td>0.216667</td>\n",
       "      <td>0.633333</td>\n",
       "      <td>5.45</td>\n",
       "    </tr>\n",
       "    <tr>\n",
       "      <th>2020-02-22 00:00:00</th>\n",
       "      <td>3.850000</td>\n",
       "      <td>0.383333</td>\n",
       "      <td>0.283333</td>\n",
       "      <td>0.300000</td>\n",
       "      <td>4.82</td>\n",
       "    </tr>\n",
       "    <tr>\n",
       "      <th>2020-02-21 00:00:00</th>\n",
       "      <td>3.616667</td>\n",
       "      <td>0.966667</td>\n",
       "      <td>0.350000</td>\n",
       "      <td>0.600000</td>\n",
       "      <td>5.53</td>\n",
       "    </tr>\n",
       "    <tr>\n",
       "      <th>2020-02-20 00:00:00</th>\n",
       "      <td>5.550000</td>\n",
       "      <td>0.200000</td>\n",
       "      <td>0.183333</td>\n",
       "      <td>0.783333</td>\n",
       "      <td>6.72</td>\n",
       "    </tr>\n",
       "    <tr>\n",
       "      <th>2020-02-19 00:00:00</th>\n",
       "      <td>4.383333</td>\n",
       "      <td>0.666667</td>\n",
       "      <td>0.616667</td>\n",
       "      <td>1.433333</td>\n",
       "      <td>7.10</td>\n",
       "    </tr>\n",
       "    <tr>\n",
       "      <th>2020-02-18 00:00:00</th>\n",
       "      <td>3.850000</td>\n",
       "      <td>0.833333</td>\n",
       "      <td>0.366667</td>\n",
       "      <td>0.833333</td>\n",
       "      <td>5.88</td>\n",
       "    </tr>\n",
       "    <tr>\n",
       "      <th>2020-02-17 00:00:00</th>\n",
       "      <td>2.950000</td>\n",
       "      <td>1.050000</td>\n",
       "      <td>0.800000</td>\n",
       "      <td>0.833333</td>\n",
       "      <td>5.63</td>\n",
       "    </tr>\n",
       "    <tr>\n",
       "      <th>2020-02-16 00:00:00</th>\n",
       "      <td>4.483333</td>\n",
       "      <td>0.750000</td>\n",
       "      <td>0.400000</td>\n",
       "      <td>0.000000</td>\n",
       "      <td>5.63</td>\n",
       "    </tr>\n",
       "    <tr>\n",
       "      <th>2020-02-15 00:00:00</th>\n",
       "      <td>3.433333</td>\n",
       "      <td>0.816667</td>\n",
       "      <td>0.300000</td>\n",
       "      <td>1.150000</td>\n",
       "      <td>5.70</td>\n",
       "    </tr>\n",
       "    <tr>\n",
       "      <th>2020-02-14 00:00:00</th>\n",
       "      <td>0.666667</td>\n",
       "      <td>0.350000</td>\n",
       "      <td>0.883333</td>\n",
       "      <td>0.066667</td>\n",
       "      <td>1.97</td>\n",
       "    </tr>\n",
       "    <tr>\n",
       "      <th>2020-02-13 00:00:00</th>\n",
       "      <td>2.500000</td>\n",
       "      <td>0.183333</td>\n",
       "      <td>0.983333</td>\n",
       "      <td>0.883333</td>\n",
       "      <td>4.55</td>\n",
       "    </tr>\n",
       "    <tr>\n",
       "      <th>2020-02-12 00:00:00</th>\n",
       "      <td>2.850000</td>\n",
       "      <td>0.866667</td>\n",
       "      <td>1.200000</td>\n",
       "      <td>0.166667</td>\n",
       "      <td>5.08</td>\n",
       "    </tr>\n",
       "    <tr>\n",
       "      <th>2020-02-11 00:00:00</th>\n",
       "      <td>1.550000</td>\n",
       "      <td>0.133333</td>\n",
       "      <td>0.516667</td>\n",
       "      <td>0.666667</td>\n",
       "      <td>2.87</td>\n",
       "    </tr>\n",
       "    <tr>\n",
       "      <th>2020-02-10 00:00:00</th>\n",
       "      <td>1.400000</td>\n",
       "      <td>0.233333</td>\n",
       "      <td>0.933333</td>\n",
       "      <td>0.566667</td>\n",
       "      <td>3.13</td>\n",
       "    </tr>\n",
       "    <tr>\n",
       "      <th>2020-02-09 00:00:00</th>\n",
       "      <td>1.700000</td>\n",
       "      <td>0.100000</td>\n",
       "      <td>8.316667</td>\n",
       "      <td>0.133333</td>\n",
       "      <td>10.25</td>\n",
       "    </tr>\n",
       "    <tr>\n",
       "      <th>row_sum</th>\n",
       "      <td>67.580000</td>\n",
       "      <td>10.320000</td>\n",
       "      <td>19.280000</td>\n",
       "      <td>12.980000</td>\n",
       "      <td>110.16</td>\n",
       "    </tr>\n",
       "  </tbody>\n",
       "</table>\n",
       "</div>"
      ],
      "text/plain": [
       "                            王者         知乎         微信         微博  col_sum\n",
       "日期                                                                      \n",
       "2020-03-01 00:00:00   0.883333   0.066667   0.133333   0.000000     1.08\n",
       "2020-02-29 00:00:00   3.150000   0.000000   0.966667   1.133333     5.25\n",
       "2020-02-28 00:00:00   2.450000   1.216667   0.383333   0.666667     4.72\n",
       "2020-02-27 00:00:00   3.100000   0.400000   0.266667   0.400000     4.17\n",
       "2020-02-26 00:00:00   2.966667   0.700000   0.600000   0.683333     4.95\n",
       "2020-02-25 00:00:00   2.166667   0.316667   0.316667   0.750000     3.55\n",
       "2020-02-24 00:00:00   5.483333   0.083333   0.266667   0.300000     6.13\n",
       "2020-02-23 00:00:00   4.600000   0.000000   0.216667   0.633333     5.45\n",
       "2020-02-22 00:00:00   3.850000   0.383333   0.283333   0.300000     4.82\n",
       "2020-02-21 00:00:00   3.616667   0.966667   0.350000   0.600000     5.53\n",
       "2020-02-20 00:00:00   5.550000   0.200000   0.183333   0.783333     6.72\n",
       "2020-02-19 00:00:00   4.383333   0.666667   0.616667   1.433333     7.10\n",
       "2020-02-18 00:00:00   3.850000   0.833333   0.366667   0.833333     5.88\n",
       "2020-02-17 00:00:00   2.950000   1.050000   0.800000   0.833333     5.63\n",
       "2020-02-16 00:00:00   4.483333   0.750000   0.400000   0.000000     5.63\n",
       "2020-02-15 00:00:00   3.433333   0.816667   0.300000   1.150000     5.70\n",
       "2020-02-14 00:00:00   0.666667   0.350000   0.883333   0.066667     1.97\n",
       "2020-02-13 00:00:00   2.500000   0.183333   0.983333   0.883333     4.55\n",
       "2020-02-12 00:00:00   2.850000   0.866667   1.200000   0.166667     5.08\n",
       "2020-02-11 00:00:00   1.550000   0.133333   0.516667   0.666667     2.87\n",
       "2020-02-10 00:00:00   1.400000   0.233333   0.933333   0.566667     3.13\n",
       "2020-02-09 00:00:00   1.700000   0.100000   8.316667   0.133333    10.25\n",
       "row_sum              67.580000  10.320000  19.280000  12.980000   110.16"
      ]
     },
     "execution_count": 31,
     "metadata": {},
     "output_type": "execute_result"
    }
   ],
   "source": [
    "dfi3"
   ]
  },
  {
   "cell_type": "code",
   "execution_count": 32,
   "metadata": {},
   "outputs": [],
   "source": [
    "dfi3.loc[\"row_mean\"]=round(dfi3.loc['row_sum']/(dfi3.count()-1),2)"
   ]
  },
  {
   "cell_type": "code",
   "execution_count": 33,
   "metadata": {
    "scrolled": true
   },
   "outputs": [
    {
     "data": {
      "text/html": [
       "<div>\n",
       "<style scoped>\n",
       "    .dataframe tbody tr th:only-of-type {\n",
       "        vertical-align: middle;\n",
       "    }\n",
       "\n",
       "    .dataframe tbody tr th {\n",
       "        vertical-align: top;\n",
       "    }\n",
       "\n",
       "    .dataframe thead th {\n",
       "        text-align: right;\n",
       "    }\n",
       "</style>\n",
       "<table border=\"1\" class=\"dataframe\">\n",
       "  <thead>\n",
       "    <tr style=\"text-align: right;\">\n",
       "      <th></th>\n",
       "      <th>王者</th>\n",
       "      <th>知乎</th>\n",
       "      <th>微信</th>\n",
       "      <th>微博</th>\n",
       "      <th>col_sum</th>\n",
       "    </tr>\n",
       "    <tr>\n",
       "      <th>日期</th>\n",
       "      <th></th>\n",
       "      <th></th>\n",
       "      <th></th>\n",
       "      <th></th>\n",
       "      <th></th>\n",
       "    </tr>\n",
       "  </thead>\n",
       "  <tbody>\n",
       "    <tr>\n",
       "      <th>2020-03-01 00:00:00</th>\n",
       "      <td>0.883333</td>\n",
       "      <td>0.066667</td>\n",
       "      <td>0.133333</td>\n",
       "      <td>0.000000</td>\n",
       "      <td>1.08</td>\n",
       "    </tr>\n",
       "    <tr>\n",
       "      <th>2020-02-29 00:00:00</th>\n",
       "      <td>3.150000</td>\n",
       "      <td>0.000000</td>\n",
       "      <td>0.966667</td>\n",
       "      <td>1.133333</td>\n",
       "      <td>5.25</td>\n",
       "    </tr>\n",
       "    <tr>\n",
       "      <th>2020-02-28 00:00:00</th>\n",
       "      <td>2.450000</td>\n",
       "      <td>1.216667</td>\n",
       "      <td>0.383333</td>\n",
       "      <td>0.666667</td>\n",
       "      <td>4.72</td>\n",
       "    </tr>\n",
       "    <tr>\n",
       "      <th>2020-02-27 00:00:00</th>\n",
       "      <td>3.100000</td>\n",
       "      <td>0.400000</td>\n",
       "      <td>0.266667</td>\n",
       "      <td>0.400000</td>\n",
       "      <td>4.17</td>\n",
       "    </tr>\n",
       "    <tr>\n",
       "      <th>2020-02-26 00:00:00</th>\n",
       "      <td>2.966667</td>\n",
       "      <td>0.700000</td>\n",
       "      <td>0.600000</td>\n",
       "      <td>0.683333</td>\n",
       "      <td>4.95</td>\n",
       "    </tr>\n",
       "    <tr>\n",
       "      <th>2020-02-25 00:00:00</th>\n",
       "      <td>2.166667</td>\n",
       "      <td>0.316667</td>\n",
       "      <td>0.316667</td>\n",
       "      <td>0.750000</td>\n",
       "      <td>3.55</td>\n",
       "    </tr>\n",
       "    <tr>\n",
       "      <th>2020-02-24 00:00:00</th>\n",
       "      <td>5.483333</td>\n",
       "      <td>0.083333</td>\n",
       "      <td>0.266667</td>\n",
       "      <td>0.300000</td>\n",
       "      <td>6.13</td>\n",
       "    </tr>\n",
       "    <tr>\n",
       "      <th>2020-02-23 00:00:00</th>\n",
       "      <td>4.600000</td>\n",
       "      <td>0.000000</td>\n",
       "      <td>0.216667</td>\n",
       "      <td>0.633333</td>\n",
       "      <td>5.45</td>\n",
       "    </tr>\n",
       "    <tr>\n",
       "      <th>2020-02-22 00:00:00</th>\n",
       "      <td>3.850000</td>\n",
       "      <td>0.383333</td>\n",
       "      <td>0.283333</td>\n",
       "      <td>0.300000</td>\n",
       "      <td>4.82</td>\n",
       "    </tr>\n",
       "    <tr>\n",
       "      <th>2020-02-21 00:00:00</th>\n",
       "      <td>3.616667</td>\n",
       "      <td>0.966667</td>\n",
       "      <td>0.350000</td>\n",
       "      <td>0.600000</td>\n",
       "      <td>5.53</td>\n",
       "    </tr>\n",
       "    <tr>\n",
       "      <th>2020-02-20 00:00:00</th>\n",
       "      <td>5.550000</td>\n",
       "      <td>0.200000</td>\n",
       "      <td>0.183333</td>\n",
       "      <td>0.783333</td>\n",
       "      <td>6.72</td>\n",
       "    </tr>\n",
       "    <tr>\n",
       "      <th>2020-02-19 00:00:00</th>\n",
       "      <td>4.383333</td>\n",
       "      <td>0.666667</td>\n",
       "      <td>0.616667</td>\n",
       "      <td>1.433333</td>\n",
       "      <td>7.10</td>\n",
       "    </tr>\n",
       "    <tr>\n",
       "      <th>2020-02-18 00:00:00</th>\n",
       "      <td>3.850000</td>\n",
       "      <td>0.833333</td>\n",
       "      <td>0.366667</td>\n",
       "      <td>0.833333</td>\n",
       "      <td>5.88</td>\n",
       "    </tr>\n",
       "    <tr>\n",
       "      <th>2020-02-17 00:00:00</th>\n",
       "      <td>2.950000</td>\n",
       "      <td>1.050000</td>\n",
       "      <td>0.800000</td>\n",
       "      <td>0.833333</td>\n",
       "      <td>5.63</td>\n",
       "    </tr>\n",
       "    <tr>\n",
       "      <th>2020-02-16 00:00:00</th>\n",
       "      <td>4.483333</td>\n",
       "      <td>0.750000</td>\n",
       "      <td>0.400000</td>\n",
       "      <td>0.000000</td>\n",
       "      <td>5.63</td>\n",
       "    </tr>\n",
       "    <tr>\n",
       "      <th>2020-02-15 00:00:00</th>\n",
       "      <td>3.433333</td>\n",
       "      <td>0.816667</td>\n",
       "      <td>0.300000</td>\n",
       "      <td>1.150000</td>\n",
       "      <td>5.70</td>\n",
       "    </tr>\n",
       "    <tr>\n",
       "      <th>2020-02-14 00:00:00</th>\n",
       "      <td>0.666667</td>\n",
       "      <td>0.350000</td>\n",
       "      <td>0.883333</td>\n",
       "      <td>0.066667</td>\n",
       "      <td>1.97</td>\n",
       "    </tr>\n",
       "    <tr>\n",
       "      <th>2020-02-13 00:00:00</th>\n",
       "      <td>2.500000</td>\n",
       "      <td>0.183333</td>\n",
       "      <td>0.983333</td>\n",
       "      <td>0.883333</td>\n",
       "      <td>4.55</td>\n",
       "    </tr>\n",
       "    <tr>\n",
       "      <th>2020-02-12 00:00:00</th>\n",
       "      <td>2.850000</td>\n",
       "      <td>0.866667</td>\n",
       "      <td>1.200000</td>\n",
       "      <td>0.166667</td>\n",
       "      <td>5.08</td>\n",
       "    </tr>\n",
       "    <tr>\n",
       "      <th>2020-02-11 00:00:00</th>\n",
       "      <td>1.550000</td>\n",
       "      <td>0.133333</td>\n",
       "      <td>0.516667</td>\n",
       "      <td>0.666667</td>\n",
       "      <td>2.87</td>\n",
       "    </tr>\n",
       "    <tr>\n",
       "      <th>2020-02-10 00:00:00</th>\n",
       "      <td>1.400000</td>\n",
       "      <td>0.233333</td>\n",
       "      <td>0.933333</td>\n",
       "      <td>0.566667</td>\n",
       "      <td>3.13</td>\n",
       "    </tr>\n",
       "    <tr>\n",
       "      <th>2020-02-09 00:00:00</th>\n",
       "      <td>1.700000</td>\n",
       "      <td>0.100000</td>\n",
       "      <td>8.316667</td>\n",
       "      <td>0.133333</td>\n",
       "      <td>10.25</td>\n",
       "    </tr>\n",
       "    <tr>\n",
       "      <th>row_sum</th>\n",
       "      <td>67.580000</td>\n",
       "      <td>10.320000</td>\n",
       "      <td>19.280000</td>\n",
       "      <td>12.980000</td>\n",
       "      <td>110.16</td>\n",
       "    </tr>\n",
       "    <tr>\n",
       "      <th>row_mean</th>\n",
       "      <td>3.070000</td>\n",
       "      <td>0.470000</td>\n",
       "      <td>0.880000</td>\n",
       "      <td>0.590000</td>\n",
       "      <td>5.01</td>\n",
       "    </tr>\n",
       "  </tbody>\n",
       "</table>\n",
       "</div>"
      ],
      "text/plain": [
       "                            王者         知乎         微信         微博  col_sum\n",
       "日期                                                                      \n",
       "2020-03-01 00:00:00   0.883333   0.066667   0.133333   0.000000     1.08\n",
       "2020-02-29 00:00:00   3.150000   0.000000   0.966667   1.133333     5.25\n",
       "2020-02-28 00:00:00   2.450000   1.216667   0.383333   0.666667     4.72\n",
       "2020-02-27 00:00:00   3.100000   0.400000   0.266667   0.400000     4.17\n",
       "2020-02-26 00:00:00   2.966667   0.700000   0.600000   0.683333     4.95\n",
       "2020-02-25 00:00:00   2.166667   0.316667   0.316667   0.750000     3.55\n",
       "2020-02-24 00:00:00   5.483333   0.083333   0.266667   0.300000     6.13\n",
       "2020-02-23 00:00:00   4.600000   0.000000   0.216667   0.633333     5.45\n",
       "2020-02-22 00:00:00   3.850000   0.383333   0.283333   0.300000     4.82\n",
       "2020-02-21 00:00:00   3.616667   0.966667   0.350000   0.600000     5.53\n",
       "2020-02-20 00:00:00   5.550000   0.200000   0.183333   0.783333     6.72\n",
       "2020-02-19 00:00:00   4.383333   0.666667   0.616667   1.433333     7.10\n",
       "2020-02-18 00:00:00   3.850000   0.833333   0.366667   0.833333     5.88\n",
       "2020-02-17 00:00:00   2.950000   1.050000   0.800000   0.833333     5.63\n",
       "2020-02-16 00:00:00   4.483333   0.750000   0.400000   0.000000     5.63\n",
       "2020-02-15 00:00:00   3.433333   0.816667   0.300000   1.150000     5.70\n",
       "2020-02-14 00:00:00   0.666667   0.350000   0.883333   0.066667     1.97\n",
       "2020-02-13 00:00:00   2.500000   0.183333   0.983333   0.883333     4.55\n",
       "2020-02-12 00:00:00   2.850000   0.866667   1.200000   0.166667     5.08\n",
       "2020-02-11 00:00:00   1.550000   0.133333   0.516667   0.666667     2.87\n",
       "2020-02-10 00:00:00   1.400000   0.233333   0.933333   0.566667     3.13\n",
       "2020-02-09 00:00:00   1.700000   0.100000   8.316667   0.133333    10.25\n",
       "row_sum              67.580000  10.320000  19.280000  12.980000   110.16\n",
       "row_mean              3.070000   0.470000   0.880000   0.590000     5.01"
      ]
     },
     "execution_count": 33,
     "metadata": {},
     "output_type": "execute_result"
    }
   ],
   "source": [
    "dfi3"
   ]
  },
  {
   "cell_type": "code",
   "execution_count": 34,
   "metadata": {},
   "outputs": [
    {
     "data": {
      "text/plain": [
       "王者         24\n",
       "知乎         24\n",
       "微信         24\n",
       "微博         24\n",
       "col_sum    24\n",
       "dtype: int64"
      ]
     },
     "execution_count": 34,
     "metadata": {},
     "output_type": "execute_result"
    }
   ],
   "source": [
    "dfi3.count()"
   ]
  },
  {
   "cell_type": "code",
   "execution_count": 35,
   "metadata": {},
   "outputs": [
    {
     "data": {
      "text/plain": [
       "王者         5.759722\n",
       "知乎         0.879444\n",
       "微信         1.643472\n",
       "微博         1.106389\n",
       "col_sum    9.388750\n",
       "dtype: float64"
      ]
     },
     "execution_count": 35,
     "metadata": {},
     "output_type": "execute_result"
    }
   ],
   "source": [
    "dfi3.mean()"
   ]
  },
  {
   "cell_type": "code",
   "execution_count": 36,
   "metadata": {},
   "outputs": [
    {
     "data": {
      "text/plain": [
       "'\\n%matplotlib inline\\nplt.rcParams[\"font.sans-serif\"] = \\'SimHei\\'\\nplt.rcParams[\\'axes.unicode_minus\\'] = False\\n%config InlineBackend.figue_format = \\'svg\\'\\n'"
      ]
     },
     "execution_count": 36,
     "metadata": {},
     "output_type": "execute_result"
    }
   ],
   "source": [
    "import matplotlib.pyplot as plt\n",
    "'''\n",
    "%matplotlib inline\n",
    "plt.rcParams[\"font.sans-serif\"] = 'SimHei'\n",
    "plt.rcParams['axes.unicode_minus'] = False\n",
    "%config InlineBackend.figue_format = 'svg'\n",
    "'''"
   ]
  },
  {
   "cell_type": "code",
   "execution_count": 37,
   "metadata": {},
   "outputs": [
    {
     "data": {
      "image/png": "[encoded data removed]",
      "text/plain": [
       "<Figure size 432x288 with 2 Axes>"
      ]
     },
     "metadata": {
      "needs_background": "light"
     },
     "output_type": "display_data"
    }
   ],
   "source": [
    "fig = plt.figure()\n",
    "ax1 = fig.add_subplot(2,2,1)\n",
    "ax2 = fig.add_subplot(2,2,2)"
   ]
  },
  {
   "cell_type": "code",
   "execution_count": 38,
   "metadata": {},
   "outputs": [
    {
     "data": {
      "text/plain": [
       "[<matplotlib.lines.Line2D at 0x1eef8c6aeb8>]"
      ]
     },
     "execution_count": 38,
     "metadata": {},
     "output_type": "execute_result"
    },
    {
     "data": {
      "image/png": "[encoded data removed]",
      "text/plain": [
       "<Figure size 432x288 with 1 Axes>"
      ]
     },
     "metadata": {
      "needs_background": "light"
     },
     "output_type": "display_data"
    }
   ],
   "source": [
    "plt.plot(range(10))"
   ]
  },
  {
   "cell_type": "code",
   "execution_count": 40,
   "metadata": {
    "scrolled": true
   },
   "outputs": [
    {
     "data": {
      "text/plain": [
       "日期\n",
       "2020-03-01 00:00:00     0.883333\n",
       "2020-02-29 00:00:00     3.150000\n",
       "2020-02-28 00:00:00     2.450000\n",
       "2020-02-27 00:00:00     3.100000\n",
       "2020-02-26 00:00:00     2.966667\n",
       "2020-02-25 00:00:00     2.166667\n",
       "2020-02-24 00:00:00     5.483333\n",
       "2020-02-23 00:00:00     4.600000\n",
       "2020-02-22 00:00:00     3.850000\n",
       "2020-02-21 00:00:00     3.616667\n",
       "2020-02-20 00:00:00     5.550000\n",
       "2020-02-19 00:00:00     4.383333\n",
       "2020-02-18 00:00:00     3.850000\n",
       "2020-02-17 00:00:00     2.950000\n",
       "2020-02-16 00:00:00     4.483333\n",
       "2020-02-15 00:00:00     3.433333\n",
       "2020-02-14 00:00:00     0.666667\n",
       "2020-02-13 00:00:00     2.500000\n",
       "2020-02-12 00:00:00     2.850000\n",
       "2020-02-11 00:00:00     1.550000\n",
       "2020-02-10 00:00:00     1.400000\n",
       "2020-02-09 00:00:00     1.700000\n",
       "row_sum                67.580000\n",
       "row_mean                3.070000\n",
       "Name: 王者, dtype: float64"
      ]
     },
     "execution_count": 40,
     "metadata": {},
     "output_type": "execute_result"
    }
   ],
   "source": [
    "dfi3[\"王者\"]"
   ]
  },
  {
   "cell_type": "code",
   "execution_count": 41,
   "metadata": {},
   "outputs": [
    {
     "data": {
      "text/plain": [
       "<matplotlib.axes._subplots.AxesSubplot at 0x1eef8c67cc0>"
      ]
     },
     "execution_count": 41,
     "metadata": {},
     "output_type": "execute_result"
    },
    {
     "data": {
      "image/png": "[encoded data removed]",
      "text/plain": [
       "<Figure size 432x288 with 1 Axes>"
      ]
     },
     "metadata": {
      "needs_background": "light"
     },
     "output_type": "display_data"
    }
   ],
   "source": [
    "dfi3[\"王者\"].plot()"
   ]
  },
  {
   "cell_type": "code",
   "execution_count": null,
   "metadata": {},
   "outputs": [],
   "source": []
  },
  {
   "cell_type": "code",
   "execution_count": null,
   "metadata": {},
   "outputs": [],
   "source": []
  }
 ],
 "metadata": {
  "kernelspec": {
   "display_name": "Python 3",
   "language": "python",
   "name": "python3"
  },
  "language_info": {
   "codemirror_mode": {
    "name": "ipython",
    "version": 3
   },
   "file_extension": ".py",
   "mimetype": "text/x-python",
   "name": "python",
   "nbconvert_exporter": "python",
   "pygments_lexer": "ipython3",
   "version": "3.7.3"
  },
  "toc": {
   "base_numbering": 1,
   "nav_menu": {},
   "number_sections": true,
   "sideBar": true,
   "skip_h1_title": false,
   "title_cell": "Table of Contents",
   "title_sidebar": "Contents",
   "toc_cell": false,
   "toc_position": {
    "height": "calc(100% - 180px)",
    "left": "10px",
    "top": "150px",
    "width": "251px"
   },
   "toc_section_display": true,
   "toc_window_display": true
  }
 },
 "nbformat": 4,
 "nbformat_minor": 2
}
