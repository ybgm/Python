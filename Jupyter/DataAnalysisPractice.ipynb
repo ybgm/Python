{
 "cells": [
  {
   "cell_type": "code",
   "execution_count": 1,
   "metadata": {},
   "outputs": [],
   "source": [
    "import pandas as pd\n"
   ]
  },
  {
   "cell_type": "code",
   "execution_count": 2,
   "metadata": {},
   "outputs": [],
   "source": [
    "df = pd.read_excel(\"E:\\个人资料\\数据资料\\数据.xlsx\",sheet_name=\"phonetime\",headed=0,usecols= [0,1,2,3,4])"
   ]
  },
  {
   "cell_type": "code",
   "execution_count": 3,
   "metadata": {
    "scrolled": true
   },
   "outputs": [],
   "source": [
    "df.columns=['日期', '王者', '知乎', '微信', '微博']\n",
    "dfi=df.drop(df.index[[0,1]],axis=0)\n",
    "dfi.fillna(0,inplace=True)\n",
    "\n",
    "#dfi.reset_index(drop=True)\n",
    "dfi.set_index('日期',inplace=True)\n",
    "#dfi.reset_index(drop=True,inplace=True)\n"
   ]
  },
  {
   "cell_type": "code",
   "execution_count": 4,
   "metadata": {
    "scrolled": true
   },
   "outputs": [],
   "source": [
    "dfi2=dfi.iloc[:22]"
   ]
  },
  {
   "cell_type": "code",
   "execution_count": 5,
   "metadata": {},
   "outputs": [
    {
     "data": {
      "text/plain": [
       "array([0.88333333, 0.06666667, 0.13333333, 0.        ])"
      ]
     },
     "execution_count": 5,
     "metadata": {},
     "output_type": "execute_result"
    }
   ],
   "source": [
    "dfi2.columns\n",
    "dfi2.values[0]"
   ]
  },
  {
   "cell_type": "code",
   "execution_count": 6,
   "metadata": {},
   "outputs": [
    {
     "data": {
      "text/html": [
       "<div>\n",
       "<style scoped>\n",
       "    .dataframe tbody tr th:only-of-type {\n",
       "        vertical-align: middle;\n",
       "    }\n",
       "\n",
       "    .dataframe tbody tr th {\n",
       "        vertical-align: top;\n",
       "    }\n",
       "\n",
       "    .dataframe thead th {\n",
       "        text-align: right;\n",
       "    }\n",
       "</style>\n",
       "<table border=\"1\" class=\"dataframe\">\n",
       "  <thead>\n",
       "    <tr style=\"text-align: right;\">\n",
       "      <th></th>\n",
       "      <th>王者</th>\n",
       "      <th>知乎</th>\n",
       "      <th>微信</th>\n",
       "      <th>微博</th>\n",
       "    </tr>\n",
       "    <tr>\n",
       "      <th>日期</th>\n",
       "      <th></th>\n",
       "      <th></th>\n",
       "      <th></th>\n",
       "      <th></th>\n",
       "    </tr>\n",
       "  </thead>\n",
       "  <tbody>\n",
       "    <tr>\n",
       "      <th>2020-03-01</th>\n",
       "      <td>0.883333</td>\n",
       "      <td>0.066667</td>\n",
       "      <td>0.133333</td>\n",
       "      <td>0.000000</td>\n",
       "    </tr>\n",
       "    <tr>\n",
       "      <th>2020-02-29</th>\n",
       "      <td>3.150000</td>\n",
       "      <td>0.000000</td>\n",
       "      <td>0.966667</td>\n",
       "      <td>1.133333</td>\n",
       "    </tr>\n",
       "    <tr>\n",
       "      <th>2020-02-28</th>\n",
       "      <td>2.450000</td>\n",
       "      <td>1.216667</td>\n",
       "      <td>0.383333</td>\n",
       "      <td>0.666667</td>\n",
       "    </tr>\n",
       "    <tr>\n",
       "      <th>2020-02-27</th>\n",
       "      <td>3.100000</td>\n",
       "      <td>0.400000</td>\n",
       "      <td>0.266667</td>\n",
       "      <td>0.400000</td>\n",
       "    </tr>\n",
       "    <tr>\n",
       "      <th>2020-02-26</th>\n",
       "      <td>2.966667</td>\n",
       "      <td>0.700000</td>\n",
       "      <td>0.600000</td>\n",
       "      <td>0.683333</td>\n",
       "    </tr>\n",
       "  </tbody>\n",
       "</table>\n",
       "</div>"
      ],
      "text/plain": [
       "                  王者        知乎        微信        微博\n",
       "日期                                                \n",
       "2020-03-01  0.883333  0.066667  0.133333  0.000000\n",
       "2020-02-29  3.150000  0.000000  0.966667  1.133333\n",
       "2020-02-28  2.450000  1.216667  0.383333  0.666667\n",
       "2020-02-27  3.100000  0.400000  0.266667  0.400000\n",
       "2020-02-26  2.966667  0.700000  0.600000  0.683333"
      ]
     },
     "execution_count": 6,
     "metadata": {},
     "output_type": "execute_result"
    }
   ],
   "source": [
    "dfi2.head()"
   ]
  },
  {
   "cell_type": "code",
   "execution_count": 7,
   "metadata": {},
   "outputs": [
    {
     "data": {
      "text/plain": [
       "DatetimeIndex(['2020-03-01', '2020-02-29', '2020-02-28', '2020-02-27',\n",
       "               '2020-02-26', '2020-02-25', '2020-02-24', '2020-02-23',\n",
       "               '2020-02-22', '2020-02-21', '2020-02-20', '2020-02-19',\n",
       "               '2020-02-18', '2020-02-17', '2020-02-16', '2020-02-15',\n",
       "               '2020-02-14', '2020-02-13', '2020-02-12', '2020-02-11',\n",
       "               '2020-02-10', '2020-02-09'],\n",
       "              dtype='datetime64[ns]', name='日期', freq=None)"
      ]
     },
     "execution_count": 7,
     "metadata": {},
     "output_type": "execute_result"
    }
   ],
   "source": [
    "dfi2.index"
   ]
  },
  {
   "cell_type": "code",
   "execution_count": 8,
   "metadata": {},
   "outputs": [
    {
     "data": {
      "text/plain": [
       "67.58333333333334"
      ]
     },
     "execution_count": 8,
     "metadata": {},
     "output_type": "execute_result"
    }
   ],
   "source": [
    "dfi2[\"王者\"].sum()"
   ]
  },
  {
   "cell_type": "code",
   "execution_count": 9,
   "metadata": {},
   "outputs": [
    {
     "data": {
      "text/plain": [
       "12.98333333333333"
      ]
     },
     "execution_count": 9,
     "metadata": {},
     "output_type": "execute_result"
    }
   ],
   "source": [
    "dfi2['微博'].sum()"
   ]
  },
  {
   "cell_type": "code",
   "execution_count": 10,
   "metadata": {
    "scrolled": false
   },
   "outputs": [],
   "source": [
    "#dfi2['王者'].astype(\"int\")"
   ]
  },
  {
   "cell_type": "code",
   "execution_count": 11,
   "metadata": {},
   "outputs": [
    {
     "data": {
      "text/plain": [
       "dtype('float64')"
      ]
     },
     "execution_count": 11,
     "metadata": {},
     "output_type": "execute_result"
    }
   ],
   "source": [
    "dfi2['王者'].dtype"
   ]
  },
  {
   "cell_type": "code",
   "execution_count": 12,
   "metadata": {},
   "outputs": [
    {
     "data": {
      "text/plain": [
       "\"\\nlists = ['王者','知乎','微信','微博']\\na=[]\\nfor i in lists:\\n    a = dfi2[i].sum()\\n    print (i,a)  \\n\""
      ]
     },
     "execution_count": 12,
     "metadata": {},
     "output_type": "execute_result"
    }
   ],
   "source": [
    "'''\n",
    "lists = ['王者','知乎','微信','微博']\n",
    "a=[]\n",
    "for i in lists:\n",
    "    a = dfi2[i].sum()\n",
    "    print (i,a)  \n",
    "'''"
   ]
  },
  {
   "cell_type": "code",
   "execution_count": 13,
   "metadata": {},
   "outputs": [],
   "source": [
    "lists = ['王者','知乎','微信','微博']\n",
    "def sums(lists):\n",
    "    for i in lists:\n",
    "        yield dfi2[i].sum()"
   ]
  },
  {
   "cell_type": "code",
   "execution_count": 14,
   "metadata": {},
   "outputs": [
    {
     "data": {
      "text/plain": [
       "[67.58333333333334, 10.316666666666665, 11.783333333333333, 12.98333333333333]"
      ]
     },
     "execution_count": 14,
     "metadata": {},
     "output_type": "execute_result"
    }
   ],
   "source": [
    "list(sums(lists))"
   ]
  },
  {
   "cell_type": "code",
   "execution_count": 15,
   "metadata": {},
   "outputs": [],
   "source": [
    "report = pd.Series(list(sums(lists)),index=[lists])"
   ]
  },
  {
   "cell_type": "code",
   "execution_count": 16,
   "metadata": {},
   "outputs": [
    {
     "data": {
      "text/plain": [
       "王者    67.583333\n",
       "知乎    10.316667\n",
       "微信    11.783333\n",
       "微博    12.983333\n",
       "dtype: float64"
      ]
     },
     "execution_count": 16,
     "metadata": {},
     "output_type": "execute_result"
    }
   ],
   "source": [
    "report"
   ]
  },
  {
   "cell_type": "code",
   "execution_count": 17,
   "metadata": {},
   "outputs": [
    {
     "data": {
      "text/plain": [
       "\"\\nlists = ['王者','知乎','微信','微博']\\ndef sums2(lists):\\n    for i in lists:\\n        yield dfi2[i].sum()\\nreport = pd.Series(list(sums2(lists)),index=[lists])\\nreport\\n\""
      ]
     },
     "execution_count": 17,
     "metadata": {},
     "output_type": "execute_result"
    }
   ],
   "source": [
    "'''\n",
    "lists = ['王者','知乎','微信','微博']\n",
    "def sums2(lists):\n",
    "    for i in lists:\n",
    "        yield dfi2[i].sum()\n",
    "report = pd.Series(list(sums2(lists)),index=[lists])\n",
    "report\n",
    "'''"
   ]
  },
  {
   "cell_type": "markdown",
   "metadata": {},
   "source": [
    "dfi2[\"col_sum\"]=round(dfi2.apply(lambda x: x.sum(),axis=1),2)\n",
    "\n",
    "#df.loc['Row_sum'] = df.apply(lambda x: x.sum())\n",
    "#df['Col_sum'] = df.apply(lambda x: x.sum(), axis=1)\n",
    "\n",
    "#dfi.loc['rox_sum']=dfi[\"王者\"].apply(lambda x : x.sum())\n",
    "#dfi[\"col_sum\"]=dfi.apply(lambda x: x.sum(),axis=1)\n",
    "#https://www.cnblogs.com/wuzhiblog/p/python_new_row_or_col.html"
   ]
  },
  {
   "cell_type": "markdown",
   "metadata": {},
   "source": [
    "dfi2.loc[\"row_sum\"]=round(dfi2.apply(lambda x:x.sum()),2)"
   ]
  },
  {
   "cell_type": "markdown",
   "metadata": {
    "scrolled": true
   },
   "source": [
    "dfi2.loc[\"row_mean\"]=round(dfi2.loc['row_sum']/(dfi2.count()-1),2)"
   ]
  },
  {
   "cell_type": "code",
   "execution_count": 18,
   "metadata": {
    "scrolled": true
   },
   "outputs": [
    {
     "data": {
      "text/html": [
       "<div>\n",
       "<style scoped>\n",
       "    .dataframe tbody tr th:only-of-type {\n",
       "        vertical-align: middle;\n",
       "    }\n",
       "\n",
       "    .dataframe tbody tr th {\n",
       "        vertical-align: top;\n",
       "    }\n",
       "\n",
       "    .dataframe thead th {\n",
       "        text-align: right;\n",
       "    }\n",
       "</style>\n",
       "<table border=\"1\" class=\"dataframe\">\n",
       "  <thead>\n",
       "    <tr style=\"text-align: right;\">\n",
       "      <th></th>\n",
       "      <th>王者</th>\n",
       "      <th>知乎</th>\n",
       "      <th>微信</th>\n",
       "      <th>微博</th>\n",
       "    </tr>\n",
       "    <tr>\n",
       "      <th>日期</th>\n",
       "      <th></th>\n",
       "      <th></th>\n",
       "      <th></th>\n",
       "      <th></th>\n",
       "    </tr>\n",
       "  </thead>\n",
       "  <tbody>\n",
       "    <tr>\n",
       "      <th>2020-03-01</th>\n",
       "      <td>0.883333</td>\n",
       "      <td>0.066667</td>\n",
       "      <td>0.133333</td>\n",
       "      <td>0.000000</td>\n",
       "    </tr>\n",
       "    <tr>\n",
       "      <th>2020-02-29</th>\n",
       "      <td>3.150000</td>\n",
       "      <td>0.000000</td>\n",
       "      <td>0.966667</td>\n",
       "      <td>1.133333</td>\n",
       "    </tr>\n",
       "    <tr>\n",
       "      <th>2020-02-28</th>\n",
       "      <td>2.450000</td>\n",
       "      <td>1.216667</td>\n",
       "      <td>0.383333</td>\n",
       "      <td>0.666667</td>\n",
       "    </tr>\n",
       "    <tr>\n",
       "      <th>2020-02-27</th>\n",
       "      <td>3.100000</td>\n",
       "      <td>0.400000</td>\n",
       "      <td>0.266667</td>\n",
       "      <td>0.400000</td>\n",
       "    </tr>\n",
       "    <tr>\n",
       "      <th>2020-02-26</th>\n",
       "      <td>2.966667</td>\n",
       "      <td>0.700000</td>\n",
       "      <td>0.600000</td>\n",
       "      <td>0.683333</td>\n",
       "    </tr>\n",
       "    <tr>\n",
       "      <th>2020-02-25</th>\n",
       "      <td>2.166667</td>\n",
       "      <td>0.316667</td>\n",
       "      <td>0.316667</td>\n",
       "      <td>0.750000</td>\n",
       "    </tr>\n",
       "    <tr>\n",
       "      <th>2020-02-24</th>\n",
       "      <td>5.483333</td>\n",
       "      <td>0.083333</td>\n",
       "      <td>0.266667</td>\n",
       "      <td>0.300000</td>\n",
       "    </tr>\n",
       "    <tr>\n",
       "      <th>2020-02-23</th>\n",
       "      <td>4.600000</td>\n",
       "      <td>0.000000</td>\n",
       "      <td>0.216667</td>\n",
       "      <td>0.633333</td>\n",
       "    </tr>\n",
       "    <tr>\n",
       "      <th>2020-02-22</th>\n",
       "      <td>3.850000</td>\n",
       "      <td>0.383333</td>\n",
       "      <td>0.283333</td>\n",
       "      <td>0.300000</td>\n",
       "    </tr>\n",
       "    <tr>\n",
       "      <th>2020-02-21</th>\n",
       "      <td>3.616667</td>\n",
       "      <td>0.966667</td>\n",
       "      <td>0.350000</td>\n",
       "      <td>0.600000</td>\n",
       "    </tr>\n",
       "    <tr>\n",
       "      <th>2020-02-20</th>\n",
       "      <td>5.550000</td>\n",
       "      <td>0.200000</td>\n",
       "      <td>0.183333</td>\n",
       "      <td>0.783333</td>\n",
       "    </tr>\n",
       "    <tr>\n",
       "      <th>2020-02-19</th>\n",
       "      <td>4.383333</td>\n",
       "      <td>0.666667</td>\n",
       "      <td>0.616667</td>\n",
       "      <td>1.433333</td>\n",
       "    </tr>\n",
       "    <tr>\n",
       "      <th>2020-02-18</th>\n",
       "      <td>3.850000</td>\n",
       "      <td>0.833333</td>\n",
       "      <td>0.366667</td>\n",
       "      <td>0.833333</td>\n",
       "    </tr>\n",
       "    <tr>\n",
       "      <th>2020-02-17</th>\n",
       "      <td>2.950000</td>\n",
       "      <td>1.050000</td>\n",
       "      <td>0.800000</td>\n",
       "      <td>0.833333</td>\n",
       "    </tr>\n",
       "    <tr>\n",
       "      <th>2020-02-16</th>\n",
       "      <td>4.483333</td>\n",
       "      <td>0.750000</td>\n",
       "      <td>0.400000</td>\n",
       "      <td>0.000000</td>\n",
       "    </tr>\n",
       "    <tr>\n",
       "      <th>2020-02-15</th>\n",
       "      <td>3.433333</td>\n",
       "      <td>0.816667</td>\n",
       "      <td>0.300000</td>\n",
       "      <td>1.150000</td>\n",
       "    </tr>\n",
       "    <tr>\n",
       "      <th>2020-02-14</th>\n",
       "      <td>0.666667</td>\n",
       "      <td>0.350000</td>\n",
       "      <td>0.883333</td>\n",
       "      <td>0.066667</td>\n",
       "    </tr>\n",
       "    <tr>\n",
       "      <th>2020-02-13</th>\n",
       "      <td>2.500000</td>\n",
       "      <td>0.183333</td>\n",
       "      <td>0.983333</td>\n",
       "      <td>0.883333</td>\n",
       "    </tr>\n",
       "    <tr>\n",
       "      <th>2020-02-12</th>\n",
       "      <td>2.850000</td>\n",
       "      <td>0.866667</td>\n",
       "      <td>1.200000</td>\n",
       "      <td>0.166667</td>\n",
       "    </tr>\n",
       "    <tr>\n",
       "      <th>2020-02-11</th>\n",
       "      <td>1.550000</td>\n",
       "      <td>0.133333</td>\n",
       "      <td>0.516667</td>\n",
       "      <td>0.666667</td>\n",
       "    </tr>\n",
       "    <tr>\n",
       "      <th>2020-02-10</th>\n",
       "      <td>1.400000</td>\n",
       "      <td>0.233333</td>\n",
       "      <td>0.933333</td>\n",
       "      <td>0.566667</td>\n",
       "    </tr>\n",
       "    <tr>\n",
       "      <th>2020-02-09</th>\n",
       "      <td>1.700000</td>\n",
       "      <td>0.100000</td>\n",
       "      <td>0.816667</td>\n",
       "      <td>0.133333</td>\n",
       "    </tr>\n",
       "  </tbody>\n",
       "</table>\n",
       "</div>"
      ],
      "text/plain": [
       "                  王者        知乎        微信        微博\n",
       "日期                                                \n",
       "2020-03-01  0.883333  0.066667  0.133333  0.000000\n",
       "2020-02-29  3.150000  0.000000  0.966667  1.133333\n",
       "2020-02-28  2.450000  1.216667  0.383333  0.666667\n",
       "2020-02-27  3.100000  0.400000  0.266667  0.400000\n",
       "2020-02-26  2.966667  0.700000  0.600000  0.683333\n",
       "2020-02-25  2.166667  0.316667  0.316667  0.750000\n",
       "2020-02-24  5.483333  0.083333  0.266667  0.300000\n",
       "2020-02-23  4.600000  0.000000  0.216667  0.633333\n",
       "2020-02-22  3.850000  0.383333  0.283333  0.300000\n",
       "2020-02-21  3.616667  0.966667  0.350000  0.600000\n",
       "2020-02-20  5.550000  0.200000  0.183333  0.783333\n",
       "2020-02-19  4.383333  0.666667  0.616667  1.433333\n",
       "2020-02-18  3.850000  0.833333  0.366667  0.833333\n",
       "2020-02-17  2.950000  1.050000  0.800000  0.833333\n",
       "2020-02-16  4.483333  0.750000  0.400000  0.000000\n",
       "2020-02-15  3.433333  0.816667  0.300000  1.150000\n",
       "2020-02-14  0.666667  0.350000  0.883333  0.066667\n",
       "2020-02-13  2.500000  0.183333  0.983333  0.883333\n",
       "2020-02-12  2.850000  0.866667  1.200000  0.166667\n",
       "2020-02-11  1.550000  0.133333  0.516667  0.666667\n",
       "2020-02-10  1.400000  0.233333  0.933333  0.566667\n",
       "2020-02-09  1.700000  0.100000  0.816667  0.133333"
      ]
     },
     "execution_count": 18,
     "metadata": {},
     "output_type": "execute_result"
    }
   ],
   "source": [
    "dfi2"
   ]
  },
  {
   "cell_type": "code",
   "execution_count": 19,
   "metadata": {},
   "outputs": [
    {
     "data": {
      "text/plain": [
       "王者    22\n",
       "知乎    22\n",
       "微信    22\n",
       "微博    22\n",
       "dtype: int64"
      ]
     },
     "execution_count": 19,
     "metadata": {},
     "output_type": "execute_result"
    }
   ],
   "source": [
    "dfi2.count()"
   ]
  },
  {
   "cell_type": "code",
   "execution_count": 20,
   "metadata": {},
   "outputs": [
    {
     "data": {
      "text/plain": [
       "王者    3.071970\n",
       "知乎    0.468939\n",
       "微信    0.535606\n",
       "微博    0.590152\n",
       "dtype: float64"
      ]
     },
     "execution_count": 20,
     "metadata": {},
     "output_type": "execute_result"
    }
   ],
   "source": [
    "dfi2.mean()"
   ]
  },
  {
   "cell_type": "code",
   "execution_count": 21,
   "metadata": {},
   "outputs": [
    {
     "data": {
      "text/plain": [
       "'\\n%matplotlib inline\\nplt.rcParams[\"font.sans-serif\"] = \\'SimHei\\'\\nplt.rcParams[\\'axes.unicode_minus\\'] = False\\n%config InlineBackend.figue_format = \\'svg\\'\\n'"
      ]
     },
     "execution_count": 21,
     "metadata": {},
     "output_type": "execute_result"
    }
   ],
   "source": [
    "import matplotlib.pyplot as plt\n",
    "'''\n",
    "%matplotlib inline\n",
    "plt.rcParams[\"font.sans-serif\"] = 'SimHei'\n",
    "plt.rcParams['axes.unicode_minus'] = False\n",
    "%config InlineBackend.figue_format = 'svg'\n",
    "'''"
   ]
  },
  {
   "cell_type": "code",
   "execution_count": 22,
   "metadata": {},
   "outputs": [
    {
     "data": {
      "image/png": "[encoded data removed]",
      "text/plain": [
       "<Figure size 432x288 with 2 Axes>"
      ]
     },
     "metadata": {
      "needs_background": "light"
     },
     "output_type": "display_data"
    }
   ],
   "source": [
    "fig = plt.figure()\n",
    "ax1 = fig.add_subplot(2,2,1)\n",
    "ax2 = fig.add_subplot(2,2,2)"
   ]
  },
  {
   "cell_type": "code",
   "execution_count": 23,
   "metadata": {
    "scrolled": false
   },
   "outputs": [
    {
     "data": {
      "text/plain": [
       "日期\n",
       "2020-03-01    0.883333\n",
       "2020-02-29    3.150000\n",
       "2020-02-28    2.450000\n",
       "2020-02-27    3.100000\n",
       "2020-02-26    2.966667\n",
       "2020-02-25    2.166667\n",
       "2020-02-24    5.483333\n",
       "2020-02-23    4.600000\n",
       "2020-02-22    3.850000\n",
       "2020-02-21    3.616667\n",
       "2020-02-20    5.550000\n",
       "2020-02-19    4.383333\n",
       "2020-02-18    3.850000\n",
       "2020-02-17    2.950000\n",
       "2020-02-16    4.483333\n",
       "2020-02-15    3.433333\n",
       "2020-02-14    0.666667\n",
       "2020-02-13    2.500000\n",
       "2020-02-12    2.850000\n",
       "2020-02-11    1.550000\n",
       "2020-02-10    1.400000\n",
       "2020-02-09    1.700000\n",
       "Name: 王者, dtype: float64"
      ]
     },
     "execution_count": 23,
     "metadata": {},
     "output_type": "execute_result"
    }
   ],
   "source": [
    "dfi2[\"王者\"]"
   ]
  },
  {
   "cell_type": "code",
   "execution_count": 37,
   "metadata": {},
   "outputs": [
    {
     "data": {
      "text/plain": [
       "array([0.88333333, 3.15      , 2.45      , 3.1       , 2.96666667,\n",
       "       2.16666667, 5.48333333, 4.6       , 3.85      , 3.61666667,\n",
       "       5.55      , 4.38333333, 3.85      , 2.95      , 4.48333333,\n",
       "       3.43333333, 0.66666667, 2.5       , 2.85      , 1.55      ,\n",
       "       1.4       , 1.7       ])"
      ]
     },
     "execution_count": 37,
     "metadata": {},
     "output_type": "execute_result"
    }
   ],
   "source": [
    "x=dfi2[\"王者\"].values\n",
    "x"
   ]
  },
  {
   "cell_type": "code",
   "execution_count": 39,
   "metadata": {
    "scrolled": true
   },
   "outputs": [
    {
     "data": {
      "text/plain": [
       "'\\nx=dfi2[\"王者\"].values\\ny=dfi2.index\\nfor a,b in zip(x,y):\\n    plt.text(a,b,b,ha=\\'center\\',va=\\'bottom\\',fontsize=\\'10\\')\\n数值太多，小数太多，无法显示\\n'"
      ]
     },
     "execution_count": 39,
     "metadata": {},
     "output_type": "execute_result"
    },
    {
     "data": {
      "image/png": "[encoded data removed]",
      "text/plain": [
       "<Figure size 432x288 with 1 Axes>"
      ]
     },
     "metadata": {
      "needs_background": "light"
     },
     "output_type": "display_data"
    }
   ],
   "source": [
    "dfi2[\"王者\"].plot()\n",
    "'''\n",
    "x=dfi2[\"王者\"].values\n",
    "y=dfi2.index\n",
    "for a,b in zip(x,y):\n",
    "    plt.text(a,b,b,ha='center',va='bottom',fontsize='10')\n",
    "数值太多，小数太多，无法显示\n",
    "'''"
   ]
  },
  {
   "cell_type": "code",
   "execution_count": 25,
   "metadata": {},
   "outputs": [
    {
     "data": {
      "text/plain": [
       "<matplotlib.axes._subplots.AxesSubplot at 0x24d9357a6a0>"
      ]
     },
     "execution_count": 25,
     "metadata": {},
     "output_type": "execute_result"
    },
    {
     "data": {
      "image/png": "[encoded data removed]",
      "text/plain": [
       "<Figure size 432x288 with 1 Axes>"
      ]
     },
     "metadata": {
      "needs_background": "light"
     },
     "output_type": "display_data"
    }
   ],
   "source": [
    "dfi2[\"知乎\"].plot()"
   ]
  },
  {
   "cell_type": "code",
   "execution_count": 26,
   "metadata": {},
   "outputs": [
    {
     "data": {
      "text/plain": [
       "<matplotlib.axes._subplots.AxesSubplot at 0x24d935919b0>"
      ]
     },
     "execution_count": 26,
     "metadata": {},
     "output_type": "execute_result"
    },
    {
     "data": {
      "image/png": "[encoded data removed]",
      "text/plain": [
       "<Figure size 432x288 with 1 Axes>"
      ]
     },
     "metadata": {
      "needs_background": "light"
     },
     "output_type": "display_data"
    }
   ],
   "source": [
    "dfi2[\"微信\"].plot()"
   ]
  },
  {
   "cell_type": "code",
   "execution_count": 27,
   "metadata": {},
   "outputs": [
    {
     "data": {
      "text/plain": [
       "<matplotlib.axes._subplots.AxesSubplot at 0x24d93607a90>"
      ]
     },
     "execution_count": 27,
     "metadata": {},
     "output_type": "execute_result"
    },
    {
     "data": {
      "image/png": "[encoded data removed]",
      "text/plain": [
       "<Figure size 432x288 with 1 Axes>"
      ]
     },
     "metadata": {
      "needs_background": "light"
     },
     "output_type": "display_data"
    }
   ],
   "source": [
    "dfi2[\"微博\"].plot()"
   ]
  },
  {
   "cell_type": "code",
   "execution_count": 28,
   "metadata": {},
   "outputs": [
    {
     "data": {
      "image/png": "[encoded data removed]",
      "text/plain": [
       "<Figure size 432x288 with 4 Axes>"
      ]
     },
     "metadata": {
      "needs_background": "light"
     },
     "output_type": "display_data"
    }
   ],
   "source": [
    "fig,axes = plt.subplots(2,2)"
   ]
  },
  {
   "cell_type": "code",
   "execution_count": 29,
   "metadata": {},
   "outputs": [
    {
     "data": {
      "text/plain": [
       "[<matplotlib.lines.Line2D at 0x24d93767240>]"
      ]
     },
     "execution_count": 29,
     "metadata": {},
     "output_type": "execute_result"
    }
   ],
   "source": [
    "axes[0,0].plot(dfi2[\"王者\"])"
   ]
  },
  {
   "cell_type": "code",
   "execution_count": null,
   "metadata": {},
   "outputs": [],
   "source": []
  }
 ],
 "metadata": {
  "kernelspec": {
   "display_name": "Python 3",
   "language": "python",
   "name": "python3"
  },
  "language_info": {
   "codemirror_mode": {
    "name": "ipython",
    "version": 3
   },
   "file_extension": ".py",
   "mimetype": "text/x-python",
   "name": "python",
   "nbconvert_exporter": "python",
   "pygments_lexer": "ipython3",
   "version": "3.7.3"
  },
  "toc": {
   "base_numbering": 1,
   "nav_menu": {},
   "number_sections": true,
   "sideBar": true,
   "skip_h1_title": false,
   "title_cell": "Table of Contents",
   "title_sidebar": "Contents",
   "toc_cell": false,
   "toc_position": {},
   "toc_section_display": true,
   "toc_window_display": false
  }
 },
 "nbformat": 4,
 "nbformat_minor": 2
}
